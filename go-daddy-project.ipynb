{
 "cells": [
  {
   "cell_type": "code",
   "execution_count": 1,
   "id": "ed3b2c5b",
   "metadata": {
    "_cell_guid": "b1076dfc-b9ad-4769-8c92-a6c4dae69d19",
    "_uuid": "8f2839f25d086af736a60e9eeb907d3b93b6e0e5",
    "execution": {
     "iopub.execute_input": "2023-01-24T01:08:14.352203Z",
     "iopub.status.busy": "2023-01-24T01:08:14.351727Z",
     "iopub.status.idle": "2023-01-24T01:08:14.365289Z",
     "shell.execute_reply": "2023-01-24T01:08:14.364016Z"
    },
    "papermill": {
     "duration": 0.02555,
     "end_time": "2023-01-24T01:08:14.367846",
     "exception": false,
     "start_time": "2023-01-24T01:08:14.342296",
     "status": "completed"
    },
    "tags": []
   },
   "outputs": [
    {
     "name": "stdout",
     "output_type": "stream",
     "text": [
      "/kaggle/input/godaddy-microbusiness-density-forecasting/sample_submission.csv\n",
      "/kaggle/input/godaddy-microbusiness-density-forecasting/census_starter.csv\n",
      "/kaggle/input/godaddy-microbusiness-density-forecasting/train.csv\n",
      "/kaggle/input/godaddy-microbusiness-density-forecasting/test.csv\n"
     ]
    }
   ],
   "source": [
    "#importing the required libraries\n",
    "import numpy as np \n",
    "import pandas as pd \n",
    "\n",
    "import os\n",
    "for dirname, _, filenames in os.walk('/kaggle/input'):\n",
    "    for filename in filenames:\n",
    "        print(os.path.join(dirname, filename))"
   ]
  },
  {
   "cell_type": "code",
   "execution_count": 2,
   "id": "7c17efff",
   "metadata": {
    "execution": {
     "iopub.execute_input": "2023-01-24T01:08:14.384185Z",
     "iopub.status.busy": "2023-01-24T01:08:14.383096Z",
     "iopub.status.idle": "2023-01-24T01:08:14.812916Z",
     "shell.execute_reply": "2023-01-24T01:08:14.811773Z"
    },
    "papermill": {
     "duration": 0.440998,
     "end_time": "2023-01-24T01:08:14.815718",
     "exception": false,
     "start_time": "2023-01-24T01:08:14.374720",
     "status": "completed"
    },
    "tags": []
   },
   "outputs": [],
   "source": [
    "#reading the dataset\n",
    "dfSub = pd.read_csv('/kaggle/input/godaddy-microbusiness-density-forecasting/sample_submission.csv')\n",
    "dfStarter = pd.read_csv('/kaggle/input/godaddy-microbusiness-density-forecasting/census_starter.csv')\n",
    "dfTrain = pd.read_csv('/kaggle/input/godaddy-microbusiness-density-forecasting/train.csv')\n",
    "dfTest = pd.read_csv('/kaggle/input/godaddy-microbusiness-density-forecasting/test.csv')"
   ]
  },
  {
   "cell_type": "code",
   "execution_count": 3,
   "id": "403856bb",
   "metadata": {
    "execution": {
     "iopub.execute_input": "2023-01-24T01:08:14.830925Z",
     "iopub.status.busy": "2023-01-24T01:08:14.830508Z",
     "iopub.status.idle": "2023-01-24T01:08:14.842428Z",
     "shell.execute_reply": "2023-01-24T01:08:14.841137Z"
    },
    "papermill": {
     "duration": 0.022497,
     "end_time": "2023-01-24T01:08:14.845049",
     "exception": false,
     "start_time": "2023-01-24T01:08:14.822552",
     "status": "completed"
    },
    "tags": []
   },
   "outputs": [],
   "source": [
    "#Making a Copy of The Dataset\n",
    "#I would be working with this copy through out the project while the original dataframe would be for referencing when needed .\n",
    "df_Sub = dfSub.copy()\n",
    "df_Starter = dfStarter.copy()\n",
    "df_Train = dfTrain.copy()\n",
    "df_Test =dfTest.copy()"
   ]
  },
  {
   "cell_type": "code",
   "execution_count": 4,
   "id": "d863c86a",
   "metadata": {
    "execution": {
     "iopub.execute_input": "2023-01-24T01:08:14.860189Z",
     "iopub.status.busy": "2023-01-24T01:08:14.859776Z",
     "iopub.status.idle": "2023-01-24T01:08:14.866743Z",
     "shell.execute_reply": "2023-01-24T01:08:14.865057Z"
    },
    "papermill": {
     "duration": 0.017369,
     "end_time": "2023-01-24T01:08:14.869306",
     "exception": false,
     "start_time": "2023-01-24T01:08:14.851937",
     "status": "completed"
    },
    "tags": []
   },
   "outputs": [
    {
     "name": "stdout",
     "output_type": "stream",
     "text": [
      "(122265, 7)\n",
      "(25080, 3)\n",
      "(25080, 2)\n",
      "(3142, 26)\n"
     ]
    }
   ],
   "source": [
    "#checking out number of rows and columns of each dataset\n",
    "print(df_Train.shape)\n",
    "print(df_Test.shape)\n",
    "print(df_Sub.shape)\n",
    "print(df_Starter.shape)"
   ]
  },
  {
   "cell_type": "markdown",
   "id": "6a22ee7a",
   "metadata": {
    "papermill": {
     "duration": 0.007002,
     "end_time": "2023-01-24T01:08:14.883155",
     "exception": false,
     "start_time": "2023-01-24T01:08:14.876153",
     "status": "completed"
    },
    "tags": []
   },
   "source": [
    "Along with the row id, cfips, county, and state, first day of month, microbusiness density, and active fields are included in `train data`. \n",
    "\n",
    "Only row id, cfips, and first day of month are present in the `test data`. \n",
    "\n",
    "Microbusiness density for a specific cfips and at a specific first day of month is the value to be predicted."
   ]
  },
  {
   "cell_type": "code",
   "execution_count": 5,
   "id": "37101fa1",
   "metadata": {
    "execution": {
     "iopub.execute_input": "2023-01-24T01:08:14.898577Z",
     "iopub.status.busy": "2023-01-24T01:08:14.898134Z",
     "iopub.status.idle": "2023-01-24T01:08:14.918486Z",
     "shell.execute_reply": "2023-01-24T01:08:14.917257Z"
    },
    "papermill": {
     "duration": 0.031203,
     "end_time": "2023-01-24T01:08:14.921115",
     "exception": false,
     "start_time": "2023-01-24T01:08:14.889912",
     "status": "completed"
    },
    "tags": []
   },
   "outputs": [
    {
     "data": {
      "text/html": [
       "<div>\n",
       "<style scoped>\n",
       "    .dataframe tbody tr th:only-of-type {\n",
       "        vertical-align: middle;\n",
       "    }\n",
       "\n",
       "    .dataframe tbody tr th {\n",
       "        vertical-align: top;\n",
       "    }\n",
       "\n",
       "    .dataframe thead th {\n",
       "        text-align: right;\n",
       "    }\n",
       "</style>\n",
       "<table border=\"1\" class=\"dataframe\">\n",
       "  <thead>\n",
       "    <tr style=\"text-align: right;\">\n",
       "      <th></th>\n",
       "      <th>row_id</th>\n",
       "      <th>cfips</th>\n",
       "      <th>first_day_of_month</th>\n",
       "    </tr>\n",
       "  </thead>\n",
       "  <tbody>\n",
       "    <tr>\n",
       "      <th>0</th>\n",
       "      <td>1001_2022-11-01</td>\n",
       "      <td>1001</td>\n",
       "      <td>2022-11-01</td>\n",
       "    </tr>\n",
       "    <tr>\n",
       "      <th>1</th>\n",
       "      <td>1003_2022-11-01</td>\n",
       "      <td>1003</td>\n",
       "      <td>2022-11-01</td>\n",
       "    </tr>\n",
       "    <tr>\n",
       "      <th>2</th>\n",
       "      <td>1005_2022-11-01</td>\n",
       "      <td>1005</td>\n",
       "      <td>2022-11-01</td>\n",
       "    </tr>\n",
       "  </tbody>\n",
       "</table>\n",
       "</div>"
      ],
      "text/plain": [
       "            row_id  cfips first_day_of_month\n",
       "0  1001_2022-11-01   1001         2022-11-01\n",
       "1  1003_2022-11-01   1003         2022-11-01\n",
       "2  1005_2022-11-01   1005         2022-11-01"
      ]
     },
     "execution_count": 5,
     "metadata": {},
     "output_type": "execute_result"
    }
   ],
   "source": [
    "#information on the test dataset\n",
    "df_Test.head(3)"
   ]
  },
  {
   "cell_type": "code",
   "execution_count": 6,
   "id": "956e6025",
   "metadata": {
    "execution": {
     "iopub.execute_input": "2023-01-24T01:08:14.936475Z",
     "iopub.status.busy": "2023-01-24T01:08:14.936038Z",
     "iopub.status.idle": "2023-01-24T01:08:14.951150Z",
     "shell.execute_reply": "2023-01-24T01:08:14.950274Z"
    },
    "papermill": {
     "duration": 0.025418,
     "end_time": "2023-01-24T01:08:14.953344",
     "exception": false,
     "start_time": "2023-01-24T01:08:14.927926",
     "status": "completed"
    },
    "tags": []
   },
   "outputs": [
    {
     "data": {
      "text/plain": [
       "array(['2022-11-01', '2022-12-01', '2023-01-01', '2023-02-01',\n",
       "       '2023-03-01', '2023-04-01', '2023-05-01', '2023-06-01'],\n",
       "      dtype=object)"
      ]
     },
     "execution_count": 6,
     "metadata": {},
     "output_type": "execute_result"
    }
   ],
   "source": [
    "#unique dates in test dataset\n",
    "df_Test.first_day_of_month.unique()"
   ]
  },
  {
   "cell_type": "markdown",
   "id": "f520314e",
   "metadata": {
    "papermill": {
     "duration": 0.007721,
     "end_time": "2023-01-24T01:08:14.970532",
     "exception": false,
     "start_time": "2023-01-24T01:08:14.962811",
     "status": "completed"
    },
    "tags": []
   },
   "source": [
    "Test dataset spans from, November 2022 through June 2023."
   ]
  },
  {
   "cell_type": "code",
   "execution_count": 7,
   "id": "7953176b",
   "metadata": {
    "execution": {
     "iopub.execute_input": "2023-01-24T01:08:14.988740Z",
     "iopub.status.busy": "2023-01-24T01:08:14.988281Z",
     "iopub.status.idle": "2023-01-24T01:08:14.998631Z",
     "shell.execute_reply": "2023-01-24T01:08:14.997351Z"
    },
    "papermill": {
     "duration": 0.022268,
     "end_time": "2023-01-24T01:08:15.001178",
     "exception": false,
     "start_time": "2023-01-24T01:08:14.978910",
     "status": "completed"
    },
    "tags": []
   },
   "outputs": [
    {
     "name": "stdout",
     "output_type": "stream",
     "text": [
      "The minimum date given for the train dataset: 2022-11-01\n",
      "The maximum date given for the train dataset: 2023-06-01\n"
     ]
    }
   ],
   "source": [
    "print('The minimum date given for the train dataset:', df_Test['first_day_of_month'].min())\n",
    "print('The maximum date given for the train dataset:', df_Test['first_day_of_month'].max())"
   ]
  },
  {
   "cell_type": "code",
   "execution_count": 8,
   "id": "386df922",
   "metadata": {
    "execution": {
     "iopub.execute_input": "2023-01-24T01:08:15.018480Z",
     "iopub.status.busy": "2023-01-24T01:08:15.017401Z",
     "iopub.status.idle": "2023-01-24T01:08:15.062003Z",
     "shell.execute_reply": "2023-01-24T01:08:15.061140Z"
    },
    "papermill": {
     "duration": 0.055969,
     "end_time": "2023-01-24T01:08:15.064586",
     "exception": false,
     "start_time": "2023-01-24T01:08:15.008617",
     "status": "completed"
    },
    "tags": []
   },
   "outputs": [
    {
     "name": "stdout",
     "output_type": "stream",
     "text": [
      "<class 'pandas.core.frame.DataFrame'>\n",
      "RangeIndex: 122265 entries, 0 to 122264\n",
      "Data columns (total 7 columns):\n",
      " #   Column                 Non-Null Count   Dtype  \n",
      "---  ------                 --------------   -----  \n",
      " 0   row_id                 122265 non-null  object \n",
      " 1   cfips                  122265 non-null  int64  \n",
      " 2   county                 122265 non-null  object \n",
      " 3   state                  122265 non-null  object \n",
      " 4   first_day_of_month     122265 non-null  object \n",
      " 5   microbusiness_density  122265 non-null  float64\n",
      " 6   active                 122265 non-null  int64  \n",
      "dtypes: float64(1), int64(2), object(4)\n",
      "memory usage: 6.5+ MB\n"
     ]
    }
   ],
   "source": [
    "df_Train.info()"
   ]
  },
  {
   "cell_type": "code",
   "execution_count": 9,
   "id": "ccdf742d",
   "metadata": {
    "execution": {
     "iopub.execute_input": "2023-01-24T01:08:15.082803Z",
     "iopub.status.busy": "2023-01-24T01:08:15.081710Z",
     "iopub.status.idle": "2023-01-24T01:08:15.095804Z",
     "shell.execute_reply": "2023-01-24T01:08:15.094563Z"
    },
    "papermill": {
     "duration": 0.025617,
     "end_time": "2023-01-24T01:08:15.097938",
     "exception": false,
     "start_time": "2023-01-24T01:08:15.072321",
     "status": "completed"
    },
    "tags": []
   },
   "outputs": [
    {
     "data": {
      "text/html": [
       "<div>\n",
       "<style scoped>\n",
       "    .dataframe tbody tr th:only-of-type {\n",
       "        vertical-align: middle;\n",
       "    }\n",
       "\n",
       "    .dataframe tbody tr th {\n",
       "        vertical-align: top;\n",
       "    }\n",
       "\n",
       "    .dataframe thead th {\n",
       "        text-align: right;\n",
       "    }\n",
       "</style>\n",
       "<table border=\"1\" class=\"dataframe\">\n",
       "  <thead>\n",
       "    <tr style=\"text-align: right;\">\n",
       "      <th></th>\n",
       "      <th>row_id</th>\n",
       "      <th>cfips</th>\n",
       "      <th>county</th>\n",
       "      <th>state</th>\n",
       "      <th>first_day_of_month</th>\n",
       "      <th>microbusiness_density</th>\n",
       "      <th>active</th>\n",
       "    </tr>\n",
       "  </thead>\n",
       "  <tbody>\n",
       "    <tr>\n",
       "      <th>0</th>\n",
       "      <td>1001_2019-08-01</td>\n",
       "      <td>1001</td>\n",
       "      <td>Autauga County</td>\n",
       "      <td>Alabama</td>\n",
       "      <td>2019-08-01</td>\n",
       "      <td>3.007682</td>\n",
       "      <td>1249</td>\n",
       "    </tr>\n",
       "    <tr>\n",
       "      <th>1</th>\n",
       "      <td>1001_2019-09-01</td>\n",
       "      <td>1001</td>\n",
       "      <td>Autauga County</td>\n",
       "      <td>Alabama</td>\n",
       "      <td>2019-09-01</td>\n",
       "      <td>2.884870</td>\n",
       "      <td>1198</td>\n",
       "    </tr>\n",
       "  </tbody>\n",
       "</table>\n",
       "</div>"
      ],
      "text/plain": [
       "            row_id  cfips          county    state first_day_of_month  \\\n",
       "0  1001_2019-08-01   1001  Autauga County  Alabama         2019-08-01   \n",
       "1  1001_2019-09-01   1001  Autauga County  Alabama         2019-09-01   \n",
       "\n",
       "   microbusiness_density  active  \n",
       "0               3.007682    1249  \n",
       "1               2.884870    1198  "
      ]
     },
     "execution_count": 9,
     "metadata": {},
     "output_type": "execute_result"
    }
   ],
   "source": [
    "#information on train datset\n",
    "df_Train.head(2)"
   ]
  },
  {
   "cell_type": "code",
   "execution_count": 10,
   "id": "a9561f8d",
   "metadata": {
    "execution": {
     "iopub.execute_input": "2023-01-24T01:08:15.114679Z",
     "iopub.status.busy": "2023-01-24T01:08:15.114229Z",
     "iopub.status.idle": "2023-01-24T01:08:15.131744Z",
     "shell.execute_reply": "2023-01-24T01:08:15.130474Z"
    },
    "papermill": {
     "duration": 0.029366,
     "end_time": "2023-01-24T01:08:15.134601",
     "exception": false,
     "start_time": "2023-01-24T01:08:15.105235",
     "status": "completed"
    },
    "tags": []
   },
   "outputs": [
    {
     "data": {
      "text/plain": [
       "array(['2019-08-01', '2019-09-01', '2019-10-01', '2019-11-01',\n",
       "       '2019-12-01', '2020-01-01', '2020-02-01', '2020-03-01',\n",
       "       '2020-04-01', '2020-05-01', '2020-06-01', '2020-07-01',\n",
       "       '2020-08-01', '2020-09-01', '2020-10-01', '2020-11-01',\n",
       "       '2020-12-01', '2021-01-01', '2021-02-01', '2021-03-01',\n",
       "       '2021-04-01', '2021-05-01', '2021-06-01', '2021-07-01',\n",
       "       '2021-08-01', '2021-09-01', '2021-10-01', '2021-11-01',\n",
       "       '2021-12-01', '2022-01-01', '2022-02-01', '2022-03-01',\n",
       "       '2022-04-01', '2022-05-01', '2022-06-01', '2022-07-01',\n",
       "       '2022-08-01', '2022-09-01', '2022-10-01'], dtype=object)"
      ]
     },
     "execution_count": 10,
     "metadata": {},
     "output_type": "execute_result"
    }
   ],
   "source": [
    "df_Train.first_day_of_month.unique()"
   ]
  },
  {
   "cell_type": "markdown",
   "id": "eb22c98f",
   "metadata": {
    "papermill": {
     "duration": 0.007187,
     "end_time": "2023-01-24T01:08:15.149186",
     "exception": false,
     "start_time": "2023-01-24T01:08:15.141999",
     "status": "completed"
    },
    "tags": []
   },
   "source": [
    "Train dataset spans from August 2019 through October 2022."
   ]
  },
  {
   "cell_type": "code",
   "execution_count": 11,
   "id": "29cc6532",
   "metadata": {
    "execution": {
     "iopub.execute_input": "2023-01-24T01:08:15.166718Z",
     "iopub.status.busy": "2023-01-24T01:08:15.165940Z",
     "iopub.status.idle": "2023-01-24T01:08:15.200835Z",
     "shell.execute_reply": "2023-01-24T01:08:15.199288Z"
    },
    "papermill": {
     "duration": 0.046712,
     "end_time": "2023-01-24T01:08:15.203440",
     "exception": false,
     "start_time": "2023-01-24T01:08:15.156728",
     "status": "completed"
    },
    "tags": []
   },
   "outputs": [
    {
     "name": "stdout",
     "output_type": "stream",
     "text": [
      "The number of states: 51\n",
      "The minimum date given for the train dataset: 2019-08-01\n",
      "The maximum date given for the train dataset: 2022-10-01\n"
     ]
    }
   ],
   "source": [
    "print('The number of states:', df_Train['state'].nunique())\n",
    "print('The minimum date given for the train dataset:',  df_Train['first_day_of_month'].min())\n",
    "print('The maximum date given for the train dataset:',  df_Train['first_day_of_month'].max())"
   ]
  },
  {
   "cell_type": "markdown",
   "id": "bf0afc38",
   "metadata": {
    "execution": {
     "iopub.execute_input": "2023-01-24T00:21:17.129874Z",
     "iopub.status.busy": "2023-01-24T00:21:17.129445Z"
    },
    "papermill": {
     "duration": 0.007518,
     "end_time": "2023-01-24T01:08:15.218669",
     "exception": false,
     "start_time": "2023-01-24T01:08:15.211151",
     "status": "completed"
    },
    "tags": []
   },
   "source": [
    "## What number of cfips are there?\n",
    "Let's now investigate the cfips data."
   ]
  },
  {
   "cell_type": "code",
   "execution_count": 12,
   "id": "3f408026",
   "metadata": {
    "execution": {
     "iopub.execute_input": "2023-01-24T01:08:15.236690Z",
     "iopub.status.busy": "2023-01-24T01:08:15.235323Z",
     "iopub.status.idle": "2023-01-24T01:08:15.249460Z",
     "shell.execute_reply": "2023-01-24T01:08:15.248175Z"
    },
    "papermill": {
     "duration": 0.025754,
     "end_time": "2023-01-24T01:08:15.251999",
     "exception": false,
     "start_time": "2023-01-24T01:08:15.226245",
     "status": "completed"
    },
    "tags": []
   },
   "outputs": [
    {
     "data": {
      "text/plain": [
       "(3135, 3135, 3142)"
      ]
     },
     "execution_count": 12,
     "metadata": {},
     "output_type": "execute_result"
    }
   ],
   "source": [
    "df_Train['cfips'].nunique(), df_Test['cfips'].nunique(), df_Starter['cfips'].nunique()"
   ]
  },
  {
   "cell_type": "markdown",
   "id": "e026bcad",
   "metadata": {
    "papermill": {
     "duration": 0.007628,
     "end_time": "2023-01-24T01:08:15.267613",
     "exception": false,
     "start_time": "2023-01-24T01:08:15.259985",
     "status": "completed"
    },
    "tags": []
   },
   "source": [
    "We have test and train data totaling 3135 cfips.\n",
    "There are 3142 cfips overall (according to census statistics).\n",
    "The train and test datasets do not contain all of the cfips for which we do have census data."
   ]
  },
  {
   "cell_type": "markdown",
   "id": "4f39ffc9",
   "metadata": {
    "papermill": {
     "duration": 0.007295,
     "end_time": "2023-01-24T01:08:15.282578",
     "exception": false,
     "start_time": "2023-01-24T01:08:15.275283",
     "status": "completed"
    },
    "tags": []
   },
   "source": [
    "## Data Cleaning"
   ]
  },
  {
   "cell_type": "code",
   "execution_count": 13,
   "id": "484f7b3a",
   "metadata": {
    "execution": {
     "iopub.execute_input": "2023-01-24T01:08:15.300549Z",
     "iopub.status.busy": "2023-01-24T01:08:15.300091Z",
     "iopub.status.idle": "2023-01-24T01:08:15.306755Z",
     "shell.execute_reply": "2023-01-24T01:08:15.305463Z"
    },
    "papermill": {
     "duration": 0.018767,
     "end_time": "2023-01-24T01:08:15.309041",
     "exception": false,
     "start_time": "2023-01-24T01:08:15.290274",
     "status": "completed"
    },
    "tags": []
   },
   "outputs": [],
   "source": [
    "#function to seperate the first day of the month from the cfips\n",
    "def get_first_day_of_month(item):\n",
    "    item = item.split('_')[1]\n",
    "    return item\n",
    "\n",
    "def get_cfips(item):\n",
    "    item = item.split('_')[0]\n",
    "    return item"
   ]
  },
  {
   "cell_type": "code",
   "execution_count": 14,
   "id": "8d7d46d9",
   "metadata": {
    "execution": {
     "iopub.execute_input": "2023-01-24T01:08:15.327076Z",
     "iopub.status.busy": "2023-01-24T01:08:15.326145Z",
     "iopub.status.idle": "2023-01-24T01:08:15.357653Z",
     "shell.execute_reply": "2023-01-24T01:08:15.356657Z"
    },
    "papermill": {
     "duration": 0.043553,
     "end_time": "2023-01-24T01:08:15.360525",
     "exception": false,
     "start_time": "2023-01-24T01:08:15.316972",
     "status": "completed"
    },
    "tags": []
   },
   "outputs": [],
   "source": [
    "#applying the defined function\n",
    "df_Sub['first_day_of_month'] = df_Sub['row_id'].apply(get_first_day_of_month)\n",
    "df_Sub['cfips'] = df_Sub['row_id'].apply(get_cfips)"
   ]
  },
  {
   "cell_type": "code",
   "execution_count": 15,
   "id": "96cb79eb",
   "metadata": {
    "execution": {
     "iopub.execute_input": "2023-01-24T01:08:15.377540Z",
     "iopub.status.busy": "2023-01-24T01:08:15.377115Z",
     "iopub.status.idle": "2023-01-24T01:08:15.420730Z",
     "shell.execute_reply": "2023-01-24T01:08:15.419301Z"
    },
    "papermill": {
     "duration": 0.055318,
     "end_time": "2023-01-24T01:08:15.423524",
     "exception": false,
     "start_time": "2023-01-24T01:08:15.368206",
     "status": "completed"
    },
    "tags": []
   },
   "outputs": [],
   "source": [
    "#converting the date to datetime\n",
    "df_Test['first_day_of_month'] = pd.to_datetime(df_Test['first_day_of_month'])\n",
    "df_Train['first_day_of_month'] = pd.to_datetime(df_Train['first_day_of_month'])\n",
    "df_Sub['first_day_of_month'] = pd.to_datetime(df_Sub['first_day_of_month'])"
   ]
  },
  {
   "cell_type": "code",
   "execution_count": 16,
   "id": "6c75a02c",
   "metadata": {
    "execution": {
     "iopub.execute_input": "2023-01-24T01:08:15.441071Z",
     "iopub.status.busy": "2023-01-24T01:08:15.440339Z",
     "iopub.status.idle": "2023-01-24T01:08:15.460814Z",
     "shell.execute_reply": "2023-01-24T01:08:15.459591Z"
    },
    "papermill": {
     "duration": 0.032739,
     "end_time": "2023-01-24T01:08:15.463828",
     "exception": false,
     "start_time": "2023-01-24T01:08:15.431089",
     "status": "completed"
    },
    "tags": []
   },
   "outputs": [],
   "source": [
    "#dropping the `row_id` column\n",
    "df_Test.drop(['row_id'],axis = 1, inplace = True)\n",
    "df_Train.drop(['row_id'],axis = 1, inplace = True)\n",
    "df_Sub.drop(['row_id'],axis = 1, inplace = True)"
   ]
  },
  {
   "cell_type": "code",
   "execution_count": 17,
   "id": "398a1785",
   "metadata": {
    "execution": {
     "iopub.execute_input": "2023-01-24T01:08:15.482118Z",
     "iopub.status.busy": "2023-01-24T01:08:15.481734Z",
     "iopub.status.idle": "2023-01-24T01:08:15.591012Z",
     "shell.execute_reply": "2023-01-24T01:08:15.589801Z"
    },
    "papermill": {
     "duration": 0.121801,
     "end_time": "2023-01-24T01:08:15.593951",
     "exception": false,
     "start_time": "2023-01-24T01:08:15.472150",
     "status": "completed"
    },
    "tags": []
   },
   "outputs": [
    {
     "data": {
      "text/html": [
       "<div>\n",
       "<style scoped>\n",
       "    .dataframe tbody tr th:only-of-type {\n",
       "        vertical-align: middle;\n",
       "    }\n",
       "\n",
       "    .dataframe tbody tr th {\n",
       "        vertical-align: top;\n",
       "    }\n",
       "\n",
       "    .dataframe thead th {\n",
       "        text-align: right;\n",
       "    }\n",
       "</style>\n",
       "<table border=\"1\" class=\"dataframe\">\n",
       "  <thead>\n",
       "    <tr style=\"text-align: right;\">\n",
       "      <th></th>\n",
       "      <th>cfips</th>\n",
       "      <th>county</th>\n",
       "      <th>state</th>\n",
       "      <th>first_day_of_month</th>\n",
       "      <th>microbusiness_density</th>\n",
       "      <th>active</th>\n",
       "      <th>pct_bb_2017</th>\n",
       "      <th>pct_bb_2018</th>\n",
       "      <th>pct_bb_2019</th>\n",
       "      <th>pct_bb_2020</th>\n",
       "      <th>...</th>\n",
       "      <th>pct_it_workers_2017</th>\n",
       "      <th>pct_it_workers_2018</th>\n",
       "      <th>pct_it_workers_2019</th>\n",
       "      <th>pct_it_workers_2020</th>\n",
       "      <th>pct_it_workers_2021</th>\n",
       "      <th>median_hh_inc_2017</th>\n",
       "      <th>median_hh_inc_2018</th>\n",
       "      <th>median_hh_inc_2019</th>\n",
       "      <th>median_hh_inc_2020</th>\n",
       "      <th>median_hh_inc_2021</th>\n",
       "    </tr>\n",
       "  </thead>\n",
       "  <tbody>\n",
       "    <tr>\n",
       "      <th>0</th>\n",
       "      <td>1001</td>\n",
       "      <td>Autauga County</td>\n",
       "      <td>Alabama</td>\n",
       "      <td>2019-08-01</td>\n",
       "      <td>3.007682</td>\n",
       "      <td>1249</td>\n",
       "      <td>76.6</td>\n",
       "      <td>78.9</td>\n",
       "      <td>80.6</td>\n",
       "      <td>82.7</td>\n",
       "      <td>...</td>\n",
       "      <td>1.3</td>\n",
       "      <td>1.1</td>\n",
       "      <td>0.7</td>\n",
       "      <td>0.6</td>\n",
       "      <td>1.1</td>\n",
       "      <td>55317</td>\n",
       "      <td>58786.0</td>\n",
       "      <td>58731</td>\n",
       "      <td>57982.0</td>\n",
       "      <td>62660.0</td>\n",
       "    </tr>\n",
       "    <tr>\n",
       "      <th>1</th>\n",
       "      <td>1001</td>\n",
       "      <td>Autauga County</td>\n",
       "      <td>Alabama</td>\n",
       "      <td>2019-09-01</td>\n",
       "      <td>2.884870</td>\n",
       "      <td>1198</td>\n",
       "      <td>76.6</td>\n",
       "      <td>78.9</td>\n",
       "      <td>80.6</td>\n",
       "      <td>82.7</td>\n",
       "      <td>...</td>\n",
       "      <td>1.3</td>\n",
       "      <td>1.1</td>\n",
       "      <td>0.7</td>\n",
       "      <td>0.6</td>\n",
       "      <td>1.1</td>\n",
       "      <td>55317</td>\n",
       "      <td>58786.0</td>\n",
       "      <td>58731</td>\n",
       "      <td>57982.0</td>\n",
       "      <td>62660.0</td>\n",
       "    </tr>\n",
       "  </tbody>\n",
       "</table>\n",
       "<p>2 rows × 31 columns</p>\n",
       "</div>"
      ],
      "text/plain": [
       "   cfips          county    state first_day_of_month  microbusiness_density  \\\n",
       "0   1001  Autauga County  Alabama         2019-08-01               3.007682   \n",
       "1   1001  Autauga County  Alabama         2019-09-01               2.884870   \n",
       "\n",
       "   active  pct_bb_2017  pct_bb_2018  pct_bb_2019  pct_bb_2020  ...  \\\n",
       "0    1249         76.6         78.9         80.6         82.7  ...   \n",
       "1    1198         76.6         78.9         80.6         82.7  ...   \n",
       "\n",
       "   pct_it_workers_2017  pct_it_workers_2018  pct_it_workers_2019  \\\n",
       "0                  1.3                  1.1                  0.7   \n",
       "1                  1.3                  1.1                  0.7   \n",
       "\n",
       "   pct_it_workers_2020  pct_it_workers_2021  median_hh_inc_2017  \\\n",
       "0                  0.6                  1.1               55317   \n",
       "1                  0.6                  1.1               55317   \n",
       "\n",
       "   median_hh_inc_2018  median_hh_inc_2019  median_hh_inc_2020  \\\n",
       "0             58786.0               58731             57982.0   \n",
       "1             58786.0               58731             57982.0   \n",
       "\n",
       "   median_hh_inc_2021  \n",
       "0             62660.0  \n",
       "1             62660.0  \n",
       "\n",
       "[2 rows x 31 columns]"
      ]
     },
     "execution_count": 17,
     "metadata": {},
     "output_type": "execute_result"
    }
   ],
   "source": [
    "#merging the dataset \n",
    "df_trainMerged = df_Train.merge(df_Starter, on = 'cfips', how = 'left')\n",
    "df_trainMerged.head(2)"
   ]
  },
  {
   "cell_type": "code",
   "execution_count": 18,
   "id": "47b330dc",
   "metadata": {
    "execution": {
     "iopub.execute_input": "2023-01-24T01:08:15.612832Z",
     "iopub.status.busy": "2023-01-24T01:08:15.611684Z",
     "iopub.status.idle": "2023-01-24T01:08:15.641319Z",
     "shell.execute_reply": "2023-01-24T01:08:15.640172Z"
    },
    "papermill": {
     "duration": 0.041966,
     "end_time": "2023-01-24T01:08:15.643990",
     "exception": false,
     "start_time": "2023-01-24T01:08:15.602024",
     "status": "completed"
    },
    "tags": []
   },
   "outputs": [
    {
     "data": {
      "text/plain": [
       "cfips                     0\n",
       "county                    0\n",
       "state                     0\n",
       "first_day_of_month        0\n",
       "microbusiness_density     0\n",
       "active                    0\n",
       "pct_bb_2017               0\n",
       "pct_bb_2018               0\n",
       "pct_bb_2019               0\n",
       "pct_bb_2020               0\n",
       "pct_bb_2021               0\n",
       "pct_college_2017          0\n",
       "pct_college_2018          0\n",
       "pct_college_2019          0\n",
       "pct_college_2020          0\n",
       "pct_college_2021          0\n",
       "pct_foreign_born_2017     0\n",
       "pct_foreign_born_2018     0\n",
       "pct_foreign_born_2019     0\n",
       "pct_foreign_born_2020     0\n",
       "pct_foreign_born_2021     0\n",
       "pct_it_workers_2017       0\n",
       "pct_it_workers_2018      39\n",
       "pct_it_workers_2019       0\n",
       "pct_it_workers_2020       0\n",
       "pct_it_workers_2021       0\n",
       "median_hh_inc_2017        0\n",
       "median_hh_inc_2018       39\n",
       "median_hh_inc_2019        0\n",
       "median_hh_inc_2020       39\n",
       "median_hh_inc_2021       39\n",
       "dtype: int64"
      ]
     },
     "execution_count": 18,
     "metadata": {},
     "output_type": "execute_result"
    }
   ],
   "source": [
    "#after merging, we can see that some columns now have null values which needs to be cleaned up\n",
    "df_trainMerged.isna().sum()"
   ]
  },
  {
   "cell_type": "code",
   "execution_count": 19,
   "id": "6033b2bd",
   "metadata": {
    "execution": {
     "iopub.execute_input": "2023-01-24T01:08:15.664309Z",
     "iopub.status.busy": "2023-01-24T01:08:15.663342Z",
     "iopub.status.idle": "2023-01-24T01:08:15.712132Z",
     "shell.execute_reply": "2023-01-24T01:08:15.711167Z"
    },
    "papermill": {
     "duration": 0.061451,
     "end_time": "2023-01-24T01:08:15.714524",
     "exception": false,
     "start_time": "2023-01-24T01:08:15.653073",
     "status": "completed"
    },
    "tags": []
   },
   "outputs": [
    {
     "data": {
      "text/html": [
       "<div>\n",
       "<style scoped>\n",
       "    .dataframe tbody tr th:only-of-type {\n",
       "        vertical-align: middle;\n",
       "    }\n",
       "\n",
       "    .dataframe tbody tr th {\n",
       "        vertical-align: top;\n",
       "    }\n",
       "\n",
       "    .dataframe thead th {\n",
       "        text-align: right;\n",
       "    }\n",
       "</style>\n",
       "<table border=\"1\" class=\"dataframe\">\n",
       "  <thead>\n",
       "    <tr style=\"text-align: right;\">\n",
       "      <th></th>\n",
       "      <th>cfips</th>\n",
       "      <th>county</th>\n",
       "      <th>state</th>\n",
       "      <th>first_day_of_month</th>\n",
       "      <th>microbusiness_density</th>\n",
       "      <th>active</th>\n",
       "      <th>pct_bb_2017</th>\n",
       "      <th>pct_bb_2018</th>\n",
       "      <th>pct_bb_2019</th>\n",
       "      <th>pct_bb_2020</th>\n",
       "      <th>...</th>\n",
       "      <th>pct_it_workers_2017</th>\n",
       "      <th>pct_it_workers_2018</th>\n",
       "      <th>pct_it_workers_2019</th>\n",
       "      <th>pct_it_workers_2020</th>\n",
       "      <th>pct_it_workers_2021</th>\n",
       "      <th>median_hh_inc_2017</th>\n",
       "      <th>median_hh_inc_2018</th>\n",
       "      <th>median_hh_inc_2019</th>\n",
       "      <th>median_hh_inc_2020</th>\n",
       "      <th>median_hh_inc_2021</th>\n",
       "    </tr>\n",
       "  </thead>\n",
       "  <tbody>\n",
       "    <tr>\n",
       "      <th>70707</th>\n",
       "      <td>35039</td>\n",
       "      <td>Rio Arriba County</td>\n",
       "      <td>New Mexico</td>\n",
       "      <td>2019-08-01</td>\n",
       "      <td>2.472180</td>\n",
       "      <td>742</td>\n",
       "      <td>49.1</td>\n",
       "      <td>52.1</td>\n",
       "      <td>57.6</td>\n",
       "      <td>60.7</td>\n",
       "      <td>...</td>\n",
       "      <td>0.8</td>\n",
       "      <td>NaN</td>\n",
       "      <td>0.8</td>\n",
       "      <td>0.4</td>\n",
       "      <td>0.7</td>\n",
       "      <td>33422</td>\n",
       "      <td>NaN</td>\n",
       "      <td>39952</td>\n",
       "      <td>42264.0</td>\n",
       "      <td>46994.0</td>\n",
       "    </tr>\n",
       "    <tr>\n",
       "      <th>70708</th>\n",
       "      <td>35039</td>\n",
       "      <td>Rio Arriba County</td>\n",
       "      <td>New Mexico</td>\n",
       "      <td>2019-09-01</td>\n",
       "      <td>2.458852</td>\n",
       "      <td>738</td>\n",
       "      <td>49.1</td>\n",
       "      <td>52.1</td>\n",
       "      <td>57.6</td>\n",
       "      <td>60.7</td>\n",
       "      <td>...</td>\n",
       "      <td>0.8</td>\n",
       "      <td>NaN</td>\n",
       "      <td>0.8</td>\n",
       "      <td>0.4</td>\n",
       "      <td>0.7</td>\n",
       "      <td>33422</td>\n",
       "      <td>NaN</td>\n",
       "      <td>39952</td>\n",
       "      <td>42264.0</td>\n",
       "      <td>46994.0</td>\n",
       "    </tr>\n",
       "  </tbody>\n",
       "</table>\n",
       "<p>2 rows × 31 columns</p>\n",
       "</div>"
      ],
      "text/plain": [
       "       cfips             county       state first_day_of_month  \\\n",
       "70707  35039  Rio Arriba County  New Mexico         2019-08-01   \n",
       "70708  35039  Rio Arriba County  New Mexico         2019-09-01   \n",
       "\n",
       "       microbusiness_density  active  pct_bb_2017  pct_bb_2018  pct_bb_2019  \\\n",
       "70707               2.472180     742         49.1         52.1         57.6   \n",
       "70708               2.458852     738         49.1         52.1         57.6   \n",
       "\n",
       "       pct_bb_2020  ...  pct_it_workers_2017  pct_it_workers_2018  \\\n",
       "70707         60.7  ...                  0.8                  NaN   \n",
       "70708         60.7  ...                  0.8                  NaN   \n",
       "\n",
       "       pct_it_workers_2019  pct_it_workers_2020  pct_it_workers_2021  \\\n",
       "70707                  0.8                  0.4                  0.7   \n",
       "70708                  0.8                  0.4                  0.7   \n",
       "\n",
       "       median_hh_inc_2017  median_hh_inc_2018  median_hh_inc_2019  \\\n",
       "70707               33422                 NaN               39952   \n",
       "70708               33422                 NaN               39952   \n",
       "\n",
       "       median_hh_inc_2020  median_hh_inc_2021  \n",
       "70707             42264.0             46994.0  \n",
       "70708             42264.0             46994.0  \n",
       "\n",
       "[2 rows x 31 columns]"
      ]
     },
     "execution_count": 19,
     "metadata": {},
     "output_type": "execute_result"
    }
   ],
   "source": [
    "#sample is the df_trainMerged['pct_bb_2018']column which we can also view below\n",
    "df_null = df_trainMerged[df_trainMerged['pct_it_workers_2018'].isnull()]\n",
    "df_null.head(2)"
   ]
  },
  {
   "cell_type": "code",
   "execution_count": 20,
   "id": "813601e0",
   "metadata": {
    "execution": {
     "iopub.execute_input": "2023-01-24T01:08:15.735389Z",
     "iopub.status.busy": "2023-01-24T01:08:15.734181Z",
     "iopub.status.idle": "2023-01-24T01:08:15.754336Z",
     "shell.execute_reply": "2023-01-24T01:08:15.753300Z"
    },
    "papermill": {
     "duration": 0.033523,
     "end_time": "2023-01-24T01:08:15.757235",
     "exception": false,
     "start_time": "2023-01-24T01:08:15.723712",
     "status": "completed"
    },
    "tags": []
   },
   "outputs": [],
   "source": [
    "#filling the null values with the median\n",
    "df_trainMerged['pct_it_workers_2018']= df_trainMerged['pct_it_workers_2018'].fillna(df_trainMerged['pct_it_workers_2018'].median())\n",
    "df_trainMerged['median_hh_inc_2018']= df_trainMerged['median_hh_inc_2018'].fillna(df_trainMerged['median_hh_inc_2018'].median())\n",
    "df_trainMerged['median_hh_inc_2020']= df_trainMerged['median_hh_inc_2020'].fillna(df_trainMerged['median_hh_inc_2020'].median())\n",
    "df_trainMerged['median_hh_inc_2021']= df_trainMerged['median_hh_inc_2021'].fillna(df_trainMerged['median_hh_inc_2021'].median())"
   ]
  },
  {
   "cell_type": "markdown",
   "id": "e0770ea1",
   "metadata": {
    "papermill": {
     "duration": 0.008055,
     "end_time": "2023-01-24T01:08:15.773542",
     "exception": false,
     "start_time": "2023-01-24T01:08:15.765487",
     "status": "completed"
    },
    "tags": []
   },
   "source": [
    "## Exploratory Data Analysis"
   ]
  },
  {
   "cell_type": "code",
   "execution_count": null,
   "id": "011c1117",
   "metadata": {
    "papermill": {
     "duration": 0.007921,
     "end_time": "2023-01-24T01:08:15.789621",
     "exception": false,
     "start_time": "2023-01-24T01:08:15.781700",
     "status": "completed"
    },
    "tags": []
   },
   "outputs": [],
   "source": []
  }
 ],
 "metadata": {
  "kernelspec": {
   "display_name": "Python 3",
   "language": "python",
   "name": "python3"
  },
  "language_info": {
   "codemirror_mode": {
    "name": "ipython",
    "version": 3
   },
   "file_extension": ".py",
   "mimetype": "text/x-python",
   "name": "python",
   "nbconvert_exporter": "python",
   "pygments_lexer": "ipython3",
   "version": "3.7.12"
  },
  "papermill": {
   "default_parameters": {},
   "duration": 12.386871,
   "end_time": "2023-01-24T01:08:16.520671",
   "environment_variables": {},
   "exception": null,
   "input_path": "__notebook__.ipynb",
   "output_path": "__notebook__.ipynb",
   "parameters": {},
   "start_time": "2023-01-24T01:08:04.133800",
   "version": "2.3.4"
  }
 },
 "nbformat": 4,
 "nbformat_minor": 5
}
