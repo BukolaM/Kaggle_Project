{
 "cells": [
  {
   "cell_type": "markdown",
   "id": "ce1e9e52",
   "metadata": {
    "papermill": {
     "duration": 0.014632,
     "end_time": "2023-02-13T09:36:41.737329",
     "exception": false,
     "start_time": "2023-02-13T09:36:41.722697",
     "status": "completed"
    },
    "tags": []
   },
   "source": [
    "### Goal: To estimate or forecast the monthly density of microbusinesses in a specific area. The issue is one of time series analysis.\n",
    "\n",
    "Characteristics of the dataset : This competition comes with three csv files:\n",
    "#### train.csv:\n",
    "\n",
    "- row id: A row's identification number.\n",
    "- cfips: A distinctive county-specific identifier for the Federal Information Processing System. The state's FIPS code is represented by the first two digits, while the county is represented by the final three digits.\n",
    "- county name: the county's official name in writing.\n",
    "- state name: The state's name.\n",
    "- first_day_of_month : Date of the month's first day\n",
    "- microbusiness_density : The number of microbusinesses in the given county per 100 adults. The target variable is this. The U.S. Census Bureau, which provides the underlying population data annually, updates its population statistics at a two-year lag, which affects the density calculations. The population estimates for 2019 are used to compute the 2021 densities, etc.\n",
    "- active: The county's total number of microbusinesses. Unavailable for the test set.\n",
    "\n",
    "\n",
    "#### census_starter.csv :\n",
    "\n",
    "Examples of helpful columns from the American Community Survey (ACS) of the Census Bureau can be found at data.census.gov. The raw counts provided by the ACS were used to calculate the percentage fields. To reflect the information that was available at the time a certain microbusiness data update was published, all fields have a two-year lag.\n",
    "\n",
    "- pctbb[year]: The proportion of county homes with any sort of broadband connection. taken from ACS table B28002, \"PRESENCE AND TYPES OF INTERNET SUBSCRIPTIONS IN HOUSEHOLD,\"\n",
    "- cfips: the CFIPS code.\n",
    "- pctcollege[year]: The proportion of county residents over 25 who have completed a 4-year college degree. EDUCATIONAL ATTAINMENT is derived from ACS table S1501.\n",
    "- pct_foreignborn[year] : The proportion of the county's population who were born outside of the United States, as measured by pct foreignborn[year]. Selected Social Characteristics in the United States, table DP02 of the American Community Survey (ACS).\n",
    "- pct itworkers[year]: The proportion of the county's workforce working in information-related industries from ACS table S2405: INDUSTRY BY OCCUPATION FOR THE CIVILIAN EMPLOYED POPULATION 16 YEARS AND OVER.\n",
    "- median_hhinc[year] : The county's median household income, as of the given year. Adapted from the ACS table S1901, INCOME IN THE LAST 12 MONTHS (IN 2021 INFLATION-ADJUSTED DOLLARS).\n",
    "\n",
    "#### test.csv:\n",
    "\n",
    "- row id: A row's identification number.\n",
    "- cfips: A distinctive county-specific identifier for the Federal Information Processing System. The state's FIPS code is represented by the first two digits, while the county is represented by the final three digits.\n",
    "- first_day_of_month : Date of the month's first day\n",
    "\n",
    "#### sample_submission.csv:\n",
    "A valid sample submission. This file will remain unchanged throughout the competition.\n",
    "\n",
    "- row_id : An ID code for the row.\n",
    "- microbusiness_density : The target variable.\n"
   ]
  },
  {
   "cell_type": "code",
   "execution_count": 1,
   "id": "77d38efb",
   "metadata": {
    "_cell_guid": "b1076dfc-b9ad-4769-8c92-a6c4dae69d19",
    "_uuid": "8f2839f25d086af736a60e9eeb907d3b93b6e0e5",
    "execution": {
     "iopub.execute_input": "2023-02-13T09:36:41.769533Z",
     "iopub.status.busy": "2023-02-13T09:36:41.768061Z",
     "iopub.status.idle": "2023-02-13T09:36:44.125329Z",
     "shell.execute_reply": "2023-02-13T09:36:44.124079Z"
    },
    "papermill": {
     "duration": 2.37807,
     "end_time": "2023-02-13T09:36:44.128577",
     "exception": false,
     "start_time": "2023-02-13T09:36:41.750507",
     "status": "completed"
    },
    "tags": []
   },
   "outputs": [
    {
     "name": "stdout",
     "output_type": "stream",
     "text": [
      "/kaggle/input/godaddy-microbusiness-density-forecasting/sample_submission.csv\n",
      "/kaggle/input/godaddy-microbusiness-density-forecasting/census_starter.csv\n",
      "/kaggle/input/godaddy-microbusiness-density-forecasting/train.csv\n",
      "/kaggle/input/godaddy-microbusiness-density-forecasting/test.csv\n"
     ]
    }
   ],
   "source": [
    "#importing the required libraries\n",
    "import numpy as np \n",
    "import pandas as pd \n",
    "import seaborn as sns\n",
    "import plotly.express as px\n",
    "import matplotlib.pyplot as plt\n",
    "\n",
    "import os\n",
    "for dirname, _, filenames in os.walk('/kaggle/input'):\n",
    "    for filename in filenames:\n",
    "        print(os.path.join(dirname, filename))"
   ]
  },
  {
   "cell_type": "code",
   "execution_count": 2,
   "id": "28512422",
   "metadata": {
    "execution": {
     "iopub.execute_input": "2023-02-13T09:36:44.155371Z",
     "iopub.status.busy": "2023-02-13T09:36:44.154919Z",
     "iopub.status.idle": "2023-02-13T09:36:44.626980Z",
     "shell.execute_reply": "2023-02-13T09:36:44.625611Z"
    },
    "papermill": {
     "duration": 0.489048,
     "end_time": "2023-02-13T09:36:44.629794",
     "exception": false,
     "start_time": "2023-02-13T09:36:44.140746",
     "status": "completed"
    },
    "tags": []
   },
   "outputs": [],
   "source": [
    "#reading the dataset\n",
    "dfSub = pd.read_csv('/kaggle/input/godaddy-microbusiness-density-forecasting/sample_submission.csv')\n",
    "dfStarter = pd.read_csv('/kaggle/input/godaddy-microbusiness-density-forecasting/census_starter.csv')\n",
    "dfTrain = pd.read_csv('/kaggle/input/godaddy-microbusiness-density-forecasting/train.csv')\n",
    "dfTest = pd.read_csv('/kaggle/input/godaddy-microbusiness-density-forecasting/test.csv')"
   ]
  },
  {
   "cell_type": "code",
   "execution_count": 3,
   "id": "54c91434",
   "metadata": {
    "execution": {
     "iopub.execute_input": "2023-02-13T09:36:44.657507Z",
     "iopub.status.busy": "2023-02-13T09:36:44.656410Z",
     "iopub.status.idle": "2023-02-13T09:36:44.670145Z",
     "shell.execute_reply": "2023-02-13T09:36:44.668480Z"
    },
    "papermill": {
     "duration": 0.031085,
     "end_time": "2023-02-13T09:36:44.672873",
     "exception": false,
     "start_time": "2023-02-13T09:36:44.641788",
     "status": "completed"
    },
    "tags": []
   },
   "outputs": [],
   "source": [
    "#Making a Copy of The Dataset\n",
    "#I would be working with this copy through out the project while the original dataframe would be for referencing when needed .\n",
    "df_Sub = dfSub.copy()\n",
    "df_Starter = dfStarter.copy()\n",
    "df_Train = dfTrain.copy()\n",
    "df_Test =dfTest.copy()"
   ]
  },
  {
   "cell_type": "code",
   "execution_count": 4,
   "id": "eac6c0f3",
   "metadata": {
    "execution": {
     "iopub.execute_input": "2023-02-13T09:36:44.702851Z",
     "iopub.status.busy": "2023-02-13T09:36:44.701987Z",
     "iopub.status.idle": "2023-02-13T09:36:44.710154Z",
     "shell.execute_reply": "2023-02-13T09:36:44.708116Z"
    },
    "papermill": {
     "duration": 0.02626,
     "end_time": "2023-02-13T09:36:44.713489",
     "exception": false,
     "start_time": "2023-02-13T09:36:44.687229",
     "status": "completed"
    },
    "tags": []
   },
   "outputs": [
    {
     "name": "stdout",
     "output_type": "stream",
     "text": [
      "(122265, 7)\n",
      "(25080, 3)\n",
      "(25080, 2)\n",
      "(3142, 26)\n"
     ]
    }
   ],
   "source": [
    "#checking out number of rows and columns of each dataset\n",
    "print(df_Train.shape)\n",
    "print(df_Test.shape)\n",
    "print(df_Sub.shape)\n",
    "print(df_Starter.shape)"
   ]
  },
  {
   "cell_type": "markdown",
   "id": "9a61765b",
   "metadata": {
    "papermill": {
     "duration": 0.012647,
     "end_time": "2023-02-13T09:36:44.739251",
     "exception": false,
     "start_time": "2023-02-13T09:36:44.726604",
     "status": "completed"
    },
    "tags": []
   },
   "source": [
    "Along with the row id, cfips, county, and state, first day of month, microbusiness density, and active fields are included in `train data`. \n",
    "\n",
    "Only row id, cfips, and first day of month are present in the `test data`. \n",
    "\n",
    "Microbusiness density for a specific cfips and at a specific first day of month is the value to be predicted."
   ]
  },
  {
   "cell_type": "code",
   "execution_count": 5,
   "id": "f680be62",
   "metadata": {
    "execution": {
     "iopub.execute_input": "2023-02-13T09:36:44.766311Z",
     "iopub.status.busy": "2023-02-13T09:36:44.765453Z",
     "iopub.status.idle": "2023-02-13T09:36:44.785148Z",
     "shell.execute_reply": "2023-02-13T09:36:44.783769Z"
    },
    "papermill": {
     "duration": 0.035876,
     "end_time": "2023-02-13T09:36:44.787715",
     "exception": false,
     "start_time": "2023-02-13T09:36:44.751839",
     "status": "completed"
    },
    "tags": []
   },
   "outputs": [
    {
     "data": {
      "text/html": [
       "<div>\n",
       "<style scoped>\n",
       "    .dataframe tbody tr th:only-of-type {\n",
       "        vertical-align: middle;\n",
       "    }\n",
       "\n",
       "    .dataframe tbody tr th {\n",
       "        vertical-align: top;\n",
       "    }\n",
       "\n",
       "    .dataframe thead th {\n",
       "        text-align: right;\n",
       "    }\n",
       "</style>\n",
       "<table border=\"1\" class=\"dataframe\">\n",
       "  <thead>\n",
       "    <tr style=\"text-align: right;\">\n",
       "      <th></th>\n",
       "      <th>row_id</th>\n",
       "      <th>cfips</th>\n",
       "      <th>first_day_of_month</th>\n",
       "    </tr>\n",
       "  </thead>\n",
       "  <tbody>\n",
       "    <tr>\n",
       "      <th>0</th>\n",
       "      <td>1001_2022-11-01</td>\n",
       "      <td>1001</td>\n",
       "      <td>2022-11-01</td>\n",
       "    </tr>\n",
       "    <tr>\n",
       "      <th>1</th>\n",
       "      <td>1003_2022-11-01</td>\n",
       "      <td>1003</td>\n",
       "      <td>2022-11-01</td>\n",
       "    </tr>\n",
       "    <tr>\n",
       "      <th>2</th>\n",
       "      <td>1005_2022-11-01</td>\n",
       "      <td>1005</td>\n",
       "      <td>2022-11-01</td>\n",
       "    </tr>\n",
       "  </tbody>\n",
       "</table>\n",
       "</div>"
      ],
      "text/plain": [
       "            row_id  cfips first_day_of_month\n",
       "0  1001_2022-11-01   1001         2022-11-01\n",
       "1  1003_2022-11-01   1003         2022-11-01\n",
       "2  1005_2022-11-01   1005         2022-11-01"
      ]
     },
     "execution_count": 5,
     "metadata": {},
     "output_type": "execute_result"
    }
   ],
   "source": [
    "#information on the test dataset\n",
    "df_Test.head(3)"
   ]
  },
  {
   "cell_type": "code",
   "execution_count": 6,
   "id": "025ba2a5",
   "metadata": {
    "execution": {
     "iopub.execute_input": "2023-02-13T09:36:44.816619Z",
     "iopub.status.busy": "2023-02-13T09:36:44.816199Z",
     "iopub.status.idle": "2023-02-13T09:36:44.831065Z",
     "shell.execute_reply": "2023-02-13T09:36:44.829935Z"
    },
    "papermill": {
     "duration": 0.031851,
     "end_time": "2023-02-13T09:36:44.833524",
     "exception": false,
     "start_time": "2023-02-13T09:36:44.801673",
     "status": "completed"
    },
    "tags": []
   },
   "outputs": [
    {
     "data": {
      "text/plain": [
       "array(['2022-11-01', '2022-12-01', '2023-01-01', '2023-02-01',\n",
       "       '2023-03-01', '2023-04-01', '2023-05-01', '2023-06-01'],\n",
       "      dtype=object)"
      ]
     },
     "execution_count": 6,
     "metadata": {},
     "output_type": "execute_result"
    }
   ],
   "source": [
    "#unique dates in test dataset\n",
    "df_Test.first_day_of_month.unique()"
   ]
  },
  {
   "cell_type": "markdown",
   "id": "bf68c693",
   "metadata": {
    "papermill": {
     "duration": 0.012157,
     "end_time": "2023-02-13T09:36:44.858955",
     "exception": false,
     "start_time": "2023-02-13T09:36:44.846798",
     "status": "completed"
    },
    "tags": []
   },
   "source": [
    "Test dataset spans from, November 2022 through June 2023."
   ]
  },
  {
   "cell_type": "code",
   "execution_count": 7,
   "id": "868dfb34",
   "metadata": {
    "execution": {
     "iopub.execute_input": "2023-02-13T09:36:44.887513Z",
     "iopub.status.busy": "2023-02-13T09:36:44.887104Z",
     "iopub.status.idle": "2023-02-13T09:36:44.899056Z",
     "shell.execute_reply": "2023-02-13T09:36:44.897615Z"
    },
    "papermill": {
     "duration": 0.029088,
     "end_time": "2023-02-13T09:36:44.901720",
     "exception": false,
     "start_time": "2023-02-13T09:36:44.872632",
     "status": "completed"
    },
    "tags": []
   },
   "outputs": [
    {
     "name": "stdout",
     "output_type": "stream",
     "text": [
      "The minimum date given for the train dataset: 2022-11-01\n",
      "The maximum date given for the train dataset: 2023-06-01\n"
     ]
    }
   ],
   "source": [
    "print('The minimum date given for the train dataset:', df_Test['first_day_of_month'].min())\n",
    "print('The maximum date given for the train dataset:', df_Test['first_day_of_month'].max())"
   ]
  },
  {
   "cell_type": "code",
   "execution_count": 8,
   "id": "7c5a190e",
   "metadata": {
    "execution": {
     "iopub.execute_input": "2023-02-13T09:36:44.931294Z",
     "iopub.status.busy": "2023-02-13T09:36:44.930559Z",
     "iopub.status.idle": "2023-02-13T09:36:44.975966Z",
     "shell.execute_reply": "2023-02-13T09:36:44.973895Z"
    },
    "papermill": {
     "duration": 0.064164,
     "end_time": "2023-02-13T09:36:44.979700",
     "exception": false,
     "start_time": "2023-02-13T09:36:44.915536",
     "status": "completed"
    },
    "tags": []
   },
   "outputs": [
    {
     "name": "stdout",
     "output_type": "stream",
     "text": [
      "<class 'pandas.core.frame.DataFrame'>\n",
      "RangeIndex: 122265 entries, 0 to 122264\n",
      "Data columns (total 7 columns):\n",
      " #   Column                 Non-Null Count   Dtype  \n",
      "---  ------                 --------------   -----  \n",
      " 0   row_id                 122265 non-null  object \n",
      " 1   cfips                  122265 non-null  int64  \n",
      " 2   county                 122265 non-null  object \n",
      " 3   state                  122265 non-null  object \n",
      " 4   first_day_of_month     122265 non-null  object \n",
      " 5   microbusiness_density  122265 non-null  float64\n",
      " 6   active                 122265 non-null  int64  \n",
      "dtypes: float64(1), int64(2), object(4)\n",
      "memory usage: 6.5+ MB\n"
     ]
    }
   ],
   "source": [
    "df_Train.info()"
   ]
  },
  {
   "cell_type": "code",
   "execution_count": 9,
   "id": "ba1b33cb",
   "metadata": {
    "execution": {
     "iopub.execute_input": "2023-02-13T09:36:45.008704Z",
     "iopub.status.busy": "2023-02-13T09:36:45.008007Z",
     "iopub.status.idle": "2023-02-13T09:36:45.023213Z",
     "shell.execute_reply": "2023-02-13T09:36:45.021665Z"
    },
    "papermill": {
     "duration": 0.032838,
     "end_time": "2023-02-13T09:36:45.025915",
     "exception": false,
     "start_time": "2023-02-13T09:36:44.993077",
     "status": "completed"
    },
    "tags": []
   },
   "outputs": [
    {
     "data": {
      "text/html": [
       "<div>\n",
       "<style scoped>\n",
       "    .dataframe tbody tr th:only-of-type {\n",
       "        vertical-align: middle;\n",
       "    }\n",
       "\n",
       "    .dataframe tbody tr th {\n",
       "        vertical-align: top;\n",
       "    }\n",
       "\n",
       "    .dataframe thead th {\n",
       "        text-align: right;\n",
       "    }\n",
       "</style>\n",
       "<table border=\"1\" class=\"dataframe\">\n",
       "  <thead>\n",
       "    <tr style=\"text-align: right;\">\n",
       "      <th></th>\n",
       "      <th>row_id</th>\n",
       "      <th>cfips</th>\n",
       "      <th>county</th>\n",
       "      <th>state</th>\n",
       "      <th>first_day_of_month</th>\n",
       "      <th>microbusiness_density</th>\n",
       "      <th>active</th>\n",
       "    </tr>\n",
       "  </thead>\n",
       "  <tbody>\n",
       "    <tr>\n",
       "      <th>0</th>\n",
       "      <td>1001_2019-08-01</td>\n",
       "      <td>1001</td>\n",
       "      <td>Autauga County</td>\n",
       "      <td>Alabama</td>\n",
       "      <td>2019-08-01</td>\n",
       "      <td>3.007682</td>\n",
       "      <td>1249</td>\n",
       "    </tr>\n",
       "    <tr>\n",
       "      <th>1</th>\n",
       "      <td>1001_2019-09-01</td>\n",
       "      <td>1001</td>\n",
       "      <td>Autauga County</td>\n",
       "      <td>Alabama</td>\n",
       "      <td>2019-09-01</td>\n",
       "      <td>2.884870</td>\n",
       "      <td>1198</td>\n",
       "    </tr>\n",
       "  </tbody>\n",
       "</table>\n",
       "</div>"
      ],
      "text/plain": [
       "            row_id  cfips          county    state first_day_of_month  \\\n",
       "0  1001_2019-08-01   1001  Autauga County  Alabama         2019-08-01   \n",
       "1  1001_2019-09-01   1001  Autauga County  Alabama         2019-09-01   \n",
       "\n",
       "   microbusiness_density  active  \n",
       "0               3.007682    1249  \n",
       "1               2.884870    1198  "
      ]
     },
     "execution_count": 9,
     "metadata": {},
     "output_type": "execute_result"
    }
   ],
   "source": [
    "#information on train datset\n",
    "df_Train.head(2)"
   ]
  },
  {
   "cell_type": "code",
   "execution_count": 10,
   "id": "0f4b52ba",
   "metadata": {
    "execution": {
     "iopub.execute_input": "2023-02-13T09:36:45.054410Z",
     "iopub.status.busy": "2023-02-13T09:36:45.053979Z",
     "iopub.status.idle": "2023-02-13T09:36:45.070719Z",
     "shell.execute_reply": "2023-02-13T09:36:45.069392Z"
    },
    "papermill": {
     "duration": 0.034933,
     "end_time": "2023-02-13T09:36:45.073631",
     "exception": false,
     "start_time": "2023-02-13T09:36:45.038698",
     "status": "completed"
    },
    "tags": []
   },
   "outputs": [
    {
     "data": {
      "text/plain": [
       "array(['2019-08-01', '2019-09-01', '2019-10-01', '2019-11-01',\n",
       "       '2019-12-01', '2020-01-01', '2020-02-01', '2020-03-01',\n",
       "       '2020-04-01', '2020-05-01', '2020-06-01', '2020-07-01',\n",
       "       '2020-08-01', '2020-09-01', '2020-10-01', '2020-11-01',\n",
       "       '2020-12-01', '2021-01-01', '2021-02-01', '2021-03-01',\n",
       "       '2021-04-01', '2021-05-01', '2021-06-01', '2021-07-01',\n",
       "       '2021-08-01', '2021-09-01', '2021-10-01', '2021-11-01',\n",
       "       '2021-12-01', '2022-01-01', '2022-02-01', '2022-03-01',\n",
       "       '2022-04-01', '2022-05-01', '2022-06-01', '2022-07-01',\n",
       "       '2022-08-01', '2022-09-01', '2022-10-01'], dtype=object)"
      ]
     },
     "execution_count": 10,
     "metadata": {},
     "output_type": "execute_result"
    }
   ],
   "source": [
    "df_Train.first_day_of_month.unique()"
   ]
  },
  {
   "cell_type": "markdown",
   "id": "04e8035a",
   "metadata": {
    "papermill": {
     "duration": 0.013951,
     "end_time": "2023-02-13T09:36:45.102213",
     "exception": false,
     "start_time": "2023-02-13T09:36:45.088262",
     "status": "completed"
    },
    "tags": []
   },
   "source": [
    "Train dataset spans from August 2019 through October 2022."
   ]
  },
  {
   "cell_type": "code",
   "execution_count": 11,
   "id": "5df225eb",
   "metadata": {
    "execution": {
     "iopub.execute_input": "2023-02-13T09:36:45.133007Z",
     "iopub.status.busy": "2023-02-13T09:36:45.132373Z",
     "iopub.status.idle": "2023-02-13T09:36:45.166465Z",
     "shell.execute_reply": "2023-02-13T09:36:45.164763Z"
    },
    "papermill": {
     "duration": 0.053798,
     "end_time": "2023-02-13T09:36:45.169919",
     "exception": false,
     "start_time": "2023-02-13T09:36:45.116121",
     "status": "completed"
    },
    "tags": []
   },
   "outputs": [
    {
     "name": "stdout",
     "output_type": "stream",
     "text": [
      "The number of states: 51\n",
      "The minimum date given for the train dataset: 2019-08-01\n",
      "The maximum date given for the train dataset: 2022-10-01\n"
     ]
    }
   ],
   "source": [
    "print('The number of states:', df_Train['state'].nunique())\n",
    "print('The minimum date given for the train dataset:',  df_Train['first_day_of_month'].min())\n",
    "print('The maximum date given for the train dataset:',  df_Train['first_day_of_month'].max())"
   ]
  },
  {
   "cell_type": "markdown",
   "id": "45d1c942",
   "metadata": {
    "execution": {
     "iopub.execute_input": "2023-01-24T00:21:17.129874Z",
     "iopub.status.busy": "2023-01-24T00:21:17.129445Z"
    },
    "papermill": {
     "duration": 0.013493,
     "end_time": "2023-02-13T09:36:45.197467",
     "exception": false,
     "start_time": "2023-02-13T09:36:45.183974",
     "status": "completed"
    },
    "tags": []
   },
   "source": [
    "## What number of cfips are there?\n",
    "Let's now investigate the cfips data."
   ]
  },
  {
   "cell_type": "code",
   "execution_count": 12,
   "id": "c465cb3d",
   "metadata": {
    "execution": {
     "iopub.execute_input": "2023-02-13T09:36:45.226765Z",
     "iopub.status.busy": "2023-02-13T09:36:45.226288Z",
     "iopub.status.idle": "2023-02-13T09:36:45.238939Z",
     "shell.execute_reply": "2023-02-13T09:36:45.237846Z"
    },
    "papermill": {
     "duration": 0.030934,
     "end_time": "2023-02-13T09:36:45.241769",
     "exception": false,
     "start_time": "2023-02-13T09:36:45.210835",
     "status": "completed"
    },
    "tags": []
   },
   "outputs": [
    {
     "data": {
      "text/plain": [
       "(3135, 3135, 3142)"
      ]
     },
     "execution_count": 12,
     "metadata": {},
     "output_type": "execute_result"
    }
   ],
   "source": [
    "df_Train['cfips'].nunique(), df_Test['cfips'].nunique(), df_Starter['cfips'].nunique()"
   ]
  },
  {
   "cell_type": "markdown",
   "id": "e303ae22",
   "metadata": {
    "papermill": {
     "duration": 0.012489,
     "end_time": "2023-02-13T09:36:45.267673",
     "exception": false,
     "start_time": "2023-02-13T09:36:45.255184",
     "status": "completed"
    },
    "tags": []
   },
   "source": [
    "We have test and train data totaling 3135 cfips.\n",
    "There are 3142 cfips overall (according to census statistics).\n",
    "The train and test datasets do not contain all of the cfips for which we do have census data."
   ]
  },
  {
   "cell_type": "markdown",
   "id": "e699b920",
   "metadata": {
    "papermill": {
     "duration": 0.013066,
     "end_time": "2023-02-13T09:36:45.294499",
     "exception": false,
     "start_time": "2023-02-13T09:36:45.281433",
     "status": "completed"
    },
    "tags": []
   },
   "source": [
    "## Data Cleaning"
   ]
  },
  {
   "cell_type": "code",
   "execution_count": 13,
   "id": "df1233ef",
   "metadata": {
    "execution": {
     "iopub.execute_input": "2023-02-13T09:36:45.323622Z",
     "iopub.status.busy": "2023-02-13T09:36:45.322980Z",
     "iopub.status.idle": "2023-02-13T09:36:45.328391Z",
     "shell.execute_reply": "2023-02-13T09:36:45.327234Z"
    },
    "papermill": {
     "duration": 0.022802,
     "end_time": "2023-02-13T09:36:45.330945",
     "exception": false,
     "start_time": "2023-02-13T09:36:45.308143",
     "status": "completed"
    },
    "tags": []
   },
   "outputs": [],
   "source": [
    "#function to seperate the first day of the month from the cfips\n",
    "def get_first_day_of_month(item):\n",
    "    item = item.split('_')[1]\n",
    "    return item\n",
    "\n",
    "def get_cfips(item):\n",
    "    item = item.split('_')[0]\n",
    "    return item"
   ]
  },
  {
   "cell_type": "code",
   "execution_count": 14,
   "id": "262c2afe",
   "metadata": {
    "execution": {
     "iopub.execute_input": "2023-02-13T09:36:45.358743Z",
     "iopub.status.busy": "2023-02-13T09:36:45.358353Z",
     "iopub.status.idle": "2023-02-13T09:36:45.393641Z",
     "shell.execute_reply": "2023-02-13T09:36:45.391809Z"
    },
    "papermill": {
     "duration": 0.05333,
     "end_time": "2023-02-13T09:36:45.397403",
     "exception": false,
     "start_time": "2023-02-13T09:36:45.344073",
     "status": "completed"
    },
    "tags": []
   },
   "outputs": [],
   "source": [
    "#applying the defined function\n",
    "df_Sub['first_day_of_month'] = df_Sub['row_id'].apply(get_first_day_of_month)\n",
    "df_Sub['cfips'] = df_Sub['row_id'].apply(get_cfips)"
   ]
  },
  {
   "cell_type": "code",
   "execution_count": 15,
   "id": "dfdeae12",
   "metadata": {
    "execution": {
     "iopub.execute_input": "2023-02-13T09:36:45.426792Z",
     "iopub.status.busy": "2023-02-13T09:36:45.426380Z",
     "iopub.status.idle": "2023-02-13T09:36:45.473402Z",
     "shell.execute_reply": "2023-02-13T09:36:45.471916Z"
    },
    "papermill": {
     "duration": 0.064615,
     "end_time": "2023-02-13T09:36:45.476528",
     "exception": false,
     "start_time": "2023-02-13T09:36:45.411913",
     "status": "completed"
    },
    "tags": []
   },
   "outputs": [],
   "source": [
    "#converting the date to datetime\n",
    "df_Test['first_day_of_month'] = pd.to_datetime(df_Test['first_day_of_month'])\n",
    "df_Train['first_day_of_month'] = pd.to_datetime(df_Train['first_day_of_month'])\n",
    "df_Sub['first_day_of_month'] = pd.to_datetime(df_Sub['first_day_of_month'])"
   ]
  },
  {
   "cell_type": "code",
   "execution_count": 16,
   "id": "8ad37f8e",
   "metadata": {
    "execution": {
     "iopub.execute_input": "2023-02-13T09:36:45.507307Z",
     "iopub.status.busy": "2023-02-13T09:36:45.505950Z",
     "iopub.status.idle": "2023-02-13T09:36:45.542498Z",
     "shell.execute_reply": "2023-02-13T09:36:45.540538Z"
    },
    "papermill": {
     "duration": 0.055336,
     "end_time": "2023-02-13T09:36:45.545289",
     "exception": false,
     "start_time": "2023-02-13T09:36:45.489953",
     "status": "completed"
    },
    "tags": []
   },
   "outputs": [],
   "source": [
    "# train['first_day_of_month'] = pd.to_datetime(train['first_day_of_month'])\n",
    "# train = train.sort_values(['cfips','first_day_of_month']).reset_index(drop=True)\n",
    "\n",
    "df_Train['year'] = df_Train['first_day_of_month'].dt.year\n",
    "df_Train['month'] = df_Train['first_day_of_month'].dt.month"
   ]
  },
  {
   "cell_type": "code",
   "execution_count": 17,
   "id": "17810565",
   "metadata": {
    "execution": {
     "iopub.execute_input": "2023-02-13T09:36:45.577562Z",
     "iopub.status.busy": "2023-02-13T09:36:45.576765Z",
     "iopub.status.idle": "2023-02-13T09:36:45.608498Z",
     "shell.execute_reply": "2023-02-13T09:36:45.606625Z"
    },
    "papermill": {
     "duration": 0.052191,
     "end_time": "2023-02-13T09:36:45.611641",
     "exception": false,
     "start_time": "2023-02-13T09:36:45.559450",
     "status": "completed"
    },
    "tags": []
   },
   "outputs": [],
   "source": [
    "#dropping the `row_id` column because the required information has been extracted\n",
    "df_Test.drop(['row_id'],axis = 1, inplace = True)\n",
    "df_Train.drop(['row_id'],axis = 1, inplace = True)\n",
    "df_Sub.drop(['row_id'],axis = 1, inplace = True)"
   ]
  },
  {
   "cell_type": "code",
   "execution_count": 18,
   "id": "80791299",
   "metadata": {
    "execution": {
     "iopub.execute_input": "2023-02-13T09:36:45.641661Z",
     "iopub.status.busy": "2023-02-13T09:36:45.641208Z",
     "iopub.status.idle": "2023-02-13T09:36:45.768824Z",
     "shell.execute_reply": "2023-02-13T09:36:45.767938Z"
    },
    "papermill": {
     "duration": 0.145661,
     "end_time": "2023-02-13T09:36:45.771365",
     "exception": false,
     "start_time": "2023-02-13T09:36:45.625704",
     "status": "completed"
    },
    "tags": []
   },
   "outputs": [
    {
     "data": {
      "text/html": [
       "<div>\n",
       "<style scoped>\n",
       "    .dataframe tbody tr th:only-of-type {\n",
       "        vertical-align: middle;\n",
       "    }\n",
       "\n",
       "    .dataframe tbody tr th {\n",
       "        vertical-align: top;\n",
       "    }\n",
       "\n",
       "    .dataframe thead th {\n",
       "        text-align: right;\n",
       "    }\n",
       "</style>\n",
       "<table border=\"1\" class=\"dataframe\">\n",
       "  <thead>\n",
       "    <tr style=\"text-align: right;\">\n",
       "      <th></th>\n",
       "      <th>cfips</th>\n",
       "      <th>county</th>\n",
       "      <th>state</th>\n",
       "      <th>first_day_of_month</th>\n",
       "      <th>microbusiness_density</th>\n",
       "      <th>active</th>\n",
       "      <th>year</th>\n",
       "      <th>month</th>\n",
       "      <th>pct_bb_2017</th>\n",
       "      <th>pct_bb_2018</th>\n",
       "      <th>...</th>\n",
       "      <th>pct_it_workers_2017</th>\n",
       "      <th>pct_it_workers_2018</th>\n",
       "      <th>pct_it_workers_2019</th>\n",
       "      <th>pct_it_workers_2020</th>\n",
       "      <th>pct_it_workers_2021</th>\n",
       "      <th>median_hh_inc_2017</th>\n",
       "      <th>median_hh_inc_2018</th>\n",
       "      <th>median_hh_inc_2019</th>\n",
       "      <th>median_hh_inc_2020</th>\n",
       "      <th>median_hh_inc_2021</th>\n",
       "    </tr>\n",
       "  </thead>\n",
       "  <tbody>\n",
       "    <tr>\n",
       "      <th>0</th>\n",
       "      <td>1001</td>\n",
       "      <td>Autauga County</td>\n",
       "      <td>Alabama</td>\n",
       "      <td>2019-08-01</td>\n",
       "      <td>3.007682</td>\n",
       "      <td>1249</td>\n",
       "      <td>2019</td>\n",
       "      <td>8</td>\n",
       "      <td>76.6</td>\n",
       "      <td>78.9</td>\n",
       "      <td>...</td>\n",
       "      <td>1.3</td>\n",
       "      <td>1.1</td>\n",
       "      <td>0.7</td>\n",
       "      <td>0.6</td>\n",
       "      <td>1.1</td>\n",
       "      <td>55317</td>\n",
       "      <td>58786.0</td>\n",
       "      <td>58731</td>\n",
       "      <td>57982.0</td>\n",
       "      <td>62660.0</td>\n",
       "    </tr>\n",
       "    <tr>\n",
       "      <th>1</th>\n",
       "      <td>1001</td>\n",
       "      <td>Autauga County</td>\n",
       "      <td>Alabama</td>\n",
       "      <td>2019-09-01</td>\n",
       "      <td>2.884870</td>\n",
       "      <td>1198</td>\n",
       "      <td>2019</td>\n",
       "      <td>9</td>\n",
       "      <td>76.6</td>\n",
       "      <td>78.9</td>\n",
       "      <td>...</td>\n",
       "      <td>1.3</td>\n",
       "      <td>1.1</td>\n",
       "      <td>0.7</td>\n",
       "      <td>0.6</td>\n",
       "      <td>1.1</td>\n",
       "      <td>55317</td>\n",
       "      <td>58786.0</td>\n",
       "      <td>58731</td>\n",
       "      <td>57982.0</td>\n",
       "      <td>62660.0</td>\n",
       "    </tr>\n",
       "  </tbody>\n",
       "</table>\n",
       "<p>2 rows × 33 columns</p>\n",
       "</div>"
      ],
      "text/plain": [
       "   cfips          county    state first_day_of_month  microbusiness_density  \\\n",
       "0   1001  Autauga County  Alabama         2019-08-01               3.007682   \n",
       "1   1001  Autauga County  Alabama         2019-09-01               2.884870   \n",
       "\n",
       "   active  year  month  pct_bb_2017  pct_bb_2018  ...  pct_it_workers_2017  \\\n",
       "0    1249  2019      8         76.6         78.9  ...                  1.3   \n",
       "1    1198  2019      9         76.6         78.9  ...                  1.3   \n",
       "\n",
       "   pct_it_workers_2018  pct_it_workers_2019  pct_it_workers_2020  \\\n",
       "0                  1.1                  0.7                  0.6   \n",
       "1                  1.1                  0.7                  0.6   \n",
       "\n",
       "   pct_it_workers_2021  median_hh_inc_2017  median_hh_inc_2018  \\\n",
       "0                  1.1               55317             58786.0   \n",
       "1                  1.1               55317             58786.0   \n",
       "\n",
       "   median_hh_inc_2019  median_hh_inc_2020  median_hh_inc_2021  \n",
       "0               58731             57982.0             62660.0  \n",
       "1               58731             57982.0             62660.0  \n",
       "\n",
       "[2 rows x 33 columns]"
      ]
     },
     "execution_count": 18,
     "metadata": {},
     "output_type": "execute_result"
    }
   ],
   "source": [
    "#merging the dataset \n",
    "df_trainMerged = df_Train.merge(df_Starter, on = 'cfips', how = 'left')\n",
    "df_trainMerged.head(2)"
   ]
  },
  {
   "cell_type": "code",
   "execution_count": 19,
   "id": "c496008d",
   "metadata": {
    "execution": {
     "iopub.execute_input": "2023-02-13T09:36:45.801058Z",
     "iopub.status.busy": "2023-02-13T09:36:45.800404Z",
     "iopub.status.idle": "2023-02-13T09:36:45.827990Z",
     "shell.execute_reply": "2023-02-13T09:36:45.826870Z"
    },
    "papermill": {
     "duration": 0.04579,
     "end_time": "2023-02-13T09:36:45.830604",
     "exception": false,
     "start_time": "2023-02-13T09:36:45.784814",
     "status": "completed"
    },
    "tags": []
   },
   "outputs": [
    {
     "data": {
      "text/plain": [
       "cfips                     0\n",
       "county                    0\n",
       "state                     0\n",
       "first_day_of_month        0\n",
       "microbusiness_density     0\n",
       "active                    0\n",
       "year                      0\n",
       "month                     0\n",
       "pct_bb_2017               0\n",
       "pct_bb_2018               0\n",
       "pct_bb_2019               0\n",
       "pct_bb_2020               0\n",
       "pct_bb_2021               0\n",
       "pct_college_2017          0\n",
       "pct_college_2018          0\n",
       "pct_college_2019          0\n",
       "pct_college_2020          0\n",
       "pct_college_2021          0\n",
       "pct_foreign_born_2017     0\n",
       "pct_foreign_born_2018     0\n",
       "pct_foreign_born_2019     0\n",
       "pct_foreign_born_2020     0\n",
       "pct_foreign_born_2021     0\n",
       "pct_it_workers_2017       0\n",
       "pct_it_workers_2018      39\n",
       "pct_it_workers_2019       0\n",
       "pct_it_workers_2020       0\n",
       "pct_it_workers_2021       0\n",
       "median_hh_inc_2017        0\n",
       "median_hh_inc_2018       39\n",
       "median_hh_inc_2019        0\n",
       "median_hh_inc_2020       39\n",
       "median_hh_inc_2021       39\n",
       "dtype: int64"
      ]
     },
     "execution_count": 19,
     "metadata": {},
     "output_type": "execute_result"
    }
   ],
   "source": [
    "#after merging, we can see that some columns now have null values which needs to be cleaned up\n",
    "df_trainMerged.isna().sum()"
   ]
  },
  {
   "cell_type": "code",
   "execution_count": 20,
   "id": "90873ad1",
   "metadata": {
    "execution": {
     "iopub.execute_input": "2023-02-13T09:36:45.861268Z",
     "iopub.status.busy": "2023-02-13T09:36:45.860827Z",
     "iopub.status.idle": "2023-02-13T09:36:45.919501Z",
     "shell.execute_reply": "2023-02-13T09:36:45.918262Z"
    },
    "papermill": {
     "duration": 0.077093,
     "end_time": "2023-02-13T09:36:45.921989",
     "exception": false,
     "start_time": "2023-02-13T09:36:45.844896",
     "status": "completed"
    },
    "tags": []
   },
   "outputs": [
    {
     "data": {
      "text/html": [
       "<div>\n",
       "<style scoped>\n",
       "    .dataframe tbody tr th:only-of-type {\n",
       "        vertical-align: middle;\n",
       "    }\n",
       "\n",
       "    .dataframe tbody tr th {\n",
       "        vertical-align: top;\n",
       "    }\n",
       "\n",
       "    .dataframe thead th {\n",
       "        text-align: right;\n",
       "    }\n",
       "</style>\n",
       "<table border=\"1\" class=\"dataframe\">\n",
       "  <thead>\n",
       "    <tr style=\"text-align: right;\">\n",
       "      <th></th>\n",
       "      <th>cfips</th>\n",
       "      <th>county</th>\n",
       "      <th>state</th>\n",
       "      <th>first_day_of_month</th>\n",
       "      <th>microbusiness_density</th>\n",
       "      <th>active</th>\n",
       "      <th>year</th>\n",
       "      <th>month</th>\n",
       "      <th>pct_bb_2017</th>\n",
       "      <th>pct_bb_2018</th>\n",
       "      <th>...</th>\n",
       "      <th>pct_it_workers_2017</th>\n",
       "      <th>pct_it_workers_2018</th>\n",
       "      <th>pct_it_workers_2019</th>\n",
       "      <th>pct_it_workers_2020</th>\n",
       "      <th>pct_it_workers_2021</th>\n",
       "      <th>median_hh_inc_2017</th>\n",
       "      <th>median_hh_inc_2018</th>\n",
       "      <th>median_hh_inc_2019</th>\n",
       "      <th>median_hh_inc_2020</th>\n",
       "      <th>median_hh_inc_2021</th>\n",
       "    </tr>\n",
       "  </thead>\n",
       "  <tbody>\n",
       "    <tr>\n",
       "      <th>70707</th>\n",
       "      <td>35039</td>\n",
       "      <td>Rio Arriba County</td>\n",
       "      <td>New Mexico</td>\n",
       "      <td>2019-08-01</td>\n",
       "      <td>2.472180</td>\n",
       "      <td>742</td>\n",
       "      <td>2019</td>\n",
       "      <td>8</td>\n",
       "      <td>49.1</td>\n",
       "      <td>52.1</td>\n",
       "      <td>...</td>\n",
       "      <td>0.8</td>\n",
       "      <td>NaN</td>\n",
       "      <td>0.8</td>\n",
       "      <td>0.4</td>\n",
       "      <td>0.7</td>\n",
       "      <td>33422</td>\n",
       "      <td>NaN</td>\n",
       "      <td>39952</td>\n",
       "      <td>42264.0</td>\n",
       "      <td>46994.0</td>\n",
       "    </tr>\n",
       "    <tr>\n",
       "      <th>70708</th>\n",
       "      <td>35039</td>\n",
       "      <td>Rio Arriba County</td>\n",
       "      <td>New Mexico</td>\n",
       "      <td>2019-09-01</td>\n",
       "      <td>2.458852</td>\n",
       "      <td>738</td>\n",
       "      <td>2019</td>\n",
       "      <td>9</td>\n",
       "      <td>49.1</td>\n",
       "      <td>52.1</td>\n",
       "      <td>...</td>\n",
       "      <td>0.8</td>\n",
       "      <td>NaN</td>\n",
       "      <td>0.8</td>\n",
       "      <td>0.4</td>\n",
       "      <td>0.7</td>\n",
       "      <td>33422</td>\n",
       "      <td>NaN</td>\n",
       "      <td>39952</td>\n",
       "      <td>42264.0</td>\n",
       "      <td>46994.0</td>\n",
       "    </tr>\n",
       "  </tbody>\n",
       "</table>\n",
       "<p>2 rows × 33 columns</p>\n",
       "</div>"
      ],
      "text/plain": [
       "       cfips             county       state first_day_of_month  \\\n",
       "70707  35039  Rio Arriba County  New Mexico         2019-08-01   \n",
       "70708  35039  Rio Arriba County  New Mexico         2019-09-01   \n",
       "\n",
       "       microbusiness_density  active  year  month  pct_bb_2017  pct_bb_2018  \\\n",
       "70707               2.472180     742  2019      8         49.1         52.1   \n",
       "70708               2.458852     738  2019      9         49.1         52.1   \n",
       "\n",
       "       ...  pct_it_workers_2017  pct_it_workers_2018  pct_it_workers_2019  \\\n",
       "70707  ...                  0.8                  NaN                  0.8   \n",
       "70708  ...                  0.8                  NaN                  0.8   \n",
       "\n",
       "       pct_it_workers_2020  pct_it_workers_2021  median_hh_inc_2017  \\\n",
       "70707                  0.4                  0.7               33422   \n",
       "70708                  0.4                  0.7               33422   \n",
       "\n",
       "       median_hh_inc_2018  median_hh_inc_2019  median_hh_inc_2020  \\\n",
       "70707                 NaN               39952             42264.0   \n",
       "70708                 NaN               39952             42264.0   \n",
       "\n",
       "       median_hh_inc_2021  \n",
       "70707             46994.0  \n",
       "70708             46994.0  \n",
       "\n",
       "[2 rows x 33 columns]"
      ]
     },
     "execution_count": 20,
     "metadata": {},
     "output_type": "execute_result"
    }
   ],
   "source": [
    "#sample is the df_trainMerged['pct_bb_2018']column which we can also view below\n",
    "df_null = df_trainMerged[df_trainMerged['pct_it_workers_2018'].isnull()]\n",
    "df_null.head(2)"
   ]
  },
  {
   "cell_type": "code",
   "execution_count": 21,
   "id": "b303c08c",
   "metadata": {
    "execution": {
     "iopub.execute_input": "2023-02-13T09:36:45.953492Z",
     "iopub.status.busy": "2023-02-13T09:36:45.953092Z",
     "iopub.status.idle": "2023-02-13T09:36:46.491306Z",
     "shell.execute_reply": "2023-02-13T09:36:46.489230Z"
    },
    "papermill": {
     "duration": 0.557983,
     "end_time": "2023-02-13T09:36:46.494445",
     "exception": false,
     "start_time": "2023-02-13T09:36:45.936462",
     "status": "completed"
    },
    "tags": []
   },
   "outputs": [
    {
     "data": {
      "image/png": "[encoded data removed]",
      "text/plain": [
       "<Figure size 432x432 with 4 Axes>"
      ]
     },
     "metadata": {
      "needs_background": "light"
     },
     "output_type": "display_data"
    }
   ],
   "source": [
    "#showing the distribution of the columns with null values\n",
    "data1 = df_trainMerged[['pct_it_workers_2018','median_hh_inc_2018', 'median_hh_inc_2020', 'median_hh_inc_2021']]\n",
    "data1.hist(bins = 5, figsize=(6,6))\n",
    "plt.show()"
   ]
  },
  {
   "cell_type": "markdown",
   "id": "8444fb9b",
   "metadata": {
    "execution": {
     "iopub.execute_input": "2023-01-31T00:04:41.342232Z",
     "iopub.status.busy": "2023-01-31T00:04:41.341401Z",
     "iopub.status.idle": "2023-01-31T00:04:41.360403Z",
     "shell.execute_reply": "2023-01-31T00:04:41.358858Z",
     "shell.execute_reply.started": "2023-01-31T00:04:41.342181Z"
    },
    "papermill": {
     "duration": 0.014502,
     "end_time": "2023-02-13T09:36:46.525175",
     "exception": false,
     "start_time": "2023-02-13T09:36:46.510673",
     "status": "completed"
    },
    "tags": []
   },
   "source": [
    "The null columns are skewed to the left they are also numerical, therfore, I would be  using the median value for replacing the missing values.\n"
   ]
  },
  {
   "cell_type": "code",
   "execution_count": 22,
   "id": "e8d1443f",
   "metadata": {
    "execution": {
     "iopub.execute_input": "2023-02-13T09:36:46.561399Z",
     "iopub.status.busy": "2023-02-13T09:36:46.559823Z",
     "iopub.status.idle": "2023-02-13T09:36:46.583522Z",
     "shell.execute_reply": "2023-02-13T09:36:46.582392Z"
    },
    "papermill": {
     "duration": 0.046254,
     "end_time": "2023-02-13T09:36:46.586231",
     "exception": false,
     "start_time": "2023-02-13T09:36:46.539977",
     "status": "completed"
    },
    "tags": []
   },
   "outputs": [],
   "source": [
    "#filling the null values with the median\n",
    "df_trainMerged['pct_it_workers_2018']= df_trainMerged['pct_it_workers_2018'].fillna(df_trainMerged['pct_it_workers_2018'].median())\n",
    "df_trainMerged['median_hh_inc_2018']= df_trainMerged['median_hh_inc_2018'].fillna(df_trainMerged['median_hh_inc_2018'].median())\n",
    "df_trainMerged['median_hh_inc_2020']= df_trainMerged['median_hh_inc_2020'].fillna(df_trainMerged['median_hh_inc_2020'].median())\n",
    "df_trainMerged['median_hh_inc_2021']= df_trainMerged['median_hh_inc_2021'].fillna(df_trainMerged['median_hh_inc_2021'].median())"
   ]
  },
  {
   "cell_type": "markdown",
   "id": "0b9e7eb8",
   "metadata": {
    "papermill": {
     "duration": 0.013802,
     "end_time": "2023-02-13T09:36:46.614982",
     "exception": false,
     "start_time": "2023-02-13T09:36:46.601180",
     "status": "completed"
    },
    "tags": []
   },
   "source": [
    "## Exploratory Data Analysis"
   ]
  },
  {
   "cell_type": "markdown",
   "id": "21cac8e2",
   "metadata": {
    "papermill": {
     "duration": 0.014143,
     "end_time": "2023-02-13T09:36:46.643682",
     "exception": false,
     "start_time": "2023-02-13T09:36:46.629539",
     "status": "completed"
    },
    "tags": []
   },
   "source": [
    "### The top 10 counties according to their counts"
   ]
  },
  {
   "cell_type": "code",
   "execution_count": 23,
   "id": "bf497017",
   "metadata": {
    "execution": {
     "iopub.execute_input": "2023-02-13T09:36:46.674533Z",
     "iopub.status.busy": "2023-02-13T09:36:46.674141Z",
     "iopub.status.idle": "2023-02-13T09:36:46.706422Z",
     "shell.execute_reply": "2023-02-13T09:36:46.704647Z"
    },
    "papermill": {
     "duration": 0.050523,
     "end_time": "2023-02-13T09:36:46.708911",
     "exception": false,
     "start_time": "2023-02-13T09:36:46.658388",
     "status": "completed"
    },
    "tags": []
   },
   "outputs": [
    {
     "data": {
      "text/html": [
       "<div>\n",
       "<style scoped>\n",
       "    .dataframe tbody tr th:only-of-type {\n",
       "        vertical-align: middle;\n",
       "    }\n",
       "\n",
       "    .dataframe tbody tr th {\n",
       "        vertical-align: top;\n",
       "    }\n",
       "\n",
       "    .dataframe thead th {\n",
       "        text-align: right;\n",
       "    }\n",
       "</style>\n",
       "<table border=\"1\" class=\"dataframe\">\n",
       "  <thead>\n",
       "    <tr style=\"text-align: right;\">\n",
       "      <th></th>\n",
       "      <th>county</th>\n",
       "      <th>counts</th>\n",
       "    </tr>\n",
       "  </thead>\n",
       "  <tbody>\n",
       "    <tr>\n",
       "      <th>0</th>\n",
       "      <td>Washington County</td>\n",
       "      <td>1170</td>\n",
       "    </tr>\n",
       "    <tr>\n",
       "      <th>1</th>\n",
       "      <td>Jefferson County</td>\n",
       "      <td>975</td>\n",
       "    </tr>\n",
       "    <tr>\n",
       "      <th>2</th>\n",
       "      <td>Franklin County</td>\n",
       "      <td>936</td>\n",
       "    </tr>\n",
       "    <tr>\n",
       "      <th>3</th>\n",
       "      <td>Lincoln County</td>\n",
       "      <td>897</td>\n",
       "    </tr>\n",
       "    <tr>\n",
       "      <th>4</th>\n",
       "      <td>Jackson County</td>\n",
       "      <td>897</td>\n",
       "    </tr>\n",
       "    <tr>\n",
       "      <th>5</th>\n",
       "      <td>Madison County</td>\n",
       "      <td>741</td>\n",
       "    </tr>\n",
       "    <tr>\n",
       "      <th>6</th>\n",
       "      <td>Montgomery County</td>\n",
       "      <td>702</td>\n",
       "    </tr>\n",
       "    <tr>\n",
       "      <th>7</th>\n",
       "      <td>Clay County</td>\n",
       "      <td>702</td>\n",
       "    </tr>\n",
       "    <tr>\n",
       "      <th>8</th>\n",
       "      <td>Marion County</td>\n",
       "      <td>663</td>\n",
       "    </tr>\n",
       "    <tr>\n",
       "      <th>9</th>\n",
       "      <td>Monroe County</td>\n",
       "      <td>663</td>\n",
       "    </tr>\n",
       "  </tbody>\n",
       "</table>\n",
       "</div>"
      ],
      "text/plain": [
       "              county  counts\n",
       "0  Washington County    1170\n",
       "1   Jefferson County     975\n",
       "2    Franklin County     936\n",
       "3     Lincoln County     897\n",
       "4     Jackson County     897\n",
       "5     Madison County     741\n",
       "6  Montgomery County     702\n",
       "7        Clay County     702\n",
       "8      Marion County     663\n",
       "9      Monroe County     663"
      ]
     },
     "execution_count": 23,
     "metadata": {},
     "output_type": "execute_result"
    }
   ],
   "source": [
    "#grouping the country based on their count in a descending order\n",
    "top_county = df_trainMerged['county'].groupby(df_trainMerged['county']).size().sort_values(ascending = False)\n",
    "top_county = top_county.reset_index(name='counts')\n",
    "top_county.head(10)"
   ]
  },
  {
   "cell_type": "code",
   "execution_count": 24,
   "id": "7595074b",
   "metadata": {
    "execution": {
     "iopub.execute_input": "2023-02-13T09:36:46.741207Z",
     "iopub.status.busy": "2023-02-13T09:36:46.740485Z",
     "iopub.status.idle": "2023-02-13T09:36:46.992902Z",
     "shell.execute_reply": "2023-02-13T09:36:46.991997Z"
    },
    "papermill": {
     "duration": 0.271673,
     "end_time": "2023-02-13T09:36:46.995293",
     "exception": false,
     "start_time": "2023-02-13T09:36:46.723620",
     "status": "completed"
    },
    "tags": []
   },
   "outputs": [
    {
     "data": {
      "image/png": "[encoded data removed]",
      "text/plain": [
       "<Figure size 576x432 with 1 Axes>"
      ]
     },
     "metadata": {
      "needs_background": "light"
     },
     "output_type": "display_data"
    }
   ],
   "source": [
    "plt.figure(figsize = (8,6))\n",
    "sns.barplot(y ='county', x = 'counts', data = top_county.head(10), linewidth = 2,  palette ='Blues_r' )\n",
    "plt.xticks(rotation = 30, ha='right')\n",
    "plt.title('top 10 countries based on their counts')\n",
    "plt.show()"
   ]
  },
  {
   "cell_type": "markdown",
   "id": "ce46c9c2",
   "metadata": {
    "execution": {
     "iopub.execute_input": "2023-02-06T21:53:18.367756Z",
     "iopub.status.busy": "2023-02-06T21:53:18.367364Z",
     "iopub.status.idle": "2023-02-06T21:53:18.375233Z",
     "shell.execute_reply": "2023-02-06T21:53:18.373630Z",
     "shell.execute_reply.started": "2023-02-06T21:53:18.367725Z"
    },
    "papermill": {
     "duration": 0.014787,
     "end_time": "2023-02-13T09:36:47.025250",
     "exception": false,
     "start_time": "2023-02-13T09:36:47.010463",
     "status": "completed"
    },
    "tags": []
   },
   "source": [
    "The most microbusinesses are located in Washington, Jefferson County, Franklin County, and other places."
   ]
  },
  {
   "cell_type": "markdown",
   "id": "413c3d8c",
   "metadata": {
    "execution": {
     "iopub.status.busy": "2023-01-30T23:47:40.571470Z"
    },
    "papermill": {
     "duration": 0.015365,
     "end_time": "2023-02-13T09:36:47.055644",
     "exception": false,
     "start_time": "2023-02-13T09:36:47.040279",
     "status": "completed"
    },
    "tags": []
   },
   "source": [
    "### The top 10 county based on their microdensities"
   ]
  },
  {
   "cell_type": "code",
   "execution_count": 25,
   "id": "990f4f06",
   "metadata": {
    "execution": {
     "iopub.execute_input": "2023-02-13T09:36:47.087008Z",
     "iopub.status.busy": "2023-02-13T09:36:47.086291Z",
     "iopub.status.idle": "2023-02-13T09:36:47.114468Z",
     "shell.execute_reply": "2023-02-13T09:36:47.113312Z"
    },
    "papermill": {
     "duration": 0.046668,
     "end_time": "2023-02-13T09:36:47.117084",
     "exception": false,
     "start_time": "2023-02-13T09:36:47.070416",
     "status": "completed"
    },
    "tags": []
   },
   "outputs": [
    {
     "data": {
      "text/html": [
       "<div>\n",
       "<style scoped>\n",
       "    .dataframe tbody tr th:only-of-type {\n",
       "        vertical-align: middle;\n",
       "    }\n",
       "\n",
       "    .dataframe tbody tr th {\n",
       "        vertical-align: top;\n",
       "    }\n",
       "\n",
       "    .dataframe thead th {\n",
       "        text-align: right;\n",
       "    }\n",
       "</style>\n",
       "<table border=\"1\" class=\"dataframe\">\n",
       "  <thead>\n",
       "    <tr style=\"text-align: right;\">\n",
       "      <th></th>\n",
       "      <th>county</th>\n",
       "      <th>microbusiness_density</th>\n",
       "    </tr>\n",
       "  </thead>\n",
       "  <tbody>\n",
       "    <tr>\n",
       "      <th>0</th>\n",
       "      <td>Carson City</td>\n",
       "      <td>87.196625</td>\n",
       "    </tr>\n",
       "    <tr>\n",
       "      <th>1</th>\n",
       "      <td>Rio Grande County</td>\n",
       "      <td>60.942899</td>\n",
       "    </tr>\n",
       "    <tr>\n",
       "      <th>2</th>\n",
       "      <td>Boundary County</td>\n",
       "      <td>46.730638</td>\n",
       "    </tr>\n",
       "    <tr>\n",
       "      <th>3</th>\n",
       "      <td>New York County</td>\n",
       "      <td>32.892037</td>\n",
       "    </tr>\n",
       "    <tr>\n",
       "      <th>4</th>\n",
       "      <td>Minnehaha County</td>\n",
       "      <td>32.261295</td>\n",
       "    </tr>\n",
       "    <tr>\n",
       "      <th>5</th>\n",
       "      <td>Transylvania County</td>\n",
       "      <td>28.956531</td>\n",
       "    </tr>\n",
       "    <tr>\n",
       "      <th>6</th>\n",
       "      <td>Pitkin County</td>\n",
       "      <td>27.567022</td>\n",
       "    </tr>\n",
       "    <tr>\n",
       "      <th>7</th>\n",
       "      <td>Falls Church city</td>\n",
       "      <td>22.216376</td>\n",
       "    </tr>\n",
       "    <tr>\n",
       "      <th>8</th>\n",
       "      <td>Tulsa County</td>\n",
       "      <td>22.156203</td>\n",
       "    </tr>\n",
       "    <tr>\n",
       "      <th>9</th>\n",
       "      <td>Alachua County</td>\n",
       "      <td>21.545587</td>\n",
       "    </tr>\n",
       "  </tbody>\n",
       "</table>\n",
       "</div>"
      ],
      "text/plain": [
       "                county  microbusiness_density\n",
       "0          Carson City              87.196625\n",
       "1    Rio Grande County              60.942899\n",
       "2      Boundary County              46.730638\n",
       "3      New York County              32.892037\n",
       "4     Minnehaha County              32.261295\n",
       "5  Transylvania County              28.956531\n",
       "6        Pitkin County              27.567022\n",
       "7    Falls Church city              22.216376\n",
       "8         Tulsa County              22.156203\n",
       "9       Alachua County              21.545587"
      ]
     },
     "execution_count": 25,
     "metadata": {},
     "output_type": "execute_result"
    }
   ],
   "source": [
    "top_countyM = df_trainMerged.groupby('county')['microbusiness_density'].mean().sort_values(ascending=False)\n",
    "top_countyM = top_countyM.reset_index()\n",
    "top_countyM.head(10)"
   ]
  },
  {
   "cell_type": "code",
   "execution_count": 26,
   "id": "bc981ec8",
   "metadata": {
    "execution": {
     "iopub.execute_input": "2023-02-13T09:36:47.148734Z",
     "iopub.status.busy": "2023-02-13T09:36:47.148336Z",
     "iopub.status.idle": "2023-02-13T09:36:47.394258Z",
     "shell.execute_reply": "2023-02-13T09:36:47.392973Z"
    },
    "papermill": {
     "duration": 0.264777,
     "end_time": "2023-02-13T09:36:47.396734",
     "exception": false,
     "start_time": "2023-02-13T09:36:47.131957",
     "status": "completed"
    },
    "tags": []
   },
   "outputs": [
    {
     "data": {
      "image/png": "[encoded data removed]",
      "text/plain": [
       "<Figure size 576x432 with 1 Axes>"
      ]
     },
     "metadata": {
      "needs_background": "light"
     },
     "output_type": "display_data"
    }
   ],
   "source": [
    "#average microdensitiy countries plot\n",
    "plt.figure(figsize = (8,6))\n",
    "sns.barplot(data = top_countyM.head(10), y = 'county', x = 'microbusiness_density', linewidth = 2,  palette ='mako')\n",
    "plt.xticks(rotation = 30, ha='right')\n",
    "plt.title('top countries based on their microbusiness density')\n",
    "plt.show()"
   ]
  },
  {
   "cell_type": "markdown",
   "id": "16c7447b",
   "metadata": {
    "execution": {
     "iopub.execute_input": "2023-01-31T02:35:16.105844Z",
     "iopub.status.busy": "2023-01-31T02:35:16.105414Z",
     "iopub.status.idle": "2023-01-31T02:35:16.113998Z",
     "shell.execute_reply": "2023-01-31T02:35:16.112113Z",
     "shell.execute_reply.started": "2023-01-31T02:35:16.105810Z"
    },
    "papermill": {
     "duration": 0.014917,
     "end_time": "2023-02-13T09:36:47.427224",
     "exception": false,
     "start_time": "2023-02-13T09:36:47.412307",
     "status": "completed"
    },
    "tags": []
   },
   "source": [
    "Carson City, Rio Grande and Boundary county have highest average microbusiness density"
   ]
  },
  {
   "cell_type": "markdown",
   "id": "41ffdd5f",
   "metadata": {
    "execution": {
     "iopub.execute_input": "2023-01-30T23:53:07.848365Z",
     "iopub.status.busy": "2023-01-30T23:53:07.847928Z",
     "iopub.status.idle": "2023-01-30T23:53:07.853005Z"
    },
    "papermill": {
     "duration": 0.015593,
     "end_time": "2023-02-13T09:36:47.458491",
     "exception": false,
     "start_time": "2023-02-13T09:36:47.442898",
     "status": "completed"
    },
    "tags": []
   },
   "source": [
    "### The top counties with most active microbusinesses"
   ]
  },
  {
   "cell_type": "code",
   "execution_count": 27,
   "id": "999e7c63",
   "metadata": {
    "execution": {
     "iopub.execute_input": "2023-02-13T09:36:47.492400Z",
     "iopub.status.busy": "2023-02-13T09:36:47.491213Z",
     "iopub.status.idle": "2023-02-13T09:36:47.518811Z",
     "shell.execute_reply": "2023-02-13T09:36:47.517423Z"
    },
    "papermill": {
     "duration": 0.047436,
     "end_time": "2023-02-13T09:36:47.521435",
     "exception": false,
     "start_time": "2023-02-13T09:36:47.473999",
     "status": "completed"
    },
    "tags": []
   },
   "outputs": [
    {
     "data": {
      "text/html": [
       "<div>\n",
       "<style scoped>\n",
       "    .dataframe tbody tr th:only-of-type {\n",
       "        vertical-align: middle;\n",
       "    }\n",
       "\n",
       "    .dataframe tbody tr th {\n",
       "        vertical-align: top;\n",
       "    }\n",
       "\n",
       "    .dataframe thead th {\n",
       "        text-align: right;\n",
       "    }\n",
       "</style>\n",
       "<table border=\"1\" class=\"dataframe\">\n",
       "  <thead>\n",
       "    <tr style=\"text-align: right;\">\n",
       "      <th></th>\n",
       "      <th>county</th>\n",
       "      <th>active</th>\n",
       "    </tr>\n",
       "  </thead>\n",
       "  <tbody>\n",
       "    <tr>\n",
       "      <th>0</th>\n",
       "      <td>Los Angeles County</td>\n",
       "      <td>43842767</td>\n",
       "    </tr>\n",
       "    <tr>\n",
       "      <th>1</th>\n",
       "      <td>Orange County</td>\n",
       "      <td>23266851</td>\n",
       "    </tr>\n",
       "    <tr>\n",
       "      <th>2</th>\n",
       "      <td>Maricopa County</td>\n",
       "      <td>18238217</td>\n",
       "    </tr>\n",
       "    <tr>\n",
       "      <th>3</th>\n",
       "      <td>New York County</td>\n",
       "      <td>17943980</td>\n",
       "    </tr>\n",
       "    <tr>\n",
       "      <th>4</th>\n",
       "      <td>Clark County</td>\n",
       "      <td>15827161</td>\n",
       "    </tr>\n",
       "    <tr>\n",
       "      <th>5</th>\n",
       "      <td>San Diego County</td>\n",
       "      <td>14132392</td>\n",
       "    </tr>\n",
       "    <tr>\n",
       "      <th>6</th>\n",
       "      <td>Cook County</td>\n",
       "      <td>13971074</td>\n",
       "    </tr>\n",
       "    <tr>\n",
       "      <th>7</th>\n",
       "      <td>Miami-Dade County</td>\n",
       "      <td>13859930</td>\n",
       "    </tr>\n",
       "    <tr>\n",
       "      <th>8</th>\n",
       "      <td>Montgomery County</td>\n",
       "      <td>12313737</td>\n",
       "    </tr>\n",
       "    <tr>\n",
       "      <th>9</th>\n",
       "      <td>Harris County</td>\n",
       "      <td>11642363</td>\n",
       "    </tr>\n",
       "  </tbody>\n",
       "</table>\n",
       "</div>"
      ],
      "text/plain": [
       "               county    active\n",
       "0  Los Angeles County  43842767\n",
       "1       Orange County  23266851\n",
       "2     Maricopa County  18238217\n",
       "3     New York County  17943980\n",
       "4        Clark County  15827161\n",
       "5    San Diego County  14132392\n",
       "6         Cook County  13971074\n",
       "7   Miami-Dade County  13859930\n",
       "8   Montgomery County  12313737\n",
       "9       Harris County  11642363"
      ]
     },
     "execution_count": 27,
     "metadata": {},
     "output_type": "execute_result"
    }
   ],
   "source": [
    "#average microdensitiy countries plot\n",
    "active_countyM =  df_trainMerged.groupby('county')['active'].sum().sort_values(ascending=False)\n",
    "active_countyM = active_countyM.reset_index()\n",
    "active_countyM.head(10)"
   ]
  },
  {
   "cell_type": "code",
   "execution_count": 28,
   "id": "daea5529",
   "metadata": {
    "execution": {
     "iopub.execute_input": "2023-02-13T09:36:47.554819Z",
     "iopub.status.busy": "2023-02-13T09:36:47.554405Z",
     "iopub.status.idle": "2023-02-13T09:36:47.803308Z",
     "shell.execute_reply": "2023-02-13T09:36:47.802102Z"
    },
    "papermill": {
     "duration": 0.26823,
     "end_time": "2023-02-13T09:36:47.805774",
     "exception": false,
     "start_time": "2023-02-13T09:36:47.537544",
     "status": "completed"
    },
    "tags": []
   },
   "outputs": [
    {
     "data": {
      "image/png": "[encoded data removed]",
      "text/plain": [
       "<Figure size 576x432 with 1 Axes>"
      ]
     },
     "metadata": {
      "needs_background": "light"
     },
     "output_type": "display_data"
    }
   ],
   "source": [
    "#average microdensitiy countries plot\n",
    "plt.figure(figsize = (8,6))\n",
    "sns.barplot(data = active_countyM.head(10), y = 'county', x='active', linewidth = 2,  palette ='mako')\n",
    "plt.xticks(rotation = 30, ha='right')\n",
    "plt.title('top counties with the most active microbusinesses')\n",
    "plt.show()"
   ]
  },
  {
   "cell_type": "markdown",
   "id": "a8b4b542",
   "metadata": {
    "papermill": {
     "duration": 0.015226,
     "end_time": "2023-02-13T09:36:47.836802",
     "exception": false,
     "start_time": "2023-02-13T09:36:47.821576",
     "status": "completed"
    },
    "tags": []
   },
   "source": [
    "Los Angeles, Orange County, Maricopa County, and other areas have the most active microbusinesses."
   ]
  },
  {
   "cell_type": "code",
   "execution_count": 29,
   "id": "17f77b68",
   "metadata": {
    "execution": {
     "iopub.execute_input": "2023-02-13T09:36:47.870638Z",
     "iopub.status.busy": "2023-02-13T09:36:47.870210Z",
     "iopub.status.idle": "2023-02-13T09:36:47.886688Z",
     "shell.execute_reply": "2023-02-13T09:36:47.885677Z"
    },
    "papermill": {
     "duration": 0.036248,
     "end_time": "2023-02-13T09:36:47.889079",
     "exception": false,
     "start_time": "2023-02-13T09:36:47.852831",
     "status": "completed"
    },
    "tags": []
   },
   "outputs": [
    {
     "data": {
      "text/html": [
       "<div>\n",
       "<style scoped>\n",
       "    .dataframe tbody tr th:only-of-type {\n",
       "        vertical-align: middle;\n",
       "    }\n",
       "\n",
       "    .dataframe tbody tr th {\n",
       "        vertical-align: top;\n",
       "    }\n",
       "\n",
       "    .dataframe thead th {\n",
       "        text-align: right;\n",
       "    }\n",
       "</style>\n",
       "<table border=\"1\" class=\"dataframe\">\n",
       "  <thead>\n",
       "    <tr style=\"text-align: right;\">\n",
       "      <th></th>\n",
       "      <th>month</th>\n",
       "      <th>microbusiness_density</th>\n",
       "    </tr>\n",
       "  </thead>\n",
       "  <tbody>\n",
       "    <tr>\n",
       "      <th>0</th>\n",
       "      <td>1</td>\n",
       "      <td>3.767546</td>\n",
       "    </tr>\n",
       "    <tr>\n",
       "      <th>1</th>\n",
       "      <td>2</td>\n",
       "      <td>3.779636</td>\n",
       "    </tr>\n",
       "    <tr>\n",
       "      <th>2</th>\n",
       "      <td>3</td>\n",
       "      <td>3.805977</td>\n",
       "    </tr>\n",
       "    <tr>\n",
       "      <th>3</th>\n",
       "      <td>4</td>\n",
       "      <td>3.831690</td>\n",
       "    </tr>\n",
       "    <tr>\n",
       "      <th>4</th>\n",
       "      <td>5</td>\n",
       "      <td>3.830886</td>\n",
       "    </tr>\n",
       "    <tr>\n",
       "      <th>5</th>\n",
       "      <td>6</td>\n",
       "      <td>3.820389</td>\n",
       "    </tr>\n",
       "    <tr>\n",
       "      <th>6</th>\n",
       "      <td>7</td>\n",
       "      <td>3.851197</td>\n",
       "    </tr>\n",
       "    <tr>\n",
       "      <th>7</th>\n",
       "      <td>8</td>\n",
       "      <td>3.832016</td>\n",
       "    </tr>\n",
       "    <tr>\n",
       "      <th>8</th>\n",
       "      <td>9</td>\n",
       "      <td>3.822233</td>\n",
       "    </tr>\n",
       "    <tr>\n",
       "      <th>9</th>\n",
       "      <td>10</td>\n",
       "      <td>3.857888</td>\n",
       "    </tr>\n",
       "    <tr>\n",
       "      <th>10</th>\n",
       "      <td>11</td>\n",
       "      <td>3.797355</td>\n",
       "    </tr>\n",
       "    <tr>\n",
       "      <th>11</th>\n",
       "      <td>12</td>\n",
       "      <td>3.795525</td>\n",
       "    </tr>\n",
       "  </tbody>\n",
       "</table>\n",
       "</div>"
      ],
      "text/plain": [
       "    month  microbusiness_density\n",
       "0       1               3.767546\n",
       "1       2               3.779636\n",
       "2       3               3.805977\n",
       "3       4               3.831690\n",
       "4       5               3.830886\n",
       "5       6               3.820389\n",
       "6       7               3.851197\n",
       "7       8               3.832016\n",
       "8       9               3.822233\n",
       "9      10               3.857888\n",
       "10     11               3.797355\n",
       "11     12               3.795525"
      ]
     },
     "execution_count": 29,
     "metadata": {},
     "output_type": "execute_result"
    }
   ],
   "source": [
    "df_TrainedMerged = df_trainMerged.groupby('month')['microbusiness_density'].mean().reset_index()\n",
    "df_TrainedMerged"
   ]
  },
  {
   "cell_type": "code",
   "execution_count": 30,
   "id": "271a1b3d",
   "metadata": {
    "execution": {
     "iopub.execute_input": "2023-02-13T09:36:47.923361Z",
     "iopub.status.busy": "2023-02-13T09:36:47.922927Z",
     "iopub.status.idle": "2023-02-13T09:36:49.204689Z",
     "shell.execute_reply": "2023-02-13T09:36:49.203358Z"
    },
    "papermill": {
     "duration": 1.301988,
     "end_time": "2023-02-13T09:36:49.207521",
     "exception": false,
     "start_time": "2023-02-13T09:36:47.905533",
     "status": "completed"
    },
    "tags": []
   },
   "outputs": [
    {
     "data": {
      "text/html": [
       "        <script type=\"text/javascript\">\n",
       "        window.PlotlyConfig = {MathJaxConfig: 'local'};\n",
       "        if (window.MathJax && window.MathJax.Hub && window.MathJax.Hub.Config) {window.MathJax.Hub.Config({SVG: {font: \"STIX-Web\"}});}\n",
       "        if (typeof require !== 'undefined') {\n",
       "        require.undef(\"plotly\");\n",
       "        requirejs.config({\n",
       "            paths: {\n",
       "                'plotly': ['https://cdn.plot.ly/plotly-2.16.1.min']\n",
       "            }\n",
       "        });\n",
       "        require(['plotly'], function(Plotly) {\n",
       "            window._Plotly = Plotly;\n",
       "        });\n",
       "        }\n",
       "        </script>\n",
       "        "
      ]
     },
     "metadata": {},
     "output_type": "display_data"
    },
    {
     "data": {
      "text/html": [
       "<div>                            <div id=\"0360866f-cafa-411a-9084-ec1b81232c14\" class=\"plotly-graph-div\" style=\"height:600px; width:900px;\"></div>            <script type=\"text/javascript\">                require([\"plotly\"], function(Plotly) {                    window.PLOTLYENV=window.PLOTLYENV || {};                                    if (document.getElementById(\"0360866f-cafa-411a-9084-ec1b81232c14\")) {                    Plotly.newPlot(                        \"0360866f-cafa-411a-9084-ec1b81232c14\",                        [{\"hovertemplate\":\"month=%{x}<br>microbusiness_density=%{y}<extra></extra>\",\"legendgroup\":\"\",\"line\":{\"color\":\"#636efa\",\"dash\":\"solid\",\"width\":3.0},\"marker\":{\"symbol\":\"circle\"},\"mode\":\"lines\",\"name\":\"\",\"orientation\":\"v\",\"showlegend\":false,\"x\":[1,2,3,4,5,6,7,8,9,10,11,12],\"xaxis\":\"x\",\"y\":[3.767546029435619,3.779635719757469,3.8059766827601273,3.8316904531184477,3.8308859022880384,3.820389266858373,3.8511968244437003,3.832015977862201,3.822232933835088,3.8578884903757578,3.7973549061597027,3.7955250779917065],\"yaxis\":\"y\",\"type\":\"scatter\"}],                        {\"template\":{\"data\":{\"histogram2dcontour\":[{\"type\":\"histogram2dcontour\",\"colorbar\":{\"outlinewidth\":0,\"ticks\":\"\"},\"colorscale\":[[0.0,\"#0d0887\"],[0.1111111111111111,\"#46039f\"],[0.2222222222222222,\"#7201a8\"],[0.3333333333333333,\"#9c179e\"],[0.4444444444444444,\"#bd3786\"],[0.5555555555555556,\"#d8576b\"],[0.6666666666666666,\"#ed7953\"],[0.7777777777777778,\"#fb9f3a\"],[0.8888888888888888,\"#fdca26\"],[1.0,\"#f0f921\"]]}],\"choropleth\":[{\"type\":\"choropleth\",\"colorbar\":{\"outlinewidth\":0,\"ticks\":\"\"}}],\"histogram2d\":[{\"type\":\"histogram2d\",\"colorbar\":{\"outlinewidth\":0,\"ticks\":\"\"},\"colorscale\":[[0.0,\"#0d0887\"],[0.1111111111111111,\"#46039f\"],[0.2222222222222222,\"#7201a8\"],[0.3333333333333333,\"#9c179e\"],[0.4444444444444444,\"#bd3786\"],[0.5555555555555556,\"#d8576b\"],[0.6666666666666666,\"#ed7953\"],[0.7777777777777778,\"#fb9f3a\"],[0.8888888888888888,\"#fdca26\"],[1.0,\"#f0f921\"]]}],\"heatmap\":[{\"type\":\"heatmap\",\"colorbar\":{\"outlinewidth\":0,\"ticks\":\"\"},\"colorscale\":[[0.0,\"#0d0887\"],[0.1111111111111111,\"#46039f\"],[0.2222222222222222,\"#7201a8\"],[0.3333333333333333,\"#9c179e\"],[0.4444444444444444,\"#bd3786\"],[0.5555555555555556,\"#d8576b\"],[0.6666666666666666,\"#ed7953\"],[0.7777777777777778,\"#fb9f3a\"],[0.8888888888888888,\"#fdca26\"],[1.0,\"#f0f921\"]]}],\"heatmapgl\":[{\"type\":\"heatmapgl\",\"colorbar\":{\"outlinewidth\":0,\"ticks\":\"\"},\"colorscale\":[[0.0,\"#0d0887\"],[0.1111111111111111,\"#46039f\"],[0.2222222222222222,\"#7201a8\"],[0.3333333333333333,\"#9c179e\"],[0.4444444444444444,\"#bd3786\"],[0.5555555555555556,\"#d8576b\"],[0.6666666666666666,\"#ed7953\"],[0.7777777777777778,\"#fb9f3a\"],[0.8888888888888888,\"#fdca26\"],[1.0,\"#f0f921\"]]}],\"contourcarpet\":[{\"type\":\"contourcarpet\",\"colorbar\":{\"outlinewidth\":0,\"ticks\":\"\"}}],\"contour\":[{\"type\":\"contour\",\"colorbar\":{\"outlinewidth\":0,\"ticks\":\"\"},\"colorscale\":[[0.0,\"#0d0887\"],[0.1111111111111111,\"#46039f\"],[0.2222222222222222,\"#7201a8\"],[0.3333333333333333,\"#9c179e\"],[0.4444444444444444,\"#bd3786\"],[0.5555555555555556,\"#d8576b\"],[0.6666666666666666,\"#ed7953\"],[0.7777777777777778,\"#fb9f3a\"],[0.8888888888888888,\"#fdca26\"],[1.0,\"#f0f921\"]]}],\"surface\":[{\"type\":\"surface\",\"colorbar\":{\"outlinewidth\":0,\"ticks\":\"\"},\"colorscale\":[[0.0,\"#0d0887\"],[0.1111111111111111,\"#46039f\"],[0.2222222222222222,\"#7201a8\"],[0.3333333333333333,\"#9c179e\"],[0.4444444444444444,\"#bd3786\"],[0.5555555555555556,\"#d8576b\"],[0.6666666666666666,\"#ed7953\"],[0.7777777777777778,\"#fb9f3a\"],[0.8888888888888888,\"#fdca26\"],[1.0,\"#f0f921\"]]}],\"mesh3d\":[{\"type\":\"mesh3d\",\"colorbar\":{\"outlinewidth\":0,\"ticks\":\"\"}}],\"scatter\":[{\"fillpattern\":{\"fillmode\":\"overlay\",\"size\":10,\"solidity\":0.2},\"type\":\"scatter\"}],\"parcoords\":[{\"type\":\"parcoords\",\"line\":{\"colorbar\":{\"outlinewidth\":0,\"ticks\":\"\"}}}],\"scatterpolargl\":[{\"type\":\"scatterpolargl\",\"marker\":{\"colorbar\":{\"outlinewidth\":0,\"ticks\":\"\"}}}],\"bar\":[{\"error_x\":{\"color\":\"#2a3f5f\"},\"error_y\":{\"color\":\"#2a3f5f\"},\"marker\":{\"line\":{\"color\":\"#E5ECF6\",\"width\":0.5},\"pattern\":{\"fillmode\":\"overlay\",\"size\":10,\"solidity\":0.2}},\"type\":\"bar\"}],\"scattergeo\":[{\"type\":\"scattergeo\",\"marker\":{\"colorbar\":{\"outlinewidth\":0,\"ticks\":\"\"}}}],\"scatterpolar\":[{\"type\":\"scatterpolar\",\"marker\":{\"colorbar\":{\"outlinewidth\":0,\"ticks\":\"\"}}}],\"histogram\":[{\"marker\":{\"pattern\":{\"fillmode\":\"overlay\",\"size\":10,\"solidity\":0.2}},\"type\":\"histogram\"}],\"scattergl\":[{\"type\":\"scattergl\",\"marker\":{\"colorbar\":{\"outlinewidth\":0,\"ticks\":\"\"}}}],\"scatter3d\":[{\"type\":\"scatter3d\",\"line\":{\"colorbar\":{\"outlinewidth\":0,\"ticks\":\"\"}},\"marker\":{\"colorbar\":{\"outlinewidth\":0,\"ticks\":\"\"}}}],\"scattermapbox\":[{\"type\":\"scattermapbox\",\"marker\":{\"colorbar\":{\"outlinewidth\":0,\"ticks\":\"\"}}}],\"scatterternary\":[{\"type\":\"scatterternary\",\"marker\":{\"colorbar\":{\"outlinewidth\":0,\"ticks\":\"\"}}}],\"scattercarpet\":[{\"type\":\"scattercarpet\",\"marker\":{\"colorbar\":{\"outlinewidth\":0,\"ticks\":\"\"}}}],\"carpet\":[{\"aaxis\":{\"endlinecolor\":\"#2a3f5f\",\"gridcolor\":\"white\",\"linecolor\":\"white\",\"minorgridcolor\":\"white\",\"startlinecolor\":\"#2a3f5f\"},\"baxis\":{\"endlinecolor\":\"#2a3f5f\",\"gridcolor\":\"white\",\"linecolor\":\"white\",\"minorgridcolor\":\"white\",\"startlinecolor\":\"#2a3f5f\"},\"type\":\"carpet\"}],\"table\":[{\"cells\":{\"fill\":{\"color\":\"#EBF0F8\"},\"line\":{\"color\":\"white\"}},\"header\":{\"fill\":{\"color\":\"#C8D4E3\"},\"line\":{\"color\":\"white\"}},\"type\":\"table\"}],\"barpolar\":[{\"marker\":{\"line\":{\"color\":\"#E5ECF6\",\"width\":0.5},\"pattern\":{\"fillmode\":\"overlay\",\"size\":10,\"solidity\":0.2}},\"type\":\"barpolar\"}],\"pie\":[{\"automargin\":true,\"type\":\"pie\"}]},\"layout\":{\"autotypenumbers\":\"strict\",\"colorway\":[\"#636efa\",\"#EF553B\",\"#00cc96\",\"#ab63fa\",\"#FFA15A\",\"#19d3f3\",\"#FF6692\",\"#B6E880\",\"#FF97FF\",\"#FECB52\"],\"font\":{\"color\":\"#2a3f5f\"},\"hovermode\":\"closest\",\"hoverlabel\":{\"align\":\"left\"},\"paper_bgcolor\":\"white\",\"plot_bgcolor\":\"#E5ECF6\",\"polar\":{\"bgcolor\":\"#E5ECF6\",\"angularaxis\":{\"gridcolor\":\"white\",\"linecolor\":\"white\",\"ticks\":\"\"},\"radialaxis\":{\"gridcolor\":\"white\",\"linecolor\":\"white\",\"ticks\":\"\"}},\"ternary\":{\"bgcolor\":\"#E5ECF6\",\"aaxis\":{\"gridcolor\":\"white\",\"linecolor\":\"white\",\"ticks\":\"\"},\"baxis\":{\"gridcolor\":\"white\",\"linecolor\":\"white\",\"ticks\":\"\"},\"caxis\":{\"gridcolor\":\"white\",\"linecolor\":\"white\",\"ticks\":\"\"}},\"coloraxis\":{\"colorbar\":{\"outlinewidth\":0,\"ticks\":\"\"}},\"colorscale\":{\"sequential\":[[0.0,\"#0d0887\"],[0.1111111111111111,\"#46039f\"],[0.2222222222222222,\"#7201a8\"],[0.3333333333333333,\"#9c179e\"],[0.4444444444444444,\"#bd3786\"],[0.5555555555555556,\"#d8576b\"],[0.6666666666666666,\"#ed7953\"],[0.7777777777777778,\"#fb9f3a\"],[0.8888888888888888,\"#fdca26\"],[1.0,\"#f0f921\"]],\"sequentialminus\":[[0.0,\"#0d0887\"],[0.1111111111111111,\"#46039f\"],[0.2222222222222222,\"#7201a8\"],[0.3333333333333333,\"#9c179e\"],[0.4444444444444444,\"#bd3786\"],[0.5555555555555556,\"#d8576b\"],[0.6666666666666666,\"#ed7953\"],[0.7777777777777778,\"#fb9f3a\"],[0.8888888888888888,\"#fdca26\"],[1.0,\"#f0f921\"]],\"diverging\":[[0,\"#8e0152\"],[0.1,\"#c51b7d\"],[0.2,\"#de77ae\"],[0.3,\"#f1b6da\"],[0.4,\"#fde0ef\"],[0.5,\"#f7f7f7\"],[0.6,\"#e6f5d0\"],[0.7,\"#b8e186\"],[0.8,\"#7fbc41\"],[0.9,\"#4d9221\"],[1,\"#276419\"]]},\"xaxis\":{\"gridcolor\":\"white\",\"linecolor\":\"white\",\"ticks\":\"\",\"title\":{\"standoff\":15},\"zerolinecolor\":\"white\",\"automargin\":true,\"zerolinewidth\":2},\"yaxis\":{\"gridcolor\":\"white\",\"linecolor\":\"white\",\"ticks\":\"\",\"title\":{\"standoff\":15},\"zerolinecolor\":\"white\",\"automargin\":true,\"zerolinewidth\":2},\"scene\":{\"xaxis\":{\"backgroundcolor\":\"#E5ECF6\",\"gridcolor\":\"white\",\"linecolor\":\"white\",\"showbackground\":true,\"ticks\":\"\",\"zerolinecolor\":\"white\",\"gridwidth\":2},\"yaxis\":{\"backgroundcolor\":\"#E5ECF6\",\"gridcolor\":\"white\",\"linecolor\":\"white\",\"showbackground\":true,\"ticks\":\"\",\"zerolinecolor\":\"white\",\"gridwidth\":2},\"zaxis\":{\"backgroundcolor\":\"#E5ECF6\",\"gridcolor\":\"white\",\"linecolor\":\"white\",\"showbackground\":true,\"ticks\":\"\",\"zerolinecolor\":\"white\",\"gridwidth\":2}},\"shapedefaults\":{\"line\":{\"color\":\"#2a3f5f\"}},\"annotationdefaults\":{\"arrowcolor\":\"#2a3f5f\",\"arrowhead\":0,\"arrowwidth\":1},\"geo\":{\"bgcolor\":\"white\",\"landcolor\":\"#E5ECF6\",\"subunitcolor\":\"white\",\"showland\":true,\"showlakes\":true,\"lakecolor\":\"white\"},\"title\":{\"x\":0.05},\"mapbox\":{\"style\":\"light\"}}},\"xaxis\":{\"anchor\":\"y\",\"domain\":[0.0,1.0],\"title\":{\"text\":\"month\"}},\"yaxis\":{\"anchor\":\"x\",\"domain\":[0.0,1.0],\"title\":{\"text\":\"average microbusiness density\"}},\"legend\":{\"tracegroupgap\":0},\"margin\":{\"t\":60},\"title\":{\"text\":\"average microbusiness density by months\"},\"autosize\":false,\"width\":900,\"height\":600},                        {\"responsive\": true}                    ).then(function(){\n",
       "                            \n",
       "var gd = document.getElementById('0360866f-cafa-411a-9084-ec1b81232c14');\n",
       "var x = new MutationObserver(function (mutations, observer) {{\n",
       "        var display = window.getComputedStyle(gd).display;\n",
       "        if (!display || display === 'none') {{\n",
       "            console.log([gd, 'removed!']);\n",
       "            Plotly.purge(gd);\n",
       "            observer.disconnect();\n",
       "        }}\n",
       "}});\n",
       "\n",
       "// Listen for the removal of the full notebook cells\n",
       "var notebookContainer = gd.closest('#notebook-container');\n",
       "if (notebookContainer) {{\n",
       "    x.observe(notebookContainer, {childList: true});\n",
       "}}\n",
       "\n",
       "// Listen for the clearing of the current output cell\n",
       "var outputEl = gd.closest('.output');\n",
       "if (outputEl) {{\n",
       "    x.observe(outputEl, {childList: true});\n",
       "}}\n",
       "\n",
       "                        })                };                });            </script>        </div>"
      ]
     },
     "metadata": {},
     "output_type": "display_data"
    },
    {
     "data": {
      "text/plain": [
       "<Figure size 360x360 with 0 Axes>"
      ]
     },
     "metadata": {},
     "output_type": "display_data"
    }
   ],
   "source": [
    "#plotting the chart\n",
    "plt.figure(figsize=(5,5))\n",
    "fig = px.line(df_TrainedMerged, x=\"month\", y=\"microbusiness_density\")\n",
    "fig.update_traces(line=dict( width=3.0))\n",
    "\n",
    "fig.update_layout(title_text ='average microbusiness density by months', yaxis_title = 'average microbusiness density',\n",
    "                  xaxis_title = 'month')\n",
    "#setting the chart properties\n",
    "fig.update_layout(\n",
    "    autosize=False,\n",
    "    width=900,\n",
    "    height=600,)\n",
    "\n",
    "#showing the chart\n",
    "fig.show()"
   ]
  },
  {
   "cell_type": "markdown",
   "id": "372e3a77",
   "metadata": {
    "papermill": {
     "duration": 0.016614,
     "end_time": "2023-02-13T09:36:49.242048",
     "exception": false,
     "start_time": "2023-02-13T09:36:49.225434",
     "status": "completed"
    },
    "tags": []
   },
   "source": [
    "The month of October has the highest average(Peak Period) microbusiness density, followed by the months of July and April."
   ]
  },
  {
   "cell_type": "markdown",
   "id": "4e016d6a",
   "metadata": {
    "papermill": {
     "duration": 0.016992,
     "end_time": "2023-02-13T09:36:49.275794",
     "exception": false,
     "start_time": "2023-02-13T09:36:49.258802",
     "status": "completed"
    },
    "tags": []
   },
   "source": [
    "- Let's look into the number of counties in each state first. To quote Wikipedia:\n",
    "\n",
    "Texas has the most counties with 254 while Delaware has the fewest with only 3. However, there is one exceptional state: District of Columbia, which also has its own county."
   ]
  },
  {
   "cell_type": "code",
   "execution_count": 31,
   "id": "ae766aa5",
   "metadata": {
    "execution": {
     "iopub.execute_input": "2023-02-13T09:36:49.311198Z",
     "iopub.status.busy": "2023-02-13T09:36:49.310498Z",
     "iopub.status.idle": "2023-02-13T09:36:50.323447Z",
     "shell.execute_reply": "2023-02-13T09:36:50.322214Z"
    },
    "papermill": {
     "duration": 1.033457,
     "end_time": "2023-02-13T09:36:50.325857",
     "exception": false,
     "start_time": "2023-02-13T09:36:49.292400",
     "status": "completed"
    },
    "tags": []
   },
   "outputs": [
    {
     "data": {
      "image/png": "[encoded data removed]",
      "text/plain": [
       "<Figure size 576x1008 with 1 Axes>"
      ]
     },
     "metadata": {
      "needs_background": "light"
     },
     "output_type": "display_data"
    }
   ],
   "source": [
    "state_c = df_trainMerged[['state', 'cfips']].drop_duplicates(subset=['cfips']).groupby(['state']).size().sort_values()\n",
    "fig, ax = plt.subplots(figsize=(8,14))\n",
    "bars = ax.barh(state_c.index, state_c.values)\n",
    "ax.bar_label(bars)\n",
    "ax.set_title('Number of counties in each state')\n",
    "plt.show()"
   ]
  },
  {
   "cell_type": "code",
   "execution_count": 32,
   "id": "dc3397a2",
   "metadata": {
    "execution": {
     "iopub.execute_input": "2023-02-13T09:36:50.363536Z",
     "iopub.status.busy": "2023-02-13T09:36:50.362905Z",
     "iopub.status.idle": "2023-02-13T09:36:50.377607Z",
     "shell.execute_reply": "2023-02-13T09:36:50.375692Z"
    },
    "papermill": {
     "duration": 0.03692,
     "end_time": "2023-02-13T09:36:50.380660",
     "exception": false,
     "start_time": "2023-02-13T09:36:50.343740",
     "status": "completed"
    },
    "tags": []
   },
   "outputs": [
    {
     "data": {
      "text/html": [
       "<div>\n",
       "<style scoped>\n",
       "    .dataframe tbody tr th:only-of-type {\n",
       "        vertical-align: middle;\n",
       "    }\n",
       "\n",
       "    .dataframe tbody tr th {\n",
       "        vertical-align: top;\n",
       "    }\n",
       "\n",
       "    .dataframe thead th {\n",
       "        text-align: right;\n",
       "    }\n",
       "</style>\n",
       "<table border=\"1\" class=\"dataframe\">\n",
       "  <thead>\n",
       "    <tr style=\"text-align: right;\">\n",
       "      <th></th>\n",
       "      <th>microbusiness_density</th>\n",
       "      <th>active</th>\n",
       "    </tr>\n",
       "  </thead>\n",
       "  <tbody>\n",
       "    <tr>\n",
       "      <th>0</th>\n",
       "      <td>3.007682</td>\n",
       "      <td>1249</td>\n",
       "    </tr>\n",
       "    <tr>\n",
       "      <th>1</th>\n",
       "      <td>2.884870</td>\n",
       "      <td>1198</td>\n",
       "    </tr>\n",
       "    <tr>\n",
       "      <th>2</th>\n",
       "      <td>3.055843</td>\n",
       "      <td>1269</td>\n",
       "    </tr>\n",
       "    <tr>\n",
       "      <th>3</th>\n",
       "      <td>2.993233</td>\n",
       "      <td>1243</td>\n",
       "    </tr>\n",
       "    <tr>\n",
       "      <th>4</th>\n",
       "      <td>2.993233</td>\n",
       "      <td>1243</td>\n",
       "    </tr>\n",
       "    <tr>\n",
       "      <th>...</th>\n",
       "      <td>...</td>\n",
       "      <td>...</td>\n",
       "    </tr>\n",
       "    <tr>\n",
       "      <th>122260</th>\n",
       "      <td>1.803249</td>\n",
       "      <td>101</td>\n",
       "    </tr>\n",
       "    <tr>\n",
       "      <th>122261</th>\n",
       "      <td>1.803249</td>\n",
       "      <td>101</td>\n",
       "    </tr>\n",
       "    <tr>\n",
       "      <th>122262</th>\n",
       "      <td>1.785395</td>\n",
       "      <td>100</td>\n",
       "    </tr>\n",
       "    <tr>\n",
       "      <th>122263</th>\n",
       "      <td>1.785395</td>\n",
       "      <td>100</td>\n",
       "    </tr>\n",
       "    <tr>\n",
       "      <th>122264</th>\n",
       "      <td>1.785395</td>\n",
       "      <td>100</td>\n",
       "    </tr>\n",
       "  </tbody>\n",
       "</table>\n",
       "<p>122265 rows × 2 columns</p>\n",
       "</div>"
      ],
      "text/plain": [
       "        microbusiness_density  active\n",
       "0                    3.007682    1249\n",
       "1                    2.884870    1198\n",
       "2                    3.055843    1269\n",
       "3                    2.993233    1243\n",
       "4                    2.993233    1243\n",
       "...                       ...     ...\n",
       "122260               1.803249     101\n",
       "122261               1.803249     101\n",
       "122262               1.785395     100\n",
       "122263               1.785395     100\n",
       "122264               1.785395     100\n",
       "\n",
       "[122265 rows x 2 columns]"
      ]
     },
     "execution_count": 32,
     "metadata": {},
     "output_type": "execute_result"
    }
   ],
   "source": [
    "df_trainMerged[['microbusiness_density', 'active']]"
   ]
  },
  {
   "cell_type": "code",
   "execution_count": 33,
   "id": "02b5e6c1",
   "metadata": {
    "execution": {
     "iopub.execute_input": "2023-02-13T09:36:50.421393Z",
     "iopub.status.busy": "2023-02-13T09:36:50.420918Z",
     "iopub.status.idle": "2023-02-13T09:36:50.433707Z",
     "shell.execute_reply": "2023-02-13T09:36:50.432555Z"
    },
    "papermill": {
     "duration": 0.034685,
     "end_time": "2023-02-13T09:36:50.436124",
     "exception": false,
     "start_time": "2023-02-13T09:36:50.401439",
     "status": "completed"
    },
    "tags": []
   },
   "outputs": [
    {
     "data": {
      "text/plain": [
       "0.3169811826046079"
      ]
     },
     "execution_count": 33,
     "metadata": {},
     "output_type": "execute_result"
    }
   ],
   "source": [
    "df_trainMerged[\"microbusiness_density\"].corr(df_trainMerged[\"active\"])"
   ]
  },
  {
   "cell_type": "markdown",
   "id": "401f7349",
   "metadata": {
    "papermill": {
     "duration": 0.017739,
     "end_time": "2023-02-13T09:36:50.472497",
     "exception": false,
     "start_time": "2023-02-13T09:36:50.454758",
     "status": "completed"
    },
    "tags": []
   },
   "source": [
    "- There is a fairly strong correlation between the number of active microbusinesses and their densities"
   ]
  },
  {
   "cell_type": "code",
   "execution_count": 34,
   "id": "4d7b693f",
   "metadata": {
    "execution": {
     "iopub.execute_input": "2023-02-13T09:36:50.510271Z",
     "iopub.status.busy": "2023-02-13T09:36:50.509597Z",
     "iopub.status.idle": "2023-02-13T09:36:53.580516Z",
     "shell.execute_reply": "2023-02-13T09:36:53.579057Z"
    },
    "papermill": {
     "duration": 3.09528,
     "end_time": "2023-02-13T09:36:53.585491",
     "exception": false,
     "start_time": "2023-02-13T09:36:50.490211",
     "status": "completed"
    },
    "tags": []
   },
   "outputs": [
    {
     "data": {
      "image/png": "[encoded data removed]",
      "text/plain": [
       "<Figure size 1080x1080 with 2 Axes>"
      ]
     },
     "metadata": {
      "needs_background": "light"
     },
     "output_type": "display_data"
    }
   ],
   "source": [
    "data_float =  df_trainMerged.select_dtypes(include=\"float\")\n",
    "plt.figure(figsize=(15,15))\n",
    "sns.heatmap(data_float.corr(), annot=True,  square=True, linecolor='white',linewidths = 2, fmt= '.1f', cmap=\"vlag\")\n",
    "plt.title('correlations heatmap of the dataset', fontsize= 12)\n",
    "plt.show()"
   ]
  },
  {
   "cell_type": "markdown",
   "id": "6fcf4d6f",
   "metadata": {
    "papermill": {
     "duration": 0.020738,
     "end_time": "2023-02-13T09:36:53.628891",
     "exception": false,
     "start_time": "2023-02-13T09:36:53.608153",
     "status": "completed"
    },
    "tags": []
   },
   "source": [
    "It's clearly viewed that we have multi-collinearity between indepndant features themselves and hence the usage of PCA is needed for regression analysis to be performed efficiently"
   ]
  },
  {
   "cell_type": "code",
   "execution_count": 35,
   "id": "a4ecccfe",
   "metadata": {
    "execution": {
     "iopub.execute_input": "2023-02-13T09:36:53.673104Z",
     "iopub.status.busy": "2023-02-13T09:36:53.672698Z",
     "iopub.status.idle": "2023-02-13T09:36:53.883213Z",
     "shell.execute_reply": "2023-02-13T09:36:53.881436Z"
    },
    "papermill": {
     "duration": 0.235876,
     "end_time": "2023-02-13T09:36:53.885865",
     "exception": false,
     "start_time": "2023-02-13T09:36:53.649989",
     "status": "completed"
    },
    "tags": []
   },
   "outputs": [
    {
     "data": {
      "text/html": [
       "<div>\n",
       "<style scoped>\n",
       "    .dataframe tbody tr th:only-of-type {\n",
       "        vertical-align: middle;\n",
       "    }\n",
       "\n",
       "    .dataframe tbody tr th {\n",
       "        vertical-align: top;\n",
       "    }\n",
       "\n",
       "    .dataframe thead th {\n",
       "        text-align: right;\n",
       "    }\n",
       "</style>\n",
       "<table border=\"1\" class=\"dataframe\">\n",
       "  <thead>\n",
       "    <tr style=\"text-align: right;\">\n",
       "      <th></th>\n",
       "      <th>count</th>\n",
       "      <th>mean</th>\n",
       "      <th>std</th>\n",
       "      <th>min</th>\n",
       "      <th>25%</th>\n",
       "      <th>50%</th>\n",
       "      <th>75%</th>\n",
       "      <th>max</th>\n",
       "    </tr>\n",
       "  </thead>\n",
       "  <tbody>\n",
       "    <tr>\n",
       "      <th>cfips</th>\n",
       "      <td>122265.0</td>\n",
       "      <td>30376.037640</td>\n",
       "      <td>15143.508721</td>\n",
       "      <td>1001.0</td>\n",
       "      <td>18177.000000</td>\n",
       "      <td>29173.000000</td>\n",
       "      <td>45077.000000</td>\n",
       "      <td>5.604500e+04</td>\n",
       "    </tr>\n",
       "    <tr>\n",
       "      <th>microbusiness_density</th>\n",
       "      <td>122265.0</td>\n",
       "      <td>3.817671</td>\n",
       "      <td>4.991087</td>\n",
       "      <td>0.0</td>\n",
       "      <td>1.639344</td>\n",
       "      <td>2.586543</td>\n",
       "      <td>4.519231</td>\n",
       "      <td>2.843400e+02</td>\n",
       "    </tr>\n",
       "    <tr>\n",
       "      <th>active</th>\n",
       "      <td>122265.0</td>\n",
       "      <td>6442.858218</td>\n",
       "      <td>33040.012493</td>\n",
       "      <td>0.0</td>\n",
       "      <td>145.000000</td>\n",
       "      <td>488.000000</td>\n",
       "      <td>2124.000000</td>\n",
       "      <td>1.167744e+06</td>\n",
       "    </tr>\n",
       "    <tr>\n",
       "      <th>year</th>\n",
       "      <td>122265.0</td>\n",
       "      <td>2020.692308</td>\n",
       "      <td>0.991089</td>\n",
       "      <td>2019.0</td>\n",
       "      <td>2020.000000</td>\n",
       "      <td>2021.000000</td>\n",
       "      <td>2022.000000</td>\n",
       "      <td>2.022000e+03</td>\n",
       "    </tr>\n",
       "    <tr>\n",
       "      <th>month</th>\n",
       "      <td>122265.0</td>\n",
       "      <td>6.692308</td>\n",
       "      <td>3.390452</td>\n",
       "      <td>1.0</td>\n",
       "      <td>4.000000</td>\n",
       "      <td>7.000000</td>\n",
       "      <td>10.000000</td>\n",
       "      <td>1.200000e+01</td>\n",
       "    </tr>\n",
       "    <tr>\n",
       "      <th>pct_bb_2017</th>\n",
       "      <td>122265.0</td>\n",
       "      <td>69.938724</td>\n",
       "      <td>9.692780</td>\n",
       "      <td>24.5</td>\n",
       "      <td>64.200000</td>\n",
       "      <td>70.800000</td>\n",
       "      <td>76.400000</td>\n",
       "      <td>9.460000e+01</td>\n",
       "    </tr>\n",
       "    <tr>\n",
       "      <th>pct_bb_2018</th>\n",
       "      <td>122265.0</td>\n",
       "      <td>72.707209</td>\n",
       "      <td>9.248368</td>\n",
       "      <td>25.7</td>\n",
       "      <td>67.500000</td>\n",
       "      <td>73.600000</td>\n",
       "      <td>78.800000</td>\n",
       "      <td>9.550000e+01</td>\n",
       "    </tr>\n",
       "    <tr>\n",
       "      <th>pct_bb_2019</th>\n",
       "      <td>122265.0</td>\n",
       "      <td>75.415981</td>\n",
       "      <td>8.832590</td>\n",
       "      <td>34.8</td>\n",
       "      <td>70.500000</td>\n",
       "      <td>76.500000</td>\n",
       "      <td>81.400000</td>\n",
       "      <td>9.600000e+01</td>\n",
       "    </tr>\n",
       "    <tr>\n",
       "      <th>pct_bb_2020</th>\n",
       "      <td>122265.0</td>\n",
       "      <td>78.559649</td>\n",
       "      <td>8.239703</td>\n",
       "      <td>33.3</td>\n",
       "      <td>74.100000</td>\n",
       "      <td>79.700000</td>\n",
       "      <td>84.100000</td>\n",
       "      <td>9.710000e+01</td>\n",
       "    </tr>\n",
       "    <tr>\n",
       "      <th>pct_bb_2021</th>\n",
       "      <td>122265.0</td>\n",
       "      <td>80.549729</td>\n",
       "      <td>7.882099</td>\n",
       "      <td>37.0</td>\n",
       "      <td>76.400000</td>\n",
       "      <td>81.700000</td>\n",
       "      <td>85.900000</td>\n",
       "      <td>9.760000e+01</td>\n",
       "    </tr>\n",
       "    <tr>\n",
       "      <th>pct_college_2017</th>\n",
       "      <td>122265.0</td>\n",
       "      <td>13.817863</td>\n",
       "      <td>5.582086</td>\n",
       "      <td>2.4</td>\n",
       "      <td>9.700000</td>\n",
       "      <td>12.800000</td>\n",
       "      <td>16.800000</td>\n",
       "      <td>4.370000e+01</td>\n",
       "    </tr>\n",
       "    <tr>\n",
       "      <th>pct_college_2018</th>\n",
       "      <td>122265.0</td>\n",
       "      <td>14.010877</td>\n",
       "      <td>5.628779</td>\n",
       "      <td>0.0</td>\n",
       "      <td>9.900000</td>\n",
       "      <td>13.000000</td>\n",
       "      <td>17.100000</td>\n",
       "      <td>4.800000e+01</td>\n",
       "    </tr>\n",
       "    <tr>\n",
       "      <th>pct_college_2019</th>\n",
       "      <td>122265.0</td>\n",
       "      <td>14.247656</td>\n",
       "      <td>5.688362</td>\n",
       "      <td>0.0</td>\n",
       "      <td>10.100000</td>\n",
       "      <td>13.300000</td>\n",
       "      <td>17.300000</td>\n",
       "      <td>4.540000e+01</td>\n",
       "    </tr>\n",
       "    <tr>\n",
       "      <th>pct_college_2020</th>\n",
       "      <td>122265.0</td>\n",
       "      <td>14.639426</td>\n",
       "      <td>5.774271</td>\n",
       "      <td>0.0</td>\n",
       "      <td>10.500000</td>\n",
       "      <td>13.600000</td>\n",
       "      <td>17.900000</td>\n",
       "      <td>4.300000e+01</td>\n",
       "    </tr>\n",
       "    <tr>\n",
       "      <th>pct_college_2021</th>\n",
       "      <td>122265.0</td>\n",
       "      <td>14.860128</td>\n",
       "      <td>5.828194</td>\n",
       "      <td>0.0</td>\n",
       "      <td>10.600000</td>\n",
       "      <td>13.800000</td>\n",
       "      <td>18.000000</td>\n",
       "      <td>4.370000e+01</td>\n",
       "    </tr>\n",
       "    <tr>\n",
       "      <th>pct_foreign_born_2017</th>\n",
       "      <td>122265.0</td>\n",
       "      <td>4.705678</td>\n",
       "      <td>5.699646</td>\n",
       "      <td>0.0</td>\n",
       "      <td>1.400000</td>\n",
       "      <td>2.700000</td>\n",
       "      <td>5.700000</td>\n",
       "      <td>5.290000e+01</td>\n",
       "    </tr>\n",
       "    <tr>\n",
       "      <th>pct_foreign_born_2018</th>\n",
       "      <td>122265.0</td>\n",
       "      <td>4.727496</td>\n",
       "      <td>5.708553</td>\n",
       "      <td>0.0</td>\n",
       "      <td>1.400000</td>\n",
       "      <td>2.700000</td>\n",
       "      <td>5.700000</td>\n",
       "      <td>5.330000e+01</td>\n",
       "    </tr>\n",
       "    <tr>\n",
       "      <th>pct_foreign_born_2019</th>\n",
       "      <td>122265.0</td>\n",
       "      <td>4.772759</td>\n",
       "      <td>5.738528</td>\n",
       "      <td>0.0</td>\n",
       "      <td>1.400000</td>\n",
       "      <td>2.700000</td>\n",
       "      <td>5.700000</td>\n",
       "      <td>5.370000e+01</td>\n",
       "    </tr>\n",
       "    <tr>\n",
       "      <th>pct_foreign_born_2020</th>\n",
       "      <td>122265.0</td>\n",
       "      <td>4.752089</td>\n",
       "      <td>5.686729</td>\n",
       "      <td>0.0</td>\n",
       "      <td>1.400000</td>\n",
       "      <td>2.800000</td>\n",
       "      <td>5.700000</td>\n",
       "      <td>5.400000e+01</td>\n",
       "    </tr>\n",
       "    <tr>\n",
       "      <th>pct_foreign_born_2021</th>\n",
       "      <td>122265.0</td>\n",
       "      <td>4.748006</td>\n",
       "      <td>5.726838</td>\n",
       "      <td>0.0</td>\n",
       "      <td>1.400000</td>\n",
       "      <td>2.700000</td>\n",
       "      <td>5.700000</td>\n",
       "      <td>5.400000e+01</td>\n",
       "    </tr>\n",
       "    <tr>\n",
       "      <th>pct_it_workers_2017</th>\n",
       "      <td>122265.0</td>\n",
       "      <td>1.425933</td>\n",
       "      <td>0.986235</td>\n",
       "      <td>0.0</td>\n",
       "      <td>0.800000</td>\n",
       "      <td>1.300000</td>\n",
       "      <td>1.900000</td>\n",
       "      <td>1.740000e+01</td>\n",
       "    </tr>\n",
       "    <tr>\n",
       "      <th>pct_it_workers_2018</th>\n",
       "      <td>122265.0</td>\n",
       "      <td>1.381850</td>\n",
       "      <td>0.941823</td>\n",
       "      <td>0.0</td>\n",
       "      <td>0.800000</td>\n",
       "      <td>1.300000</td>\n",
       "      <td>1.800000</td>\n",
       "      <td>1.170000e+01</td>\n",
       "    </tr>\n",
       "    <tr>\n",
       "      <th>pct_it_workers_2019</th>\n",
       "      <td>122265.0</td>\n",
       "      <td>1.338341</td>\n",
       "      <td>0.938483</td>\n",
       "      <td>0.0</td>\n",
       "      <td>0.700000</td>\n",
       "      <td>1.200000</td>\n",
       "      <td>1.800000</td>\n",
       "      <td>1.050000e+01</td>\n",
       "    </tr>\n",
       "    <tr>\n",
       "      <th>pct_it_workers_2020</th>\n",
       "      <td>122265.0</td>\n",
       "      <td>1.310526</td>\n",
       "      <td>0.990387</td>\n",
       "      <td>0.0</td>\n",
       "      <td>0.700000</td>\n",
       "      <td>1.200000</td>\n",
       "      <td>1.800000</td>\n",
       "      <td>1.520000e+01</td>\n",
       "    </tr>\n",
       "    <tr>\n",
       "      <th>pct_it_workers_2021</th>\n",
       "      <td>122265.0</td>\n",
       "      <td>1.274354</td>\n",
       "      <td>0.968480</td>\n",
       "      <td>0.0</td>\n",
       "      <td>0.600000</td>\n",
       "      <td>1.100000</td>\n",
       "      <td>1.700000</td>\n",
       "      <td>1.520000e+01</td>\n",
       "    </tr>\n",
       "    <tr>\n",
       "      <th>median_hh_inc_2017</th>\n",
       "      <td>122265.0</td>\n",
       "      <td>49765.925359</td>\n",
       "      <td>13131.901157</td>\n",
       "      <td>19264.0</td>\n",
       "      <td>41134.000000</td>\n",
       "      <td>48073.000000</td>\n",
       "      <td>55764.000000</td>\n",
       "      <td>1.295880e+05</td>\n",
       "    </tr>\n",
       "    <tr>\n",
       "      <th>median_hh_inc_2018</th>\n",
       "      <td>122265.0</td>\n",
       "      <td>51601.587560</td>\n",
       "      <td>13685.046198</td>\n",
       "      <td>20188.0</td>\n",
       "      <td>42491.000000</td>\n",
       "      <td>49891.000000</td>\n",
       "      <td>57616.000000</td>\n",
       "      <td>1.362680e+05</td>\n",
       "    </tr>\n",
       "    <tr>\n",
       "      <th>median_hh_inc_2019</th>\n",
       "      <td>122265.0</td>\n",
       "      <td>53497.915152</td>\n",
       "      <td>14179.270474</td>\n",
       "      <td>21504.0</td>\n",
       "      <td>44185.000000</td>\n",
       "      <td>51790.000000</td>\n",
       "      <td>59931.000000</td>\n",
       "      <td>1.422990e+05</td>\n",
       "    </tr>\n",
       "    <tr>\n",
       "      <th>median_hh_inc_2020</th>\n",
       "      <td>122265.0</td>\n",
       "      <td>55042.694258</td>\n",
       "      <td>14639.157256</td>\n",
       "      <td>22292.0</td>\n",
       "      <td>45689.000000</td>\n",
       "      <td>52861.500000</td>\n",
       "      <td>61505.000000</td>\n",
       "      <td>1.471110e+05</td>\n",
       "    </tr>\n",
       "    <tr>\n",
       "      <th>median_hh_inc_2021</th>\n",
       "      <td>122265.0</td>\n",
       "      <td>58256.590112</td>\n",
       "      <td>15529.052334</td>\n",
       "      <td>17109.0</td>\n",
       "      <td>48237.000000</td>\n",
       "      <td>55923.000000</td>\n",
       "      <td>64949.000000</td>\n",
       "      <td>1.568210e+05</td>\n",
       "    </tr>\n",
       "  </tbody>\n",
       "</table>\n",
       "</div>"
      ],
      "text/plain": [
       "                          count          mean           std      min  \\\n",
       "cfips                  122265.0  30376.037640  15143.508721   1001.0   \n",
       "microbusiness_density  122265.0      3.817671      4.991087      0.0   \n",
       "active                 122265.0   6442.858218  33040.012493      0.0   \n",
       "year                   122265.0   2020.692308      0.991089   2019.0   \n",
       "month                  122265.0      6.692308      3.390452      1.0   \n",
       "pct_bb_2017            122265.0     69.938724      9.692780     24.5   \n",
       "pct_bb_2018            122265.0     72.707209      9.248368     25.7   \n",
       "pct_bb_2019            122265.0     75.415981      8.832590     34.8   \n",
       "pct_bb_2020            122265.0     78.559649      8.239703     33.3   \n",
       "pct_bb_2021            122265.0     80.549729      7.882099     37.0   \n",
       "pct_college_2017       122265.0     13.817863      5.582086      2.4   \n",
       "pct_college_2018       122265.0     14.010877      5.628779      0.0   \n",
       "pct_college_2019       122265.0     14.247656      5.688362      0.0   \n",
       "pct_college_2020       122265.0     14.639426      5.774271      0.0   \n",
       "pct_college_2021       122265.0     14.860128      5.828194      0.0   \n",
       "pct_foreign_born_2017  122265.0      4.705678      5.699646      0.0   \n",
       "pct_foreign_born_2018  122265.0      4.727496      5.708553      0.0   \n",
       "pct_foreign_born_2019  122265.0      4.772759      5.738528      0.0   \n",
       "pct_foreign_born_2020  122265.0      4.752089      5.686729      0.0   \n",
       "pct_foreign_born_2021  122265.0      4.748006      5.726838      0.0   \n",
       "pct_it_workers_2017    122265.0      1.425933      0.986235      0.0   \n",
       "pct_it_workers_2018    122265.0      1.381850      0.941823      0.0   \n",
       "pct_it_workers_2019    122265.0      1.338341      0.938483      0.0   \n",
       "pct_it_workers_2020    122265.0      1.310526      0.990387      0.0   \n",
       "pct_it_workers_2021    122265.0      1.274354      0.968480      0.0   \n",
       "median_hh_inc_2017     122265.0  49765.925359  13131.901157  19264.0   \n",
       "median_hh_inc_2018     122265.0  51601.587560  13685.046198  20188.0   \n",
       "median_hh_inc_2019     122265.0  53497.915152  14179.270474  21504.0   \n",
       "median_hh_inc_2020     122265.0  55042.694258  14639.157256  22292.0   \n",
       "median_hh_inc_2021     122265.0  58256.590112  15529.052334  17109.0   \n",
       "\n",
       "                                25%           50%           75%           max  \n",
       "cfips                  18177.000000  29173.000000  45077.000000  5.604500e+04  \n",
       "microbusiness_density      1.639344      2.586543      4.519231  2.843400e+02  \n",
       "active                   145.000000    488.000000   2124.000000  1.167744e+06  \n",
       "year                    2020.000000   2021.000000   2022.000000  2.022000e+03  \n",
       "month                      4.000000      7.000000     10.000000  1.200000e+01  \n",
       "pct_bb_2017               64.200000     70.800000     76.400000  9.460000e+01  \n",
       "pct_bb_2018               67.500000     73.600000     78.800000  9.550000e+01  \n",
       "pct_bb_2019               70.500000     76.500000     81.400000  9.600000e+01  \n",
       "pct_bb_2020               74.100000     79.700000     84.100000  9.710000e+01  \n",
       "pct_bb_2021               76.400000     81.700000     85.900000  9.760000e+01  \n",
       "pct_college_2017           9.700000     12.800000     16.800000  4.370000e+01  \n",
       "pct_college_2018           9.900000     13.000000     17.100000  4.800000e+01  \n",
       "pct_college_2019          10.100000     13.300000     17.300000  4.540000e+01  \n",
       "pct_college_2020          10.500000     13.600000     17.900000  4.300000e+01  \n",
       "pct_college_2021          10.600000     13.800000     18.000000  4.370000e+01  \n",
       "pct_foreign_born_2017      1.400000      2.700000      5.700000  5.290000e+01  \n",
       "pct_foreign_born_2018      1.400000      2.700000      5.700000  5.330000e+01  \n",
       "pct_foreign_born_2019      1.400000      2.700000      5.700000  5.370000e+01  \n",
       "pct_foreign_born_2020      1.400000      2.800000      5.700000  5.400000e+01  \n",
       "pct_foreign_born_2021      1.400000      2.700000      5.700000  5.400000e+01  \n",
       "pct_it_workers_2017        0.800000      1.300000      1.900000  1.740000e+01  \n",
       "pct_it_workers_2018        0.800000      1.300000      1.800000  1.170000e+01  \n",
       "pct_it_workers_2019        0.700000      1.200000      1.800000  1.050000e+01  \n",
       "pct_it_workers_2020        0.700000      1.200000      1.800000  1.520000e+01  \n",
       "pct_it_workers_2021        0.600000      1.100000      1.700000  1.520000e+01  \n",
       "median_hh_inc_2017     41134.000000  48073.000000  55764.000000  1.295880e+05  \n",
       "median_hh_inc_2018     42491.000000  49891.000000  57616.000000  1.362680e+05  \n",
       "median_hh_inc_2019     44185.000000  51790.000000  59931.000000  1.422990e+05  \n",
       "median_hh_inc_2020     45689.000000  52861.500000  61505.000000  1.471110e+05  \n",
       "median_hh_inc_2021     48237.000000  55923.000000  64949.000000  1.568210e+05  "
      ]
     },
     "execution_count": 35,
     "metadata": {},
     "output_type": "execute_result"
    }
   ],
   "source": [
    "df_trainMerged.describe().T"
   ]
  },
  {
   "cell_type": "code",
   "execution_count": null,
   "id": "f2d0c2c3",
   "metadata": {
    "papermill": {
     "duration": 0.023493,
     "end_time": "2023-02-13T09:36:53.932560",
     "exception": false,
     "start_time": "2023-02-13T09:36:53.909067",
     "status": "completed"
    },
    "tags": []
   },
   "outputs": [],
   "source": []
  },
  {
   "cell_type": "code",
   "execution_count": null,
   "id": "a5b28611",
   "metadata": {
    "papermill": {
     "duration": 0.022879,
     "end_time": "2023-02-13T09:36:53.980098",
     "exception": false,
     "start_time": "2023-02-13T09:36:53.957219",
     "status": "completed"
    },
    "tags": []
   },
   "outputs": [],
   "source": []
  },
  {
   "cell_type": "code",
   "execution_count": null,
   "id": "70917f76",
   "metadata": {
    "papermill": {
     "duration": 0.023601,
     "end_time": "2023-02-13T09:36:54.030469",
     "exception": false,
     "start_time": "2023-02-13T09:36:54.006868",
     "status": "completed"
    },
    "tags": []
   },
   "outputs": [],
   "source": []
  }
 ],
 "metadata": {
  "kernelspec": {
   "display_name": "Python 3",
   "language": "python",
   "name": "python3"
  },
  "language_info": {
   "codemirror_mode": {
    "name": "ipython",
    "version": 3
   },
   "file_extension": ".py",
   "mimetype": "text/x-python",
   "name": "python",
   "nbconvert_exporter": "python",
   "pygments_lexer": "ipython3",
   "version": "3.7.12"
  },
  "papermill": {
   "default_parameters": {},
   "duration": 22.859016,
   "end_time": "2023-02-13T09:36:55.083624",
   "environment_variables": {},
   "exception": null,
   "input_path": "__notebook__.ipynb",
   "output_path": "__notebook__.ipynb",
   "parameters": {},
   "start_time": "2023-02-13T09:36:32.224608",
   "version": "2.3.4"
  }
 },
 "nbformat": 4,
 "nbformat_minor": 5
}
