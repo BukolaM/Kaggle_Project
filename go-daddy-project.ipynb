{
 "cells": [
  {
   "cell_type": "code",
   "execution_count": 1,
   "id": "294fe5c7",
   "metadata": {
    "_cell_guid": "b1076dfc-b9ad-4769-8c92-a6c4dae69d19",
    "_uuid": "8f2839f25d086af736a60e9eeb907d3b93b6e0e5",
    "execution": {
     "iopub.execute_input": "2023-01-17T13:09:57.839714Z",
     "iopub.status.busy": "2023-01-17T13:09:57.838101Z",
     "iopub.status.idle": "2023-01-17T13:09:57.855636Z",
     "shell.execute_reply": "2023-01-17T13:09:57.854135Z"
    },
    "papermill": {
     "duration": 0.029529,
     "end_time": "2023-01-17T13:09:57.859824",
     "exception": false,
     "start_time": "2023-01-17T13:09:57.830295",
     "status": "completed"
    },
    "tags": []
   },
   "outputs": [
    {
     "name": "stdout",
     "output_type": "stream",
     "text": [
      "/kaggle/input/godaddy-microbusiness-density-forecasting/sample_submission.csv\n",
      "/kaggle/input/godaddy-microbusiness-density-forecasting/census_starter.csv\n",
      "/kaggle/input/godaddy-microbusiness-density-forecasting/train.csv\n",
      "/kaggle/input/godaddy-microbusiness-density-forecasting/test.csv\n"
     ]
    }
   ],
   "source": [
    "#importing the required libraries\n",
    "import numpy as np \n",
    "import pandas as pd \n",
    "\n",
    "import os\n",
    "for dirname, _, filenames in os.walk('/kaggle/input'):\n",
    "    for filename in filenames:\n",
    "        print(os.path.join(dirname, filename))"
   ]
  },
  {
   "cell_type": "code",
   "execution_count": 2,
   "id": "61aec3ac",
   "metadata": {
    "execution": {
     "iopub.execute_input": "2023-01-17T13:09:57.871955Z",
     "iopub.status.busy": "2023-01-17T13:09:57.871445Z",
     "iopub.status.idle": "2023-01-17T13:09:58.356849Z",
     "shell.execute_reply": "2023-01-17T13:09:58.355649Z"
    },
    "papermill": {
     "duration": 0.494446,
     "end_time": "2023-01-17T13:09:58.359589",
     "exception": false,
     "start_time": "2023-01-17T13:09:57.865143",
     "status": "completed"
    },
    "tags": []
   },
   "outputs": [],
   "source": [
    "#reading the dataset\n",
    "dfSub = pd.read_csv('/kaggle/input/godaddy-microbusiness-density-forecasting/sample_submission.csv')\n",
    "dfStarter = pd.read_csv('/kaggle/input/godaddy-microbusiness-density-forecasting/census_starter.csv')\n",
    "dfTrain = pd.read_csv('/kaggle/input/godaddy-microbusiness-density-forecasting/train.csv')\n",
    "dfTest = pd.read_csv('/kaggle/input/godaddy-microbusiness-density-forecasting/test.csv')"
   ]
  },
  {
   "cell_type": "code",
   "execution_count": 3,
   "id": "fcf9c8a8",
   "metadata": {
    "execution": {
     "iopub.execute_input": "2023-01-17T13:09:58.374751Z",
     "iopub.status.busy": "2023-01-17T13:09:58.373029Z",
     "iopub.status.idle": "2023-01-17T13:09:58.388155Z",
     "shell.execute_reply": "2023-01-17T13:09:58.386663Z"
    },
    "papermill": {
     "duration": 0.026321,
     "end_time": "2023-01-17T13:09:58.391476",
     "exception": false,
     "start_time": "2023-01-17T13:09:58.365155",
     "status": "completed"
    },
    "tags": []
   },
   "outputs": [],
   "source": [
    "#Making a Copy of The Dataset\n",
    "#I would be working with this copy through out the project while the original dataframe would be for referencing when needed .\n",
    "df_Sub = dfSub.copy()\n",
    "df_Starter = dfStarter.copy()\n",
    "df_Train = dfTrain.copy()\n",
    "df_Test =dfTest.copy()"
   ]
  },
  {
   "cell_type": "code",
   "execution_count": 4,
   "id": "e2480b02",
   "metadata": {
    "execution": {
     "iopub.execute_input": "2023-01-17T13:09:58.403190Z",
     "iopub.status.busy": "2023-01-17T13:09:58.402650Z",
     "iopub.status.idle": "2023-01-17T13:09:58.409640Z",
     "shell.execute_reply": "2023-01-17T13:09:58.408232Z"
    },
    "papermill": {
     "duration": 0.016803,
     "end_time": "2023-01-17T13:09:58.413193",
     "exception": false,
     "start_time": "2023-01-17T13:09:58.396390",
     "status": "completed"
    },
    "tags": []
   },
   "outputs": [
    {
     "name": "stdout",
     "output_type": "stream",
     "text": [
      "(122265, 7)\n",
      "(25080, 3)\n",
      "(25080, 2)\n",
      "(3142, 26)\n"
     ]
    }
   ],
   "source": [
    "print(df_Train.shape)\n",
    "print(df_Test.shape)\n",
    "print(df_Sub.shape)\n",
    "print(df_Starter.shape)"
   ]
  },
  {
   "cell_type": "code",
   "execution_count": 5,
   "id": "022435e8",
   "metadata": {
    "execution": {
     "iopub.execute_input": "2023-01-17T13:09:58.427490Z",
     "iopub.status.busy": "2023-01-17T13:09:58.426661Z",
     "iopub.status.idle": "2023-01-17T13:09:58.455654Z",
     "shell.execute_reply": "2023-01-17T13:09:58.453743Z"
    },
    "papermill": {
     "duration": 0.040222,
     "end_time": "2023-01-17T13:09:58.459407",
     "exception": false,
     "start_time": "2023-01-17T13:09:58.419185",
     "status": "completed"
    },
    "tags": []
   },
   "outputs": [
    {
     "data": {
      "text/html": [
       "<div>\n",
       "<style scoped>\n",
       "    .dataframe tbody tr th:only-of-type {\n",
       "        vertical-align: middle;\n",
       "    }\n",
       "\n",
       "    .dataframe tbody tr th {\n",
       "        vertical-align: top;\n",
       "    }\n",
       "\n",
       "    .dataframe thead th {\n",
       "        text-align: right;\n",
       "    }\n",
       "</style>\n",
       "<table border=\"1\" class=\"dataframe\">\n",
       "  <thead>\n",
       "    <tr style=\"text-align: right;\">\n",
       "      <th></th>\n",
       "      <th>row_id</th>\n",
       "      <th>cfips</th>\n",
       "      <th>first_day_of_month</th>\n",
       "    </tr>\n",
       "  </thead>\n",
       "  <tbody>\n",
       "    <tr>\n",
       "      <th>0</th>\n",
       "      <td>1001_2022-11-01</td>\n",
       "      <td>1001</td>\n",
       "      <td>2022-11-01</td>\n",
       "    </tr>\n",
       "    <tr>\n",
       "      <th>1</th>\n",
       "      <td>1003_2022-11-01</td>\n",
       "      <td>1003</td>\n",
       "      <td>2022-11-01</td>\n",
       "    </tr>\n",
       "    <tr>\n",
       "      <th>2</th>\n",
       "      <td>1005_2022-11-01</td>\n",
       "      <td>1005</td>\n",
       "      <td>2022-11-01</td>\n",
       "    </tr>\n",
       "    <tr>\n",
       "      <th>3</th>\n",
       "      <td>1007_2022-11-01</td>\n",
       "      <td>1007</td>\n",
       "      <td>2022-11-01</td>\n",
       "    </tr>\n",
       "    <tr>\n",
       "      <th>4</th>\n",
       "      <td>1009_2022-11-01</td>\n",
       "      <td>1009</td>\n",
       "      <td>2022-11-01</td>\n",
       "    </tr>\n",
       "  </tbody>\n",
       "</table>\n",
       "</div>"
      ],
      "text/plain": [
       "            row_id  cfips first_day_of_month\n",
       "0  1001_2022-11-01   1001         2022-11-01\n",
       "1  1003_2022-11-01   1003         2022-11-01\n",
       "2  1005_2022-11-01   1005         2022-11-01\n",
       "3  1007_2022-11-01   1007         2022-11-01\n",
       "4  1009_2022-11-01   1009         2022-11-01"
      ]
     },
     "execution_count": 5,
     "metadata": {},
     "output_type": "execute_result"
    }
   ],
   "source": [
    "#information on the test dataset\n",
    "df_Test.head()"
   ]
  },
  {
   "cell_type": "code",
   "execution_count": 6,
   "id": "8d0baeb7",
   "metadata": {
    "execution": {
     "iopub.execute_input": "2023-01-17T13:09:58.473686Z",
     "iopub.status.busy": "2023-01-17T13:09:58.473178Z",
     "iopub.status.idle": "2023-01-17T13:09:58.490316Z",
     "shell.execute_reply": "2023-01-17T13:09:58.488675Z"
    },
    "papermill": {
     "duration": 0.029621,
     "end_time": "2023-01-17T13:09:58.494846",
     "exception": false,
     "start_time": "2023-01-17T13:09:58.465225",
     "status": "completed"
    },
    "tags": []
   },
   "outputs": [
    {
     "data": {
      "text/html": [
       "<div>\n",
       "<style scoped>\n",
       "    .dataframe tbody tr th:only-of-type {\n",
       "        vertical-align: middle;\n",
       "    }\n",
       "\n",
       "    .dataframe tbody tr th {\n",
       "        vertical-align: top;\n",
       "    }\n",
       "\n",
       "    .dataframe thead th {\n",
       "        text-align: right;\n",
       "    }\n",
       "</style>\n",
       "<table border=\"1\" class=\"dataframe\">\n",
       "  <thead>\n",
       "    <tr style=\"text-align: right;\">\n",
       "      <th></th>\n",
       "      <th>row_id</th>\n",
       "      <th>cfips</th>\n",
       "      <th>county</th>\n",
       "      <th>state</th>\n",
       "      <th>first_day_of_month</th>\n",
       "      <th>microbusiness_density</th>\n",
       "      <th>active</th>\n",
       "    </tr>\n",
       "  </thead>\n",
       "  <tbody>\n",
       "    <tr>\n",
       "      <th>0</th>\n",
       "      <td>1001_2019-08-01</td>\n",
       "      <td>1001</td>\n",
       "      <td>Autauga County</td>\n",
       "      <td>Alabama</td>\n",
       "      <td>2019-08-01</td>\n",
       "      <td>3.007682</td>\n",
       "      <td>1249</td>\n",
       "    </tr>\n",
       "    <tr>\n",
       "      <th>1</th>\n",
       "      <td>1001_2019-09-01</td>\n",
       "      <td>1001</td>\n",
       "      <td>Autauga County</td>\n",
       "      <td>Alabama</td>\n",
       "      <td>2019-09-01</td>\n",
       "      <td>2.884870</td>\n",
       "      <td>1198</td>\n",
       "    </tr>\n",
       "    <tr>\n",
       "      <th>2</th>\n",
       "      <td>1001_2019-10-01</td>\n",
       "      <td>1001</td>\n",
       "      <td>Autauga County</td>\n",
       "      <td>Alabama</td>\n",
       "      <td>2019-10-01</td>\n",
       "      <td>3.055843</td>\n",
       "      <td>1269</td>\n",
       "    </tr>\n",
       "    <tr>\n",
       "      <th>3</th>\n",
       "      <td>1001_2019-11-01</td>\n",
       "      <td>1001</td>\n",
       "      <td>Autauga County</td>\n",
       "      <td>Alabama</td>\n",
       "      <td>2019-11-01</td>\n",
       "      <td>2.993233</td>\n",
       "      <td>1243</td>\n",
       "    </tr>\n",
       "    <tr>\n",
       "      <th>4</th>\n",
       "      <td>1001_2019-12-01</td>\n",
       "      <td>1001</td>\n",
       "      <td>Autauga County</td>\n",
       "      <td>Alabama</td>\n",
       "      <td>2019-12-01</td>\n",
       "      <td>2.993233</td>\n",
       "      <td>1243</td>\n",
       "    </tr>\n",
       "  </tbody>\n",
       "</table>\n",
       "</div>"
      ],
      "text/plain": [
       "            row_id  cfips          county    state first_day_of_month  \\\n",
       "0  1001_2019-08-01   1001  Autauga County  Alabama         2019-08-01   \n",
       "1  1001_2019-09-01   1001  Autauga County  Alabama         2019-09-01   \n",
       "2  1001_2019-10-01   1001  Autauga County  Alabama         2019-10-01   \n",
       "3  1001_2019-11-01   1001  Autauga County  Alabama         2019-11-01   \n",
       "4  1001_2019-12-01   1001  Autauga County  Alabama         2019-12-01   \n",
       "\n",
       "   microbusiness_density  active  \n",
       "0               3.007682    1249  \n",
       "1               2.884870    1198  \n",
       "2               3.055843    1269  \n",
       "3               2.993233    1243  \n",
       "4               2.993233    1243  "
      ]
     },
     "execution_count": 6,
     "metadata": {},
     "output_type": "execute_result"
    }
   ],
   "source": [
    "#information on train datset\n",
    "df_Train.head()"
   ]
  },
  {
   "cell_type": "code",
   "execution_count": 7,
   "id": "feb13bdd",
   "metadata": {
    "execution": {
     "iopub.execute_input": "2023-01-17T13:09:58.508974Z",
     "iopub.status.busy": "2023-01-17T13:09:58.508473Z",
     "iopub.status.idle": "2023-01-17T13:09:58.566631Z",
     "shell.execute_reply": "2023-01-17T13:09:58.565051Z"
    },
    "papermill": {
     "duration": 0.069404,
     "end_time": "2023-01-17T13:09:58.570679",
     "exception": false,
     "start_time": "2023-01-17T13:09:58.501275",
     "status": "completed"
    },
    "tags": []
   },
   "outputs": [
    {
     "name": "stdout",
     "output_type": "stream",
     "text": [
      "<class 'pandas.core.frame.DataFrame'>\n",
      "RangeIndex: 122265 entries, 0 to 122264\n",
      "Data columns (total 7 columns):\n",
      " #   Column                 Non-Null Count   Dtype  \n",
      "---  ------                 --------------   -----  \n",
      " 0   row_id                 122265 non-null  object \n",
      " 1   cfips                  122265 non-null  int64  \n",
      " 2   county                 122265 non-null  object \n",
      " 3   state                  122265 non-null  object \n",
      " 4   first_day_of_month     122265 non-null  object \n",
      " 5   microbusiness_density  122265 non-null  float64\n",
      " 6   active                 122265 non-null  int64  \n",
      "dtypes: float64(1), int64(2), object(4)\n",
      "memory usage: 6.5+ MB\n"
     ]
    }
   ],
   "source": [
    "df_Train.info()"
   ]
  },
  {
   "cell_type": "code",
   "execution_count": 8,
   "id": "aa294121",
   "metadata": {
    "execution": {
     "iopub.execute_input": "2023-01-17T13:09:58.584638Z",
     "iopub.status.busy": "2023-01-17T13:09:58.584136Z",
     "iopub.status.idle": "2023-01-17T13:09:58.595503Z",
     "shell.execute_reply": "2023-01-17T13:09:58.593816Z"
    },
    "papermill": {
     "duration": 0.022081,
     "end_time": "2023-01-17T13:09:58.598631",
     "exception": false,
     "start_time": "2023-01-17T13:09:58.576550",
     "status": "completed"
    },
    "tags": []
   },
   "outputs": [
    {
     "data": {
      "text/plain": [
       "(25080, 122265)"
      ]
     },
     "execution_count": 8,
     "metadata": {},
     "output_type": "execute_result"
    }
   ],
   "source": [
    "len(df_Test), len(df_Train)"
   ]
  },
  {
   "cell_type": "markdown",
   "id": "67220505",
   "metadata": {
    "papermill": {
     "duration": 0.005514,
     "end_time": "2023-01-17T13:09:58.609921",
     "exception": false,
     "start_time": "2023-01-17T13:09:58.604407",
     "status": "completed"
    },
    "tags": []
   },
   "source": [
    "## Data Cleaning"
   ]
  },
  {
   "cell_type": "code",
   "execution_count": 9,
   "id": "5150034a",
   "metadata": {
    "execution": {
     "iopub.execute_input": "2023-01-17T13:09:58.623331Z",
     "iopub.status.busy": "2023-01-17T13:09:58.622747Z",
     "iopub.status.idle": "2023-01-17T13:09:58.629496Z",
     "shell.execute_reply": "2023-01-17T13:09:58.628290Z"
    },
    "papermill": {
     "duration": 0.016267,
     "end_time": "2023-01-17T13:09:58.631835",
     "exception": false,
     "start_time": "2023-01-17T13:09:58.615568",
     "status": "completed"
    },
    "tags": []
   },
   "outputs": [],
   "source": [
    "def get_first_day_of_month(item):\n",
    "    item = item.split('_')[1]\n",
    "    return item\n",
    "\n",
    "def get_cfips(item):\n",
    "    item = item.split('_')[0]\n",
    "    return item"
   ]
  },
  {
   "cell_type": "code",
   "execution_count": 10,
   "id": "c34d13e5",
   "metadata": {
    "execution": {
     "iopub.execute_input": "2023-01-17T13:09:58.645434Z",
     "iopub.status.busy": "2023-01-17T13:09:58.644924Z",
     "iopub.status.idle": "2023-01-17T13:09:58.678666Z",
     "shell.execute_reply": "2023-01-17T13:09:58.677518Z"
    },
    "papermill": {
     "duration": 0.044033,
     "end_time": "2023-01-17T13:09:58.681415",
     "exception": false,
     "start_time": "2023-01-17T13:09:58.637382",
     "status": "completed"
    },
    "tags": []
   },
   "outputs": [],
   "source": [
    "df_Sub['first_day_of_month'] = df_Sub['row_id'].apply(get_first_day_of_month)\n",
    "df_Sub['cfips'] = df_Sub['row_id'].apply(get_cfips)"
   ]
  },
  {
   "cell_type": "code",
   "execution_count": 11,
   "id": "85b4839e",
   "metadata": {
    "execution": {
     "iopub.execute_input": "2023-01-17T13:09:58.694973Z",
     "iopub.status.busy": "2023-01-17T13:09:58.694183Z",
     "iopub.status.idle": "2023-01-17T13:09:58.739797Z",
     "shell.execute_reply": "2023-01-17T13:09:58.738267Z"
    },
    "papermill": {
     "duration": 0.055873,
     "end_time": "2023-01-17T13:09:58.742798",
     "exception": false,
     "start_time": "2023-01-17T13:09:58.686925",
     "status": "completed"
    },
    "tags": []
   },
   "outputs": [],
   "source": [
    "#converting the date to datetime\n",
    "df_Test['first_day_of_month'] = pd.to_datetime(df_Test['first_day_of_month'])\n",
    "df_Train['first_day_of_month'] = pd.to_datetime(df_Train['first_day_of_month'])\n",
    "df_Sub['first_day_of_month'] = pd.to_datetime(df_Sub['first_day_of_month'])"
   ]
  },
  {
   "cell_type": "code",
   "execution_count": 12,
   "id": "66827437",
   "metadata": {
    "execution": {
     "iopub.execute_input": "2023-01-17T13:09:58.755835Z",
     "iopub.status.busy": "2023-01-17T13:09:58.755372Z",
     "iopub.status.idle": "2023-01-17T13:09:58.779659Z",
     "shell.execute_reply": "2023-01-17T13:09:58.778220Z"
    },
    "papermill": {
     "duration": 0.03432,
     "end_time": "2023-01-17T13:09:58.782625",
     "exception": false,
     "start_time": "2023-01-17T13:09:58.748305",
     "status": "completed"
    },
    "tags": []
   },
   "outputs": [],
   "source": [
    "#dropping the `row_id` column\n",
    "df_Test.drop(['row_id'],axis = 1, inplace = True)\n",
    "df_Train.drop(['row_id'],axis = 1, inplace = True)\n",
    "df_Sub.drop(['row_id'],axis = 1, inplace = True)"
   ]
  },
  {
   "cell_type": "code",
   "execution_count": 13,
   "id": "ebb5f44d",
   "metadata": {
    "execution": {
     "iopub.execute_input": "2023-01-17T13:09:58.795895Z",
     "iopub.status.busy": "2023-01-17T13:09:58.795462Z",
     "iopub.status.idle": "2023-01-17T13:09:59.009418Z",
     "shell.execute_reply": "2023-01-17T13:09:59.007574Z"
    },
    "papermill": {
     "duration": 0.223738,
     "end_time": "2023-01-17T13:09:59.011956",
     "exception": false,
     "start_time": "2023-01-17T13:09:58.788218",
     "status": "completed"
    },
    "tags": []
   },
   "outputs": [
    {
     "data": {
      "text/html": [
       "<div>\n",
       "<style scoped>\n",
       "    .dataframe tbody tr th:only-of-type {\n",
       "        vertical-align: middle;\n",
       "    }\n",
       "\n",
       "    .dataframe tbody tr th {\n",
       "        vertical-align: top;\n",
       "    }\n",
       "\n",
       "    .dataframe thead th {\n",
       "        text-align: right;\n",
       "    }\n",
       "</style>\n",
       "<table border=\"1\" class=\"dataframe\">\n",
       "  <thead>\n",
       "    <tr style=\"text-align: right;\">\n",
       "      <th></th>\n",
       "      <th>cfips</th>\n",
       "      <th>county</th>\n",
       "      <th>state</th>\n",
       "      <th>first_day_of_month</th>\n",
       "      <th>microbusiness_density</th>\n",
       "      <th>active</th>\n",
       "      <th>pct_bb_2017</th>\n",
       "      <th>pct_bb_2018</th>\n",
       "      <th>pct_bb_2019</th>\n",
       "      <th>pct_bb_2020</th>\n",
       "      <th>...</th>\n",
       "      <th>pct_it_workers_2017</th>\n",
       "      <th>pct_it_workers_2018</th>\n",
       "      <th>pct_it_workers_2019</th>\n",
       "      <th>pct_it_workers_2020</th>\n",
       "      <th>pct_it_workers_2021</th>\n",
       "      <th>median_hh_inc_2017</th>\n",
       "      <th>median_hh_inc_2018</th>\n",
       "      <th>median_hh_inc_2019</th>\n",
       "      <th>median_hh_inc_2020</th>\n",
       "      <th>median_hh_inc_2021</th>\n",
       "    </tr>\n",
       "  </thead>\n",
       "  <tbody>\n",
       "    <tr>\n",
       "      <th>0</th>\n",
       "      <td>1001</td>\n",
       "      <td>Autauga County</td>\n",
       "      <td>Alabama</td>\n",
       "      <td>2019-08-01</td>\n",
       "      <td>3.007682</td>\n",
       "      <td>1249</td>\n",
       "      <td>76.6</td>\n",
       "      <td>78.9</td>\n",
       "      <td>80.6</td>\n",
       "      <td>82.7</td>\n",
       "      <td>...</td>\n",
       "      <td>1.3</td>\n",
       "      <td>1.1</td>\n",
       "      <td>0.7</td>\n",
       "      <td>0.6</td>\n",
       "      <td>1.1</td>\n",
       "      <td>55317</td>\n",
       "      <td>58786.0</td>\n",
       "      <td>58731</td>\n",
       "      <td>57982.0</td>\n",
       "      <td>62660.0</td>\n",
       "    </tr>\n",
       "    <tr>\n",
       "      <th>1</th>\n",
       "      <td>1001</td>\n",
       "      <td>Autauga County</td>\n",
       "      <td>Alabama</td>\n",
       "      <td>2019-09-01</td>\n",
       "      <td>2.884870</td>\n",
       "      <td>1198</td>\n",
       "      <td>76.6</td>\n",
       "      <td>78.9</td>\n",
       "      <td>80.6</td>\n",
       "      <td>82.7</td>\n",
       "      <td>...</td>\n",
       "      <td>1.3</td>\n",
       "      <td>1.1</td>\n",
       "      <td>0.7</td>\n",
       "      <td>0.6</td>\n",
       "      <td>1.1</td>\n",
       "      <td>55317</td>\n",
       "      <td>58786.0</td>\n",
       "      <td>58731</td>\n",
       "      <td>57982.0</td>\n",
       "      <td>62660.0</td>\n",
       "    </tr>\n",
       "    <tr>\n",
       "      <th>2</th>\n",
       "      <td>1001</td>\n",
       "      <td>Autauga County</td>\n",
       "      <td>Alabama</td>\n",
       "      <td>2019-10-01</td>\n",
       "      <td>3.055843</td>\n",
       "      <td>1269</td>\n",
       "      <td>76.6</td>\n",
       "      <td>78.9</td>\n",
       "      <td>80.6</td>\n",
       "      <td>82.7</td>\n",
       "      <td>...</td>\n",
       "      <td>1.3</td>\n",
       "      <td>1.1</td>\n",
       "      <td>0.7</td>\n",
       "      <td>0.6</td>\n",
       "      <td>1.1</td>\n",
       "      <td>55317</td>\n",
       "      <td>58786.0</td>\n",
       "      <td>58731</td>\n",
       "      <td>57982.0</td>\n",
       "      <td>62660.0</td>\n",
       "    </tr>\n",
       "    <tr>\n",
       "      <th>3</th>\n",
       "      <td>1001</td>\n",
       "      <td>Autauga County</td>\n",
       "      <td>Alabama</td>\n",
       "      <td>2019-11-01</td>\n",
       "      <td>2.993233</td>\n",
       "      <td>1243</td>\n",
       "      <td>76.6</td>\n",
       "      <td>78.9</td>\n",
       "      <td>80.6</td>\n",
       "      <td>82.7</td>\n",
       "      <td>...</td>\n",
       "      <td>1.3</td>\n",
       "      <td>1.1</td>\n",
       "      <td>0.7</td>\n",
       "      <td>0.6</td>\n",
       "      <td>1.1</td>\n",
       "      <td>55317</td>\n",
       "      <td>58786.0</td>\n",
       "      <td>58731</td>\n",
       "      <td>57982.0</td>\n",
       "      <td>62660.0</td>\n",
       "    </tr>\n",
       "    <tr>\n",
       "      <th>4</th>\n",
       "      <td>1001</td>\n",
       "      <td>Autauga County</td>\n",
       "      <td>Alabama</td>\n",
       "      <td>2019-12-01</td>\n",
       "      <td>2.993233</td>\n",
       "      <td>1243</td>\n",
       "      <td>76.6</td>\n",
       "      <td>78.9</td>\n",
       "      <td>80.6</td>\n",
       "      <td>82.7</td>\n",
       "      <td>...</td>\n",
       "      <td>1.3</td>\n",
       "      <td>1.1</td>\n",
       "      <td>0.7</td>\n",
       "      <td>0.6</td>\n",
       "      <td>1.1</td>\n",
       "      <td>55317</td>\n",
       "      <td>58786.0</td>\n",
       "      <td>58731</td>\n",
       "      <td>57982.0</td>\n",
       "      <td>62660.0</td>\n",
       "    </tr>\n",
       "    <tr>\n",
       "      <th>...</th>\n",
       "      <td>...</td>\n",
       "      <td>...</td>\n",
       "      <td>...</td>\n",
       "      <td>...</td>\n",
       "      <td>...</td>\n",
       "      <td>...</td>\n",
       "      <td>...</td>\n",
       "      <td>...</td>\n",
       "      <td>...</td>\n",
       "      <td>...</td>\n",
       "      <td>...</td>\n",
       "      <td>...</td>\n",
       "      <td>...</td>\n",
       "      <td>...</td>\n",
       "      <td>...</td>\n",
       "      <td>...</td>\n",
       "      <td>...</td>\n",
       "      <td>...</td>\n",
       "      <td>...</td>\n",
       "      <td>...</td>\n",
       "      <td>...</td>\n",
       "    </tr>\n",
       "    <tr>\n",
       "      <th>122260</th>\n",
       "      <td>56045</td>\n",
       "      <td>Weston County</td>\n",
       "      <td>Wyoming</td>\n",
       "      <td>2022-06-01</td>\n",
       "      <td>1.803249</td>\n",
       "      <td>101</td>\n",
       "      <td>71.1</td>\n",
       "      <td>73.3</td>\n",
       "      <td>76.8</td>\n",
       "      <td>79.7</td>\n",
       "      <td>...</td>\n",
       "      <td>0.6</td>\n",
       "      <td>0.6</td>\n",
       "      <td>0.0</td>\n",
       "      <td>0.0</td>\n",
       "      <td>0.0</td>\n",
       "      <td>59605</td>\n",
       "      <td>52867.0</td>\n",
       "      <td>57031</td>\n",
       "      <td>53333.0</td>\n",
       "      <td>65566.0</td>\n",
       "    </tr>\n",
       "    <tr>\n",
       "      <th>122261</th>\n",
       "      <td>56045</td>\n",
       "      <td>Weston County</td>\n",
       "      <td>Wyoming</td>\n",
       "      <td>2022-07-01</td>\n",
       "      <td>1.803249</td>\n",
       "      <td>101</td>\n",
       "      <td>71.1</td>\n",
       "      <td>73.3</td>\n",
       "      <td>76.8</td>\n",
       "      <td>79.7</td>\n",
       "      <td>...</td>\n",
       "      <td>0.6</td>\n",
       "      <td>0.6</td>\n",
       "      <td>0.0</td>\n",
       "      <td>0.0</td>\n",
       "      <td>0.0</td>\n",
       "      <td>59605</td>\n",
       "      <td>52867.0</td>\n",
       "      <td>57031</td>\n",
       "      <td>53333.0</td>\n",
       "      <td>65566.0</td>\n",
       "    </tr>\n",
       "    <tr>\n",
       "      <th>122262</th>\n",
       "      <td>56045</td>\n",
       "      <td>Weston County</td>\n",
       "      <td>Wyoming</td>\n",
       "      <td>2022-08-01</td>\n",
       "      <td>1.785395</td>\n",
       "      <td>100</td>\n",
       "      <td>71.1</td>\n",
       "      <td>73.3</td>\n",
       "      <td>76.8</td>\n",
       "      <td>79.7</td>\n",
       "      <td>...</td>\n",
       "      <td>0.6</td>\n",
       "      <td>0.6</td>\n",
       "      <td>0.0</td>\n",
       "      <td>0.0</td>\n",
       "      <td>0.0</td>\n",
       "      <td>59605</td>\n",
       "      <td>52867.0</td>\n",
       "      <td>57031</td>\n",
       "      <td>53333.0</td>\n",
       "      <td>65566.0</td>\n",
       "    </tr>\n",
       "    <tr>\n",
       "      <th>122263</th>\n",
       "      <td>56045</td>\n",
       "      <td>Weston County</td>\n",
       "      <td>Wyoming</td>\n",
       "      <td>2022-09-01</td>\n",
       "      <td>1.785395</td>\n",
       "      <td>100</td>\n",
       "      <td>71.1</td>\n",
       "      <td>73.3</td>\n",
       "      <td>76.8</td>\n",
       "      <td>79.7</td>\n",
       "      <td>...</td>\n",
       "      <td>0.6</td>\n",
       "      <td>0.6</td>\n",
       "      <td>0.0</td>\n",
       "      <td>0.0</td>\n",
       "      <td>0.0</td>\n",
       "      <td>59605</td>\n",
       "      <td>52867.0</td>\n",
       "      <td>57031</td>\n",
       "      <td>53333.0</td>\n",
       "      <td>65566.0</td>\n",
       "    </tr>\n",
       "    <tr>\n",
       "      <th>122264</th>\n",
       "      <td>56045</td>\n",
       "      <td>Weston County</td>\n",
       "      <td>Wyoming</td>\n",
       "      <td>2022-10-01</td>\n",
       "      <td>1.785395</td>\n",
       "      <td>100</td>\n",
       "      <td>71.1</td>\n",
       "      <td>73.3</td>\n",
       "      <td>76.8</td>\n",
       "      <td>79.7</td>\n",
       "      <td>...</td>\n",
       "      <td>0.6</td>\n",
       "      <td>0.6</td>\n",
       "      <td>0.0</td>\n",
       "      <td>0.0</td>\n",
       "      <td>0.0</td>\n",
       "      <td>59605</td>\n",
       "      <td>52867.0</td>\n",
       "      <td>57031</td>\n",
       "      <td>53333.0</td>\n",
       "      <td>65566.0</td>\n",
       "    </tr>\n",
       "  </tbody>\n",
       "</table>\n",
       "<p>122265 rows × 31 columns</p>\n",
       "</div>"
      ],
      "text/plain": [
       "        cfips          county    state first_day_of_month  \\\n",
       "0        1001  Autauga County  Alabama         2019-08-01   \n",
       "1        1001  Autauga County  Alabama         2019-09-01   \n",
       "2        1001  Autauga County  Alabama         2019-10-01   \n",
       "3        1001  Autauga County  Alabama         2019-11-01   \n",
       "4        1001  Autauga County  Alabama         2019-12-01   \n",
       "...       ...             ...      ...                ...   \n",
       "122260  56045   Weston County  Wyoming         2022-06-01   \n",
       "122261  56045   Weston County  Wyoming         2022-07-01   \n",
       "122262  56045   Weston County  Wyoming         2022-08-01   \n",
       "122263  56045   Weston County  Wyoming         2022-09-01   \n",
       "122264  56045   Weston County  Wyoming         2022-10-01   \n",
       "\n",
       "        microbusiness_density  active  pct_bb_2017  pct_bb_2018  pct_bb_2019  \\\n",
       "0                    3.007682    1249         76.6         78.9         80.6   \n",
       "1                    2.884870    1198         76.6         78.9         80.6   \n",
       "2                    3.055843    1269         76.6         78.9         80.6   \n",
       "3                    2.993233    1243         76.6         78.9         80.6   \n",
       "4                    2.993233    1243         76.6         78.9         80.6   \n",
       "...                       ...     ...          ...          ...          ...   \n",
       "122260               1.803249     101         71.1         73.3         76.8   \n",
       "122261               1.803249     101         71.1         73.3         76.8   \n",
       "122262               1.785395     100         71.1         73.3         76.8   \n",
       "122263               1.785395     100         71.1         73.3         76.8   \n",
       "122264               1.785395     100         71.1         73.3         76.8   \n",
       "\n",
       "        pct_bb_2020  ...  pct_it_workers_2017  pct_it_workers_2018  \\\n",
       "0              82.7  ...                  1.3                  1.1   \n",
       "1              82.7  ...                  1.3                  1.1   \n",
       "2              82.7  ...                  1.3                  1.1   \n",
       "3              82.7  ...                  1.3                  1.1   \n",
       "4              82.7  ...                  1.3                  1.1   \n",
       "...             ...  ...                  ...                  ...   \n",
       "122260         79.7  ...                  0.6                  0.6   \n",
       "122261         79.7  ...                  0.6                  0.6   \n",
       "122262         79.7  ...                  0.6                  0.6   \n",
       "122263         79.7  ...                  0.6                  0.6   \n",
       "122264         79.7  ...                  0.6                  0.6   \n",
       "\n",
       "        pct_it_workers_2019  pct_it_workers_2020  pct_it_workers_2021  \\\n",
       "0                       0.7                  0.6                  1.1   \n",
       "1                       0.7                  0.6                  1.1   \n",
       "2                       0.7                  0.6                  1.1   \n",
       "3                       0.7                  0.6                  1.1   \n",
       "4                       0.7                  0.6                  1.1   \n",
       "...                     ...                  ...                  ...   \n",
       "122260                  0.0                  0.0                  0.0   \n",
       "122261                  0.0                  0.0                  0.0   \n",
       "122262                  0.0                  0.0                  0.0   \n",
       "122263                  0.0                  0.0                  0.0   \n",
       "122264                  0.0                  0.0                  0.0   \n",
       "\n",
       "        median_hh_inc_2017  median_hh_inc_2018  median_hh_inc_2019  \\\n",
       "0                    55317             58786.0               58731   \n",
       "1                    55317             58786.0               58731   \n",
       "2                    55317             58786.0               58731   \n",
       "3                    55317             58786.0               58731   \n",
       "4                    55317             58786.0               58731   \n",
       "...                    ...                 ...                 ...   \n",
       "122260               59605             52867.0               57031   \n",
       "122261               59605             52867.0               57031   \n",
       "122262               59605             52867.0               57031   \n",
       "122263               59605             52867.0               57031   \n",
       "122264               59605             52867.0               57031   \n",
       "\n",
       "        median_hh_inc_2020  median_hh_inc_2021  \n",
       "0                  57982.0             62660.0  \n",
       "1                  57982.0             62660.0  \n",
       "2                  57982.0             62660.0  \n",
       "3                  57982.0             62660.0  \n",
       "4                  57982.0             62660.0  \n",
       "...                    ...                 ...  \n",
       "122260             53333.0             65566.0  \n",
       "122261             53333.0             65566.0  \n",
       "122262             53333.0             65566.0  \n",
       "122263             53333.0             65566.0  \n",
       "122264             53333.0             65566.0  \n",
       "\n",
       "[122265 rows x 31 columns]"
      ]
     },
     "execution_count": 13,
     "metadata": {},
     "output_type": "execute_result"
    }
   ],
   "source": [
    "#merging the dataset \n",
    "df_trainMerged = df_Train.merge(df_Starter, on = 'cfips', how = 'left')\n",
    "df_trainMerged"
   ]
  },
  {
   "cell_type": "code",
   "execution_count": 14,
   "id": "8841ba43",
   "metadata": {
    "execution": {
     "iopub.execute_input": "2023-01-17T13:09:59.026046Z",
     "iopub.status.busy": "2023-01-17T13:09:59.025572Z",
     "iopub.status.idle": "2023-01-17T13:09:59.059377Z",
     "shell.execute_reply": "2023-01-17T13:09:59.057969Z"
    },
    "papermill": {
     "duration": 0.044068,
     "end_time": "2023-01-17T13:09:59.062166",
     "exception": false,
     "start_time": "2023-01-17T13:09:59.018098",
     "status": "completed"
    },
    "tags": []
   },
   "outputs": [
    {
     "data": {
      "text/plain": [
       "cfips                     0\n",
       "county                    0\n",
       "state                     0\n",
       "first_day_of_month        0\n",
       "microbusiness_density     0\n",
       "active                    0\n",
       "pct_bb_2017               0\n",
       "pct_bb_2018               0\n",
       "pct_bb_2019               0\n",
       "pct_bb_2020               0\n",
       "pct_bb_2021               0\n",
       "pct_college_2017          0\n",
       "pct_college_2018          0\n",
       "pct_college_2019          0\n",
       "pct_college_2020          0\n",
       "pct_college_2021          0\n",
       "pct_foreign_born_2017     0\n",
       "pct_foreign_born_2018     0\n",
       "pct_foreign_born_2019     0\n",
       "pct_foreign_born_2020     0\n",
       "pct_foreign_born_2021     0\n",
       "pct_it_workers_2017       0\n",
       "pct_it_workers_2018      39\n",
       "pct_it_workers_2019       0\n",
       "pct_it_workers_2020       0\n",
       "pct_it_workers_2021       0\n",
       "median_hh_inc_2017        0\n",
       "median_hh_inc_2018       39\n",
       "median_hh_inc_2019        0\n",
       "median_hh_inc_2020       39\n",
       "median_hh_inc_2021       39\n",
       "dtype: int64"
      ]
     },
     "execution_count": 14,
     "metadata": {},
     "output_type": "execute_result"
    }
   ],
   "source": [
    "#confirming the null values in the data,this shows there are no null values in the dataset.\n",
    "df_trainMerged.isnull().sum()"
   ]
  },
  {
   "cell_type": "code",
   "execution_count": null,
   "id": "d7355fef",
   "metadata": {
    "papermill": {
     "duration": 0.007548,
     "end_time": "2023-01-17T13:09:59.076528",
     "exception": false,
     "start_time": "2023-01-17T13:09:59.068980",
     "status": "completed"
    },
    "tags": []
   },
   "outputs": [],
   "source": []
  }
 ],
 "metadata": {
  "kernelspec": {
   "display_name": "Python 3",
   "language": "python",
   "name": "python3"
  },
  "language_info": {
   "codemirror_mode": {
    "name": "ipython",
    "version": 3
   },
   "file_extension": ".py",
   "mimetype": "text/x-python",
   "name": "python",
   "nbconvert_exporter": "python",
   "pygments_lexer": "ipython3",
   "version": "3.7.12"
  },
  "papermill": {
   "default_parameters": {},
   "duration": 16.837142,
   "end_time": "2023-01-17T13:10:00.109401",
   "environment_variables": {},
   "exception": null,
   "input_path": "__notebook__.ipynb",
   "output_path": "__notebook__.ipynb",
   "parameters": {},
   "start_time": "2023-01-17T13:09:43.272259",
   "version": "2.3.4"
  }
 },
 "nbformat": 4,
 "nbformat_minor": 5
}
