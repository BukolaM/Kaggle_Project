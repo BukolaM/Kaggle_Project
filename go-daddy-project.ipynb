{
 "cells": [
  {
   "cell_type": "code",
   "execution_count": 1,
   "id": "48a710e8",
   "metadata": {
    "_cell_guid": "b1076dfc-b9ad-4769-8c92-a6c4dae69d19",
    "_uuid": "8f2839f25d086af736a60e9eeb907d3b93b6e0e5",
    "execution": {
     "iopub.execute_input": "2023-01-24T00:19:09.921377Z",
     "iopub.status.busy": "2023-01-24T00:19:09.920781Z",
     "iopub.status.idle": "2023-01-24T00:19:09.933857Z",
     "shell.execute_reply": "2023-01-24T00:19:09.932745Z"
    },
    "papermill": {
     "duration": 0.026879,
     "end_time": "2023-01-24T00:19:09.936340",
     "exception": false,
     "start_time": "2023-01-24T00:19:09.909461",
     "status": "completed"
    },
    "tags": []
   },
   "outputs": [
    {
     "name": "stdout",
     "output_type": "stream",
     "text": [
      "/kaggle/input/godaddy-microbusiness-density-forecasting/sample_submission.csv\n",
      "/kaggle/input/godaddy-microbusiness-density-forecasting/census_starter.csv\n",
      "/kaggle/input/godaddy-microbusiness-density-forecasting/train.csv\n",
      "/kaggle/input/godaddy-microbusiness-density-forecasting/test.csv\n"
     ]
    }
   ],
   "source": [
    "#importing the required libraries\n",
    "import numpy as np \n",
    "import pandas as pd \n",
    "\n",
    "import os\n",
    "for dirname, _, filenames in os.walk('/kaggle/input'):\n",
    "    for filename in filenames:\n",
    "        print(os.path.join(dirname, filename))"
   ]
  },
  {
   "cell_type": "code",
   "execution_count": 2,
   "id": "441c2132",
   "metadata": {
    "execution": {
     "iopub.execute_input": "2023-01-24T00:19:09.951777Z",
     "iopub.status.busy": "2023-01-24T00:19:09.950827Z",
     "iopub.status.idle": "2023-01-24T00:19:10.355140Z",
     "shell.execute_reply": "2023-01-24T00:19:10.353985Z"
    },
    "papermill": {
     "duration": 0.415495,
     "end_time": "2023-01-24T00:19:10.358476",
     "exception": false,
     "start_time": "2023-01-24T00:19:09.942981",
     "status": "completed"
    },
    "tags": []
   },
   "outputs": [],
   "source": [
    "#reading the dataset\n",
    "dfSub = pd.read_csv('/kaggle/input/godaddy-microbusiness-density-forecasting/sample_submission.csv')\n",
    "dfStarter = pd.read_csv('/kaggle/input/godaddy-microbusiness-density-forecasting/census_starter.csv')\n",
    "dfTrain = pd.read_csv('/kaggle/input/godaddy-microbusiness-density-forecasting/train.csv')\n",
    "dfTest = pd.read_csv('/kaggle/input/godaddy-microbusiness-density-forecasting/test.csv')"
   ]
  },
  {
   "cell_type": "code",
   "execution_count": 3,
   "id": "666e866e",
   "metadata": {
    "execution": {
     "iopub.execute_input": "2023-01-24T00:19:10.373410Z",
     "iopub.status.busy": "2023-01-24T00:19:10.373012Z",
     "iopub.status.idle": "2023-01-24T00:19:10.384091Z",
     "shell.execute_reply": "2023-01-24T00:19:10.383001Z"
    },
    "papermill": {
     "duration": 0.021631,
     "end_time": "2023-01-24T00:19:10.386723",
     "exception": false,
     "start_time": "2023-01-24T00:19:10.365092",
     "status": "completed"
    },
    "tags": []
   },
   "outputs": [],
   "source": [
    "#Making a Copy of The Dataset\n",
    "#I would be working with this copy through out the project while the original dataframe would be for referencing when needed .\n",
    "df_Sub = dfSub.copy()\n",
    "df_Starter = dfStarter.copy()\n",
    "df_Train = dfTrain.copy()\n",
    "df_Test =dfTest.copy()"
   ]
  },
  {
   "cell_type": "code",
   "execution_count": 4,
   "id": "d1bedcfc",
   "metadata": {
    "execution": {
     "iopub.execute_input": "2023-01-24T00:19:10.402256Z",
     "iopub.status.busy": "2023-01-24T00:19:10.401150Z",
     "iopub.status.idle": "2023-01-24T00:19:10.409809Z",
     "shell.execute_reply": "2023-01-24T00:19:10.407554Z"
    },
    "papermill": {
     "duration": 0.019237,
     "end_time": "2023-01-24T00:19:10.412642",
     "exception": false,
     "start_time": "2023-01-24T00:19:10.393405",
     "status": "completed"
    },
    "tags": []
   },
   "outputs": [
    {
     "name": "stdout",
     "output_type": "stream",
     "text": [
      "(122265, 7)\n",
      "(25080, 3)\n",
      "(25080, 2)\n",
      "(3142, 26)\n"
     ]
    }
   ],
   "source": [
    "print(df_Train.shape)\n",
    "print(df_Test.shape)\n",
    "print(df_Sub.shape)\n",
    "print(df_Starter.shape)"
   ]
  },
  {
   "cell_type": "markdown",
   "id": "f5071bae",
   "metadata": {
    "papermill": {
     "duration": 0.006222,
     "end_time": "2023-01-24T00:19:10.426508",
     "exception": false,
     "start_time": "2023-01-24T00:19:10.420286",
     "status": "completed"
    },
    "tags": []
   },
   "source": [
    "Along with the row id, cfips, county, and state, first day of month, microbusiness density, and active fields are included in train data. Only row id, cfips, and first day of month are present in the test data. Microbusiness density for a specific cfips and at a specific first day of month is the value to be predicted."
   ]
  },
  {
   "cell_type": "code",
   "execution_count": 5,
   "id": "071c0c89",
   "metadata": {
    "execution": {
     "iopub.execute_input": "2023-01-24T00:19:10.441250Z",
     "iopub.status.busy": "2023-01-24T00:19:10.440647Z",
     "iopub.status.idle": "2023-01-24T00:19:10.458648Z",
     "shell.execute_reply": "2023-01-24T00:19:10.457565Z"
    },
    "papermill": {
     "duration": 0.028188,
     "end_time": "2023-01-24T00:19:10.461058",
     "exception": false,
     "start_time": "2023-01-24T00:19:10.432870",
     "status": "completed"
    },
    "tags": []
   },
   "outputs": [
    {
     "data": {
      "text/html": [
       "<div>\n",
       "<style scoped>\n",
       "    .dataframe tbody tr th:only-of-type {\n",
       "        vertical-align: middle;\n",
       "    }\n",
       "\n",
       "    .dataframe tbody tr th {\n",
       "        vertical-align: top;\n",
       "    }\n",
       "\n",
       "    .dataframe thead th {\n",
       "        text-align: right;\n",
       "    }\n",
       "</style>\n",
       "<table border=\"1\" class=\"dataframe\">\n",
       "  <thead>\n",
       "    <tr style=\"text-align: right;\">\n",
       "      <th></th>\n",
       "      <th>row_id</th>\n",
       "      <th>cfips</th>\n",
       "      <th>first_day_of_month</th>\n",
       "    </tr>\n",
       "  </thead>\n",
       "  <tbody>\n",
       "    <tr>\n",
       "      <th>0</th>\n",
       "      <td>1001_2022-11-01</td>\n",
       "      <td>1001</td>\n",
       "      <td>2022-11-01</td>\n",
       "    </tr>\n",
       "    <tr>\n",
       "      <th>1</th>\n",
       "      <td>1003_2022-11-01</td>\n",
       "      <td>1003</td>\n",
       "      <td>2022-11-01</td>\n",
       "    </tr>\n",
       "    <tr>\n",
       "      <th>2</th>\n",
       "      <td>1005_2022-11-01</td>\n",
       "      <td>1005</td>\n",
       "      <td>2022-11-01</td>\n",
       "    </tr>\n",
       "  </tbody>\n",
       "</table>\n",
       "</div>"
      ],
      "text/plain": [
       "            row_id  cfips first_day_of_month\n",
       "0  1001_2022-11-01   1001         2022-11-01\n",
       "1  1003_2022-11-01   1003         2022-11-01\n",
       "2  1005_2022-11-01   1005         2022-11-01"
      ]
     },
     "execution_count": 5,
     "metadata": {},
     "output_type": "execute_result"
    }
   ],
   "source": [
    "#information on the test dataset\n",
    "df_Test.head(3)"
   ]
  },
  {
   "cell_type": "code",
   "execution_count": 6,
   "id": "f7e49307",
   "metadata": {
    "execution": {
     "iopub.execute_input": "2023-01-24T00:19:10.475626Z",
     "iopub.status.busy": "2023-01-24T00:19:10.475237Z",
     "iopub.status.idle": "2023-01-24T00:19:10.489017Z",
     "shell.execute_reply": "2023-01-24T00:19:10.488020Z"
    },
    "papermill": {
     "duration": 0.023531,
     "end_time": "2023-01-24T00:19:10.491257",
     "exception": false,
     "start_time": "2023-01-24T00:19:10.467726",
     "status": "completed"
    },
    "tags": []
   },
   "outputs": [
    {
     "data": {
      "text/plain": [
       "array(['2022-11-01', '2022-12-01', '2023-01-01', '2023-02-01',\n",
       "       '2023-03-01', '2023-04-01', '2023-05-01', '2023-06-01'],\n",
       "      dtype=object)"
      ]
     },
     "execution_count": 6,
     "metadata": {},
     "output_type": "execute_result"
    }
   ],
   "source": [
    "df_Test.first_day_of_month.unique()"
   ]
  },
  {
   "cell_type": "markdown",
   "id": "3d108546",
   "metadata": {
    "papermill": {
     "duration": 0.008231,
     "end_time": "2023-01-24T00:19:10.506601",
     "exception": false,
     "start_time": "2023-01-24T00:19:10.498370",
     "status": "completed"
    },
    "tags": []
   },
   "source": [
    "Test dataset spans from, November 2022 through June 2023."
   ]
  },
  {
   "cell_type": "code",
   "execution_count": 7,
   "id": "16e49cb5",
   "metadata": {
    "execution": {
     "iopub.execute_input": "2023-01-24T00:19:10.522164Z",
     "iopub.status.busy": "2023-01-24T00:19:10.521610Z",
     "iopub.status.idle": "2023-01-24T00:19:10.535128Z",
     "shell.execute_reply": "2023-01-24T00:19:10.534003Z"
    },
    "papermill": {
     "duration": 0.024032,
     "end_time": "2023-01-24T00:19:10.537315",
     "exception": false,
     "start_time": "2023-01-24T00:19:10.513283",
     "status": "completed"
    },
    "tags": []
   },
   "outputs": [
    {
     "data": {
      "text/html": [
       "<div>\n",
       "<style scoped>\n",
       "    .dataframe tbody tr th:only-of-type {\n",
       "        vertical-align: middle;\n",
       "    }\n",
       "\n",
       "    .dataframe tbody tr th {\n",
       "        vertical-align: top;\n",
       "    }\n",
       "\n",
       "    .dataframe thead th {\n",
       "        text-align: right;\n",
       "    }\n",
       "</style>\n",
       "<table border=\"1\" class=\"dataframe\">\n",
       "  <thead>\n",
       "    <tr style=\"text-align: right;\">\n",
       "      <th></th>\n",
       "      <th>row_id</th>\n",
       "      <th>cfips</th>\n",
       "      <th>county</th>\n",
       "      <th>state</th>\n",
       "      <th>first_day_of_month</th>\n",
       "      <th>microbusiness_density</th>\n",
       "      <th>active</th>\n",
       "    </tr>\n",
       "  </thead>\n",
       "  <tbody>\n",
       "    <tr>\n",
       "      <th>0</th>\n",
       "      <td>1001_2019-08-01</td>\n",
       "      <td>1001</td>\n",
       "      <td>Autauga County</td>\n",
       "      <td>Alabama</td>\n",
       "      <td>2019-08-01</td>\n",
       "      <td>3.007682</td>\n",
       "      <td>1249</td>\n",
       "    </tr>\n",
       "    <tr>\n",
       "      <th>1</th>\n",
       "      <td>1001_2019-09-01</td>\n",
       "      <td>1001</td>\n",
       "      <td>Autauga County</td>\n",
       "      <td>Alabama</td>\n",
       "      <td>2019-09-01</td>\n",
       "      <td>2.884870</td>\n",
       "      <td>1198</td>\n",
       "    </tr>\n",
       "  </tbody>\n",
       "</table>\n",
       "</div>"
      ],
      "text/plain": [
       "            row_id  cfips          county    state first_day_of_month  \\\n",
       "0  1001_2019-08-01   1001  Autauga County  Alabama         2019-08-01   \n",
       "1  1001_2019-09-01   1001  Autauga County  Alabama         2019-09-01   \n",
       "\n",
       "   microbusiness_density  active  \n",
       "0               3.007682    1249  \n",
       "1               2.884870    1198  "
      ]
     },
     "execution_count": 7,
     "metadata": {},
     "output_type": "execute_result"
    }
   ],
   "source": [
    "#information on train datset\n",
    "df_Train.head(2)"
   ]
  },
  {
   "cell_type": "code",
   "execution_count": 8,
   "id": "8d532467",
   "metadata": {
    "execution": {
     "iopub.execute_input": "2023-01-24T00:19:10.553696Z",
     "iopub.status.busy": "2023-01-24T00:19:10.552830Z",
     "iopub.status.idle": "2023-01-24T00:19:10.570512Z",
     "shell.execute_reply": "2023-01-24T00:19:10.569168Z"
    },
    "papermill": {
     "duration": 0.028534,
     "end_time": "2023-01-24T00:19:10.573034",
     "exception": false,
     "start_time": "2023-01-24T00:19:10.544500",
     "status": "completed"
    },
    "tags": []
   },
   "outputs": [
    {
     "data": {
      "text/plain": [
       "array(['2019-08-01', '2019-09-01', '2019-10-01', '2019-11-01',\n",
       "       '2019-12-01', '2020-01-01', '2020-02-01', '2020-03-01',\n",
       "       '2020-04-01', '2020-05-01', '2020-06-01', '2020-07-01',\n",
       "       '2020-08-01', '2020-09-01', '2020-10-01', '2020-11-01',\n",
       "       '2020-12-01', '2021-01-01', '2021-02-01', '2021-03-01',\n",
       "       '2021-04-01', '2021-05-01', '2021-06-01', '2021-07-01',\n",
       "       '2021-08-01', '2021-09-01', '2021-10-01', '2021-11-01',\n",
       "       '2021-12-01', '2022-01-01', '2022-02-01', '2022-03-01',\n",
       "       '2022-04-01', '2022-05-01', '2022-06-01', '2022-07-01',\n",
       "       '2022-08-01', '2022-09-01', '2022-10-01'], dtype=object)"
      ]
     },
     "execution_count": 8,
     "metadata": {},
     "output_type": "execute_result"
    }
   ],
   "source": [
    "df_Train.first_day_of_month.unique()"
   ]
  },
  {
   "cell_type": "markdown",
   "id": "b741b29c",
   "metadata": {
    "execution": {
     "iopub.execute_input": "2023-01-24T00:17:35.478489Z",
     "iopub.status.busy": "2023-01-24T00:17:35.478005Z",
     "iopub.status.idle": "2023-01-24T00:17:35.485782Z",
     "shell.execute_reply": "2023-01-24T00:17:35.484024Z",
     "shell.execute_reply.started": "2023-01-24T00:17:35.478453Z"
    },
    "papermill": {
     "duration": 0.006853,
     "end_time": "2023-01-24T00:19:10.587009",
     "exception": false,
     "start_time": "2023-01-24T00:19:10.580156",
     "status": "completed"
    },
    "tags": []
   },
   "source": [
    "Train dataset spans from August 2019 through October 2022."
   ]
  },
  {
   "cell_type": "code",
   "execution_count": 9,
   "id": "9eba3a81",
   "metadata": {
    "execution": {
     "iopub.execute_input": "2023-01-24T00:19:10.602952Z",
     "iopub.status.busy": "2023-01-24T00:19:10.602560Z",
     "iopub.status.idle": "2023-01-24T00:19:10.619190Z",
     "shell.execute_reply": "2023-01-24T00:19:10.617949Z"
    },
    "papermill": {
     "duration": 0.027318,
     "end_time": "2023-01-24T00:19:10.621418",
     "exception": false,
     "start_time": "2023-01-24T00:19:10.594100",
     "status": "completed"
    },
    "tags": []
   },
   "outputs": [
    {
     "data": {
      "text/plain": [
       "Texas                   9906\n",
       "Georgia                 6201\n",
       "Virginia                5070\n",
       "Kentucky                4680\n",
       "Missouri                4485\n",
       "Kansas                  4095\n",
       "Illinois                3978\n",
       "North Carolina          3900\n",
       "Iowa                    3861\n",
       "Tennessee               3705\n",
       "Nebraska                3588\n",
       "Indiana                 3588\n",
       "Ohio                    3432\n",
       "Minnesota               3393\n",
       "Michigan                3237\n",
       "Mississippi             3198\n",
       "Oklahoma                3003\n",
       "Arkansas                2925\n",
       "Wisconsin               2808\n",
       "Pennsylvania            2613\n",
       "Alabama                 2613\n",
       "Florida                 2613\n",
       "South Dakota            2535\n",
       "Colorado                2496\n",
       "Louisiana               2496\n",
       "New York                2418\n",
       "California              2262\n",
       "Montana                 2184\n",
       "West Virginia           2145\n",
       "North Dakota            2067\n",
       "South Carolina          1794\n",
       "Idaho                   1716\n",
       "Washington              1521\n",
       "Oregon                  1404\n",
       "New Mexico              1287\n",
       "Utah                    1131\n",
       "Alaska                  1053\n",
       "Maryland                 936\n",
       "Wyoming                  897\n",
       "New Jersey               819\n",
       "Nevada                   663\n",
       "Maine                    624\n",
       "Arizona                  585\n",
       "Vermont                  546\n",
       "Massachusetts            546\n",
       "New Hampshire            390\n",
       "Connecticut              312\n",
       "Rhode Island             195\n",
       "Hawaii                   195\n",
       "Delaware                 117\n",
       "District of Columbia      39\n",
       "Name: state, dtype: int64"
      ]
     },
     "execution_count": 9,
     "metadata": {},
     "output_type": "execute_result"
    }
   ],
   "source": [
    "df_Train['state'].value_counts()"
   ]
  },
  {
   "cell_type": "code",
   "execution_count": 10,
   "id": "6b6057d7",
   "metadata": {
    "execution": {
     "iopub.execute_input": "2023-01-24T00:19:10.637455Z",
     "iopub.status.busy": "2023-01-24T00:19:10.637057Z",
     "iopub.status.idle": "2023-01-24T00:19:10.677159Z",
     "shell.execute_reply": "2023-01-24T00:19:10.675520Z"
    },
    "papermill": {
     "duration": 0.05129,
     "end_time": "2023-01-24T00:19:10.679835",
     "exception": false,
     "start_time": "2023-01-24T00:19:10.628545",
     "status": "completed"
    },
    "tags": []
   },
   "outputs": [
    {
     "name": "stdout",
     "output_type": "stream",
     "text": [
      "<class 'pandas.core.frame.DataFrame'>\n",
      "RangeIndex: 122265 entries, 0 to 122264\n",
      "Data columns (total 7 columns):\n",
      " #   Column                 Non-Null Count   Dtype  \n",
      "---  ------                 --------------   -----  \n",
      " 0   row_id                 122265 non-null  object \n",
      " 1   cfips                  122265 non-null  int64  \n",
      " 2   county                 122265 non-null  object \n",
      " 3   state                  122265 non-null  object \n",
      " 4   first_day_of_month     122265 non-null  object \n",
      " 5   microbusiness_density  122265 non-null  float64\n",
      " 6   active                 122265 non-null  int64  \n",
      "dtypes: float64(1), int64(2), object(4)\n",
      "memory usage: 6.5+ MB\n"
     ]
    }
   ],
   "source": [
    "df_Train.info()"
   ]
  },
  {
   "cell_type": "code",
   "execution_count": 11,
   "id": "b44e5873",
   "metadata": {
    "execution": {
     "iopub.execute_input": "2023-01-24T00:19:10.695759Z",
     "iopub.status.busy": "2023-01-24T00:19:10.695285Z",
     "iopub.status.idle": "2023-01-24T00:19:10.702338Z",
     "shell.execute_reply": "2023-01-24T00:19:10.701284Z"
    },
    "papermill": {
     "duration": 0.017391,
     "end_time": "2023-01-24T00:19:10.704493",
     "exception": false,
     "start_time": "2023-01-24T00:19:10.687102",
     "status": "completed"
    },
    "tags": []
   },
   "outputs": [
    {
     "data": {
      "text/plain": [
       "(25080, 122265)"
      ]
     },
     "execution_count": 11,
     "metadata": {},
     "output_type": "execute_result"
    }
   ],
   "source": [
    "#determing the number of rows of train and test dataset\n",
    "len(df_Test), len(df_Train)"
   ]
  },
  {
   "cell_type": "markdown",
   "id": "64b1ddcb",
   "metadata": {
    "papermill": {
     "duration": 0.006766,
     "end_time": "2023-01-24T00:19:10.718383",
     "exception": false,
     "start_time": "2023-01-24T00:19:10.711617",
     "status": "completed"
    },
    "tags": []
   },
   "source": [
    "## Data Cleaning"
   ]
  },
  {
   "cell_type": "code",
   "execution_count": 12,
   "id": "e0ed77e9",
   "metadata": {
    "execution": {
     "iopub.execute_input": "2023-01-24T00:19:10.734130Z",
     "iopub.status.busy": "2023-01-24T00:19:10.733731Z",
     "iopub.status.idle": "2023-01-24T00:19:10.739941Z",
     "shell.execute_reply": "2023-01-24T00:19:10.738624Z"
    },
    "papermill": {
     "duration": 0.01675,
     "end_time": "2023-01-24T00:19:10.742259",
     "exception": false,
     "start_time": "2023-01-24T00:19:10.725509",
     "status": "completed"
    },
    "tags": []
   },
   "outputs": [],
   "source": [
    "#function to seperate the first day of the month from the cfips\n",
    "def get_first_day_of_month(item):\n",
    "    item = item.split('_')[1]\n",
    "    return item\n",
    "\n",
    "def get_cfips(item):\n",
    "    item = item.split('_')[0]\n",
    "    return item"
   ]
  },
  {
   "cell_type": "code",
   "execution_count": 13,
   "id": "c691f5d3",
   "metadata": {
    "execution": {
     "iopub.execute_input": "2023-01-24T00:19:10.758827Z",
     "iopub.status.busy": "2023-01-24T00:19:10.758442Z",
     "iopub.status.idle": "2023-01-24T00:19:10.788426Z",
     "shell.execute_reply": "2023-01-24T00:19:10.787326Z"
    },
    "papermill": {
     "duration": 0.041502,
     "end_time": "2023-01-24T00:19:10.790927",
     "exception": false,
     "start_time": "2023-01-24T00:19:10.749425",
     "status": "completed"
    },
    "tags": []
   },
   "outputs": [],
   "source": [
    "#applying the defined function\n",
    "df_Sub['first_day_of_month'] = df_Sub['row_id'].apply(get_first_day_of_month)\n",
    "df_Sub['cfips'] = df_Sub['row_id'].apply(get_cfips)"
   ]
  },
  {
   "cell_type": "code",
   "execution_count": 14,
   "id": "d5fe2041",
   "metadata": {
    "execution": {
     "iopub.execute_input": "2023-01-24T00:19:10.806653Z",
     "iopub.status.busy": "2023-01-24T00:19:10.806264Z",
     "iopub.status.idle": "2023-01-24T00:19:10.845043Z",
     "shell.execute_reply": "2023-01-24T00:19:10.843865Z"
    },
    "papermill": {
     "duration": 0.049552,
     "end_time": "2023-01-24T00:19:10.847770",
     "exception": false,
     "start_time": "2023-01-24T00:19:10.798218",
     "status": "completed"
    },
    "tags": []
   },
   "outputs": [],
   "source": [
    "#converting the date to datetime\n",
    "df_Test['first_day_of_month'] = pd.to_datetime(df_Test['first_day_of_month'])\n",
    "df_Train['first_day_of_month'] = pd.to_datetime(df_Train['first_day_of_month'])\n",
    "df_Sub['first_day_of_month'] = pd.to_datetime(df_Sub['first_day_of_month'])"
   ]
  },
  {
   "cell_type": "code",
   "execution_count": 15,
   "id": "708d0ad3",
   "metadata": {
    "execution": {
     "iopub.execute_input": "2023-01-24T00:19:10.864194Z",
     "iopub.status.busy": "2023-01-24T00:19:10.863810Z",
     "iopub.status.idle": "2023-01-24T00:19:10.882317Z",
     "shell.execute_reply": "2023-01-24T00:19:10.881471Z"
    },
    "papermill": {
     "duration": 0.029213,
     "end_time": "2023-01-24T00:19:10.884527",
     "exception": false,
     "start_time": "2023-01-24T00:19:10.855314",
     "status": "completed"
    },
    "tags": []
   },
   "outputs": [],
   "source": [
    "#dropping the `row_id` column\n",
    "df_Test.drop(['row_id'],axis = 1, inplace = True)\n",
    "df_Train.drop(['row_id'],axis = 1, inplace = True)\n",
    "df_Sub.drop(['row_id'],axis = 1, inplace = True)"
   ]
  },
  {
   "cell_type": "code",
   "execution_count": 16,
   "id": "6be93ffa",
   "metadata": {
    "execution": {
     "iopub.execute_input": "2023-01-24T00:19:10.900927Z",
     "iopub.status.busy": "2023-01-24T00:19:10.900521Z",
     "iopub.status.idle": "2023-01-24T00:19:11.019231Z",
     "shell.execute_reply": "2023-01-24T00:19:11.018220Z"
    },
    "papermill": {
     "duration": 0.129879,
     "end_time": "2023-01-24T00:19:11.021830",
     "exception": false,
     "start_time": "2023-01-24T00:19:10.891951",
     "status": "completed"
    },
    "tags": []
   },
   "outputs": [
    {
     "data": {
      "text/html": [
       "<div>\n",
       "<style scoped>\n",
       "    .dataframe tbody tr th:only-of-type {\n",
       "        vertical-align: middle;\n",
       "    }\n",
       "\n",
       "    .dataframe tbody tr th {\n",
       "        vertical-align: top;\n",
       "    }\n",
       "\n",
       "    .dataframe thead th {\n",
       "        text-align: right;\n",
       "    }\n",
       "</style>\n",
       "<table border=\"1\" class=\"dataframe\">\n",
       "  <thead>\n",
       "    <tr style=\"text-align: right;\">\n",
       "      <th></th>\n",
       "      <th>cfips</th>\n",
       "      <th>county</th>\n",
       "      <th>state</th>\n",
       "      <th>first_day_of_month</th>\n",
       "      <th>microbusiness_density</th>\n",
       "      <th>active</th>\n",
       "      <th>pct_bb_2017</th>\n",
       "      <th>pct_bb_2018</th>\n",
       "      <th>pct_bb_2019</th>\n",
       "      <th>pct_bb_2020</th>\n",
       "      <th>...</th>\n",
       "      <th>pct_it_workers_2017</th>\n",
       "      <th>pct_it_workers_2018</th>\n",
       "      <th>pct_it_workers_2019</th>\n",
       "      <th>pct_it_workers_2020</th>\n",
       "      <th>pct_it_workers_2021</th>\n",
       "      <th>median_hh_inc_2017</th>\n",
       "      <th>median_hh_inc_2018</th>\n",
       "      <th>median_hh_inc_2019</th>\n",
       "      <th>median_hh_inc_2020</th>\n",
       "      <th>median_hh_inc_2021</th>\n",
       "    </tr>\n",
       "  </thead>\n",
       "  <tbody>\n",
       "    <tr>\n",
       "      <th>0</th>\n",
       "      <td>1001</td>\n",
       "      <td>Autauga County</td>\n",
       "      <td>Alabama</td>\n",
       "      <td>2019-08-01</td>\n",
       "      <td>3.007682</td>\n",
       "      <td>1249</td>\n",
       "      <td>76.6</td>\n",
       "      <td>78.9</td>\n",
       "      <td>80.6</td>\n",
       "      <td>82.7</td>\n",
       "      <td>...</td>\n",
       "      <td>1.3</td>\n",
       "      <td>1.1</td>\n",
       "      <td>0.7</td>\n",
       "      <td>0.6</td>\n",
       "      <td>1.1</td>\n",
       "      <td>55317</td>\n",
       "      <td>58786.0</td>\n",
       "      <td>58731</td>\n",
       "      <td>57982.0</td>\n",
       "      <td>62660.0</td>\n",
       "    </tr>\n",
       "    <tr>\n",
       "      <th>1</th>\n",
       "      <td>1001</td>\n",
       "      <td>Autauga County</td>\n",
       "      <td>Alabama</td>\n",
       "      <td>2019-09-01</td>\n",
       "      <td>2.884870</td>\n",
       "      <td>1198</td>\n",
       "      <td>76.6</td>\n",
       "      <td>78.9</td>\n",
       "      <td>80.6</td>\n",
       "      <td>82.7</td>\n",
       "      <td>...</td>\n",
       "      <td>1.3</td>\n",
       "      <td>1.1</td>\n",
       "      <td>0.7</td>\n",
       "      <td>0.6</td>\n",
       "      <td>1.1</td>\n",
       "      <td>55317</td>\n",
       "      <td>58786.0</td>\n",
       "      <td>58731</td>\n",
       "      <td>57982.0</td>\n",
       "      <td>62660.0</td>\n",
       "    </tr>\n",
       "  </tbody>\n",
       "</table>\n",
       "<p>2 rows × 31 columns</p>\n",
       "</div>"
      ],
      "text/plain": [
       "   cfips          county    state first_day_of_month  microbusiness_density  \\\n",
       "0   1001  Autauga County  Alabama         2019-08-01               3.007682   \n",
       "1   1001  Autauga County  Alabama         2019-09-01               2.884870   \n",
       "\n",
       "   active  pct_bb_2017  pct_bb_2018  pct_bb_2019  pct_bb_2020  ...  \\\n",
       "0    1249         76.6         78.9         80.6         82.7  ...   \n",
       "1    1198         76.6         78.9         80.6         82.7  ...   \n",
       "\n",
       "   pct_it_workers_2017  pct_it_workers_2018  pct_it_workers_2019  \\\n",
       "0                  1.3                  1.1                  0.7   \n",
       "1                  1.3                  1.1                  0.7   \n",
       "\n",
       "   pct_it_workers_2020  pct_it_workers_2021  median_hh_inc_2017  \\\n",
       "0                  0.6                  1.1               55317   \n",
       "1                  0.6                  1.1               55317   \n",
       "\n",
       "   median_hh_inc_2018  median_hh_inc_2019  median_hh_inc_2020  \\\n",
       "0             58786.0               58731             57982.0   \n",
       "1             58786.0               58731             57982.0   \n",
       "\n",
       "   median_hh_inc_2021  \n",
       "0             62660.0  \n",
       "1             62660.0  \n",
       "\n",
       "[2 rows x 31 columns]"
      ]
     },
     "execution_count": 16,
     "metadata": {},
     "output_type": "execute_result"
    }
   ],
   "source": [
    "#merging the dataset \n",
    "df_trainMerged = df_Train.merge(df_Starter, on = 'cfips', how = 'left')\n",
    "df_trainMerged.head(2)"
   ]
  },
  {
   "cell_type": "code",
   "execution_count": 17,
   "id": "3d6057fb",
   "metadata": {
    "execution": {
     "iopub.execute_input": "2023-01-24T00:19:11.038008Z",
     "iopub.status.busy": "2023-01-24T00:19:11.037587Z",
     "iopub.status.idle": "2023-01-24T00:19:11.064957Z",
     "shell.execute_reply": "2023-01-24T00:19:11.063743Z"
    },
    "papermill": {
     "duration": 0.03837,
     "end_time": "2023-01-24T00:19:11.067596",
     "exception": false,
     "start_time": "2023-01-24T00:19:11.029226",
     "status": "completed"
    },
    "tags": []
   },
   "outputs": [
    {
     "data": {
      "text/plain": [
       "cfips                     0\n",
       "county                    0\n",
       "state                     0\n",
       "first_day_of_month        0\n",
       "microbusiness_density     0\n",
       "active                    0\n",
       "pct_bb_2017               0\n",
       "pct_bb_2018               0\n",
       "pct_bb_2019               0\n",
       "pct_bb_2020               0\n",
       "pct_bb_2021               0\n",
       "pct_college_2017          0\n",
       "pct_college_2018          0\n",
       "pct_college_2019          0\n",
       "pct_college_2020          0\n",
       "pct_college_2021          0\n",
       "pct_foreign_born_2017     0\n",
       "pct_foreign_born_2018     0\n",
       "pct_foreign_born_2019     0\n",
       "pct_foreign_born_2020     0\n",
       "pct_foreign_born_2021     0\n",
       "pct_it_workers_2017       0\n",
       "pct_it_workers_2018      39\n",
       "pct_it_workers_2019       0\n",
       "pct_it_workers_2020       0\n",
       "pct_it_workers_2021       0\n",
       "median_hh_inc_2017        0\n",
       "median_hh_inc_2018       39\n",
       "median_hh_inc_2019        0\n",
       "median_hh_inc_2020       39\n",
       "median_hh_inc_2021       39\n",
       "dtype: int64"
      ]
     },
     "execution_count": 17,
     "metadata": {},
     "output_type": "execute_result"
    }
   ],
   "source": [
    "#after merging, we can see that some columns now have null values which needs to be cleaned up\n",
    "df_trainMerged.isna().sum()"
   ]
  },
  {
   "cell_type": "code",
   "execution_count": 18,
   "id": "6851410b",
   "metadata": {
    "execution": {
     "iopub.execute_input": "2023-01-24T00:19:11.084640Z",
     "iopub.status.busy": "2023-01-24T00:19:11.084267Z",
     "iopub.status.idle": "2023-01-24T00:19:11.126371Z",
     "shell.execute_reply": "2023-01-24T00:19:11.125247Z"
    },
    "papermill": {
     "duration": 0.053597,
     "end_time": "2023-01-24T00:19:11.129080",
     "exception": false,
     "start_time": "2023-01-24T00:19:11.075483",
     "status": "completed"
    },
    "tags": []
   },
   "outputs": [
    {
     "data": {
      "text/html": [
       "<div>\n",
       "<style scoped>\n",
       "    .dataframe tbody tr th:only-of-type {\n",
       "        vertical-align: middle;\n",
       "    }\n",
       "\n",
       "    .dataframe tbody tr th {\n",
       "        vertical-align: top;\n",
       "    }\n",
       "\n",
       "    .dataframe thead th {\n",
       "        text-align: right;\n",
       "    }\n",
       "</style>\n",
       "<table border=\"1\" class=\"dataframe\">\n",
       "  <thead>\n",
       "    <tr style=\"text-align: right;\">\n",
       "      <th></th>\n",
       "      <th>cfips</th>\n",
       "      <th>county</th>\n",
       "      <th>state</th>\n",
       "      <th>first_day_of_month</th>\n",
       "      <th>microbusiness_density</th>\n",
       "      <th>active</th>\n",
       "      <th>pct_bb_2017</th>\n",
       "      <th>pct_bb_2018</th>\n",
       "      <th>pct_bb_2019</th>\n",
       "      <th>pct_bb_2020</th>\n",
       "      <th>...</th>\n",
       "      <th>pct_it_workers_2017</th>\n",
       "      <th>pct_it_workers_2018</th>\n",
       "      <th>pct_it_workers_2019</th>\n",
       "      <th>pct_it_workers_2020</th>\n",
       "      <th>pct_it_workers_2021</th>\n",
       "      <th>median_hh_inc_2017</th>\n",
       "      <th>median_hh_inc_2018</th>\n",
       "      <th>median_hh_inc_2019</th>\n",
       "      <th>median_hh_inc_2020</th>\n",
       "      <th>median_hh_inc_2021</th>\n",
       "    </tr>\n",
       "  </thead>\n",
       "  <tbody>\n",
       "  </tbody>\n",
       "</table>\n",
       "<p>0 rows × 31 columns</p>\n",
       "</div>"
      ],
      "text/plain": [
       "Empty DataFrame\n",
       "Columns: [cfips, county, state, first_day_of_month, microbusiness_density, active, pct_bb_2017, pct_bb_2018, pct_bb_2019, pct_bb_2020, pct_bb_2021, pct_college_2017, pct_college_2018, pct_college_2019, pct_college_2020, pct_college_2021, pct_foreign_born_2017, pct_foreign_born_2018, pct_foreign_born_2019, pct_foreign_born_2020, pct_foreign_born_2021, pct_it_workers_2017, pct_it_workers_2018, pct_it_workers_2019, pct_it_workers_2020, pct_it_workers_2021, median_hh_inc_2017, median_hh_inc_2018, median_hh_inc_2019, median_hh_inc_2020, median_hh_inc_2021]\n",
       "Index: []\n",
       "\n",
       "[0 rows x 31 columns]"
      ]
     },
     "execution_count": 18,
     "metadata": {},
     "output_type": "execute_result"
    }
   ],
   "source": [
    "#sample is the df_trainMerged['pct_bb_2018']column which we can also view below\n",
    "df_null = df_trainMerged[df_trainMerged['pct_bb_2018'].isnull()]\n",
    "df_null"
   ]
  },
  {
   "cell_type": "code",
   "execution_count": 19,
   "id": "9d65504b",
   "metadata": {
    "execution": {
     "iopub.execute_input": "2023-01-24T00:19:11.146567Z",
     "iopub.status.busy": "2023-01-24T00:19:11.146158Z",
     "iopub.status.idle": "2023-01-24T00:19:11.155594Z",
     "shell.execute_reply": "2023-01-24T00:19:11.154822Z"
    },
    "papermill": {
     "duration": 0.02116,
     "end_time": "2023-01-24T00:19:11.158126",
     "exception": false,
     "start_time": "2023-01-24T00:19:11.136966",
     "status": "completed"
    },
    "tags": []
   },
   "outputs": [],
   "source": [
    "df_trainMerged['median_hh_inc_2018']= df_trainMerged['median_hh_inc_2018'].fillna(df_trainMerged['median_hh_inc_2018'].median())"
   ]
  },
  {
   "cell_type": "markdown",
   "id": "a3146df7",
   "metadata": {
    "papermill": {
     "duration": 0.007533,
     "end_time": "2023-01-24T00:19:11.174277",
     "exception": false,
     "start_time": "2023-01-24T00:19:11.166744",
     "status": "completed"
    },
    "tags": []
   },
   "source": [
    "## Exploratory Data Analysis"
   ]
  },
  {
   "cell_type": "code",
   "execution_count": 20,
   "id": "d22313ca",
   "metadata": {
    "execution": {
     "iopub.execute_input": "2023-01-24T00:19:11.192222Z",
     "iopub.status.busy": "2023-01-24T00:19:11.191044Z",
     "iopub.status.idle": "2023-01-24T00:19:11.205962Z",
     "shell.execute_reply": "2023-01-24T00:19:11.205008Z"
    },
    "papermill": {
     "duration": 0.026192,
     "end_time": "2023-01-24T00:19:11.208215",
     "exception": false,
     "start_time": "2023-01-24T00:19:11.182023",
     "status": "completed"
    },
    "tags": []
   },
   "outputs": [
    {
     "data": {
      "text/plain": [
       "48667.0    117\n",
       "40978.0    117\n",
       "35509.0    117\n",
       "49891.0    117\n",
       "42604.0    117\n",
       "37188.0    117\n",
       "44313.0    117\n",
       "47500.0    117\n",
       "40000.0    117\n",
       "42689.0    117\n",
       "61145.0     78\n",
       "48563.0     78\n",
       "56507.0     78\n",
       "49233.0     78\n",
       "44350.0     78\n",
       "48853.0     78\n",
       "63902.0     78\n",
       "35931.0     78\n",
       "40837.0     78\n",
       "57899.0     78\n",
       "50905.0     78\n",
       "48125.0     78\n",
       "43355.0     78\n",
       "76912.0     78\n",
       "46182.0     78\n",
       "47518.0     78\n",
       "45426.0     78\n",
       "54184.0     78\n",
       "42500.0     78\n",
       "56071.0     78\n",
       "50511.0     78\n",
       "40810.0     78\n",
       "43893.0     78\n",
       "55832.0     78\n",
       "54249.0     78\n",
       "40769.0     78\n",
       "51250.0     78\n",
       "52794.0     78\n",
       "39002.0     78\n",
       "45000.0     78\n",
       "49146.0     78\n",
       "52620.0     78\n",
       "51920.0     78\n",
       "60466.0     78\n",
       "47497.0     78\n",
       "51056.0     78\n",
       "54197.0     78\n",
       "53021.0     78\n",
       "36875.0     78\n",
       "67591.0     78\n",
       "Name: median_hh_inc_2018, dtype: int64"
      ]
     },
     "execution_count": 20,
     "metadata": {},
     "output_type": "execute_result"
    }
   ],
   "source": [
    "a = df_trainMerged['median_hh_inc_2018'].value_counts()\n",
    "a.head(50)"
   ]
  },
  {
   "cell_type": "code",
   "execution_count": 21,
   "id": "1c526d10",
   "metadata": {
    "execution": {
     "iopub.execute_input": "2023-01-24T00:19:11.226114Z",
     "iopub.status.busy": "2023-01-24T00:19:11.225291Z",
     "iopub.status.idle": "2023-01-24T00:19:11.242512Z",
     "shell.execute_reply": "2023-01-24T00:19:11.241485Z"
    },
    "papermill": {
     "duration": 0.028695,
     "end_time": "2023-01-24T00:19:11.244950",
     "exception": false,
     "start_time": "2023-01-24T00:19:11.216255",
     "status": "completed"
    },
    "tags": []
   },
   "outputs": [
    {
     "data": {
      "text/html": [
       "<div>\n",
       "<style scoped>\n",
       "    .dataframe tbody tr th:only-of-type {\n",
       "        vertical-align: middle;\n",
       "    }\n",
       "\n",
       "    .dataframe tbody tr th {\n",
       "        vertical-align: top;\n",
       "    }\n",
       "\n",
       "    .dataframe thead th {\n",
       "        text-align: right;\n",
       "    }\n",
       "</style>\n",
       "<table border=\"1\" class=\"dataframe\">\n",
       "  <thead>\n",
       "    <tr style=\"text-align: right;\">\n",
       "      <th></th>\n",
       "      <th>cfips</th>\n",
       "      <th>county</th>\n",
       "      <th>state</th>\n",
       "      <th>first_day_of_month</th>\n",
       "      <th>microbusiness_density</th>\n",
       "      <th>active</th>\n",
       "      <th>pct_bb_2017</th>\n",
       "      <th>pct_bb_2018</th>\n",
       "      <th>pct_bb_2019</th>\n",
       "      <th>pct_bb_2020</th>\n",
       "      <th>...</th>\n",
       "      <th>pct_it_workers_2017</th>\n",
       "      <th>pct_it_workers_2018</th>\n",
       "      <th>pct_it_workers_2019</th>\n",
       "      <th>pct_it_workers_2020</th>\n",
       "      <th>pct_it_workers_2021</th>\n",
       "      <th>median_hh_inc_2017</th>\n",
       "      <th>median_hh_inc_2018</th>\n",
       "      <th>median_hh_inc_2019</th>\n",
       "      <th>median_hh_inc_2020</th>\n",
       "      <th>median_hh_inc_2021</th>\n",
       "    </tr>\n",
       "  </thead>\n",
       "  <tbody>\n",
       "  </tbody>\n",
       "</table>\n",
       "<p>0 rows × 31 columns</p>\n",
       "</div>"
      ],
      "text/plain": [
       "Empty DataFrame\n",
       "Columns: [cfips, county, state, first_day_of_month, microbusiness_density, active, pct_bb_2017, pct_bb_2018, pct_bb_2019, pct_bb_2020, pct_bb_2021, pct_college_2017, pct_college_2018, pct_college_2019, pct_college_2020, pct_college_2021, pct_foreign_born_2017, pct_foreign_born_2018, pct_foreign_born_2019, pct_foreign_born_2020, pct_foreign_born_2021, pct_it_workers_2017, pct_it_workers_2018, pct_it_workers_2019, pct_it_workers_2020, pct_it_workers_2021, median_hh_inc_2017, median_hh_inc_2018, median_hh_inc_2019, median_hh_inc_2020, median_hh_inc_2021]\n",
       "Index: []\n",
       "\n",
       "[0 rows x 31 columns]"
      ]
     },
     "execution_count": 21,
     "metadata": {},
     "output_type": "execute_result"
    }
   ],
   "source": [
    "y = df_trainMerged.loc[ df_trainMerged['median_hh_inc_2018'].isnull()]\n",
    "y"
   ]
  },
  {
   "cell_type": "code",
   "execution_count": null,
   "id": "487ebf3d",
   "metadata": {
    "papermill": {
     "duration": 0.008292,
     "end_time": "2023-01-24T00:19:11.261392",
     "exception": false,
     "start_time": "2023-01-24T00:19:11.253100",
     "status": "completed"
    },
    "tags": []
   },
   "outputs": [],
   "source": []
  }
 ],
 "metadata": {
  "kernelspec": {
   "display_name": "Python 3",
   "language": "python",
   "name": "python3"
  },
  "language_info": {
   "codemirror_mode": {
    "name": "ipython",
    "version": 3
   },
   "file_extension": ".py",
   "mimetype": "text/x-python",
   "name": "python",
   "nbconvert_exporter": "python",
   "pygments_lexer": "ipython3",
   "version": "3.7.12"
  },
  "papermill": {
   "default_parameters": {},
   "duration": 10.380627,
   "end_time": "2023-01-24T00:19:11.890450",
   "environment_variables": {},
   "exception": null,
   "input_path": "__notebook__.ipynb",
   "output_path": "__notebook__.ipynb",
   "parameters": {},
   "start_time": "2023-01-24T00:19:01.509823",
   "version": "2.3.4"
  }
 },
 "nbformat": 4,
 "nbformat_minor": 5
}
