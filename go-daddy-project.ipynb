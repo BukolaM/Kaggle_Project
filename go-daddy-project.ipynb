{
 "cells": [
  {
   "cell_type": "code",
   "execution_count": 1,
   "id": "ccfb483c",
   "metadata": {
    "_cell_guid": "b1076dfc-b9ad-4769-8c92-a6c4dae69d19",
    "_uuid": "8f2839f25d086af736a60e9eeb907d3b93b6e0e5",
    "execution": {
     "iopub.execute_input": "2023-01-14T12:09:41.273857Z",
     "iopub.status.busy": "2023-01-14T12:09:41.273261Z",
     "iopub.status.idle": "2023-01-14T12:09:41.285203Z",
     "shell.execute_reply": "2023-01-14T12:09:41.283408Z"
    },
    "papermill": {
     "duration": 0.020592,
     "end_time": "2023-01-14T12:09:41.287843",
     "exception": false,
     "start_time": "2023-01-14T12:09:41.267251",
     "status": "completed"
    },
    "tags": []
   },
   "outputs": [
    {
     "name": "stdout",
     "output_type": "stream",
     "text": [
      "/kaggle/input/godaddy-microbusiness-density-forecasting/sample_submission.csv\n",
      "/kaggle/input/godaddy-microbusiness-density-forecasting/census_starter.csv\n",
      "/kaggle/input/godaddy-microbusiness-density-forecasting/train.csv\n",
      "/kaggle/input/godaddy-microbusiness-density-forecasting/test.csv\n"
     ]
    }
   ],
   "source": [
    "#importing the required libraries\n",
    "import numpy as np \n",
    "import pandas as pd \n",
    "\n",
    "import os\n",
    "for dirname, _, filenames in os.walk('/kaggle/input'):\n",
    "    for filename in filenames:\n",
    "        print(os.path.join(dirname, filename))"
   ]
  },
  {
   "cell_type": "code",
   "execution_count": 2,
   "id": "1d353d79",
   "metadata": {
    "execution": {
     "iopub.execute_input": "2023-01-14T12:09:41.297336Z",
     "iopub.status.busy": "2023-01-14T12:09:41.296946Z",
     "iopub.status.idle": "2023-01-14T12:09:41.640081Z",
     "shell.execute_reply": "2023-01-14T12:09:41.638828Z"
    },
    "papermill": {
     "duration": 0.350318,
     "end_time": "2023-01-14T12:09:41.642368",
     "exception": false,
     "start_time": "2023-01-14T12:09:41.292050",
     "status": "completed"
    },
    "tags": []
   },
   "outputs": [],
   "source": [
    "#reading the dataset\n",
    "dfSub = pd.read_csv('/kaggle/input/godaddy-microbusiness-density-forecasting/sample_submission.csv')\n",
    "dfStarter = pd.read_csv('/kaggle/input/godaddy-microbusiness-density-forecasting/census_starter.csv')\n",
    "dfTrain = pd.read_csv('/kaggle/input/godaddy-microbusiness-density-forecasting/train.csv')\n",
    "dfTest = pd.read_csv('/kaggle/input/godaddy-microbusiness-density-forecasting/test.csv')"
   ]
  },
  {
   "cell_type": "code",
   "execution_count": 3,
   "id": "750fd899",
   "metadata": {
    "execution": {
     "iopub.execute_input": "2023-01-14T12:09:41.651356Z",
     "iopub.status.busy": "2023-01-14T12:09:41.651056Z",
     "iopub.status.idle": "2023-01-14T12:09:41.659292Z",
     "shell.execute_reply": "2023-01-14T12:09:41.658322Z"
    },
    "papermill": {
     "duration": 0.014995,
     "end_time": "2023-01-14T12:09:41.661238",
     "exception": false,
     "start_time": "2023-01-14T12:09:41.646243",
     "status": "completed"
    },
    "tags": []
   },
   "outputs": [],
   "source": [
    "#Making a Copy of The Dataset\n",
    "#I would be working with this copy through out the project while the original dataframe would be for referencing when needed .\n",
    "df_Sub = dfSub.copy()\n",
    "df_Starter = dfStarter.copy()\n",
    "df_Train = dfTrain.copy()\n",
    "df_Test =dfTest.copy()"
   ]
  },
  {
   "cell_type": "code",
   "execution_count": 4,
   "id": "2c2d56a7",
   "metadata": {
    "execution": {
     "iopub.execute_input": "2023-01-14T12:09:41.670628Z",
     "iopub.status.busy": "2023-01-14T12:09:41.670248Z",
     "iopub.status.idle": "2023-01-14T12:09:41.675847Z",
     "shell.execute_reply": "2023-01-14T12:09:41.674939Z"
    },
    "papermill": {
     "duration": 0.012376,
     "end_time": "2023-01-14T12:09:41.677699",
     "exception": false,
     "start_time": "2023-01-14T12:09:41.665323",
     "status": "completed"
    },
    "tags": []
   },
   "outputs": [
    {
     "name": "stdout",
     "output_type": "stream",
     "text": [
      "(122265, 7)\n",
      "(25080, 3)\n",
      "(25080, 2)\n",
      "(3142, 26)\n"
     ]
    }
   ],
   "source": [
    "print(df_Train.shape)\n",
    "print(df_Test.shape)\n",
    "print(df_Sub.shape)\n",
    "print(df_Starter.shape)"
   ]
  },
  {
   "cell_type": "code",
   "execution_count": 5,
   "id": "22647b01",
   "metadata": {
    "execution": {
     "iopub.execute_input": "2023-01-14T12:09:41.687239Z",
     "iopub.status.busy": "2023-01-14T12:09:41.686905Z",
     "iopub.status.idle": "2023-01-14T12:09:41.703142Z",
     "shell.execute_reply": "2023-01-14T12:09:41.702553Z"
    },
    "papermill": {
     "duration": 0.023302,
     "end_time": "2023-01-14T12:09:41.705162",
     "exception": false,
     "start_time": "2023-01-14T12:09:41.681860",
     "status": "completed"
    },
    "tags": []
   },
   "outputs": [
    {
     "data": {
      "text/html": [
       "<div>\n",
       "<style scoped>\n",
       "    .dataframe tbody tr th:only-of-type {\n",
       "        vertical-align: middle;\n",
       "    }\n",
       "\n",
       "    .dataframe tbody tr th {\n",
       "        vertical-align: top;\n",
       "    }\n",
       "\n",
       "    .dataframe thead th {\n",
       "        text-align: right;\n",
       "    }\n",
       "</style>\n",
       "<table border=\"1\" class=\"dataframe\">\n",
       "  <thead>\n",
       "    <tr style=\"text-align: right;\">\n",
       "      <th></th>\n",
       "      <th>row_id</th>\n",
       "      <th>cfips</th>\n",
       "      <th>first_day_of_month</th>\n",
       "    </tr>\n",
       "  </thead>\n",
       "  <tbody>\n",
       "    <tr>\n",
       "      <th>0</th>\n",
       "      <td>1001_2022-11-01</td>\n",
       "      <td>1001</td>\n",
       "      <td>2022-11-01</td>\n",
       "    </tr>\n",
       "    <tr>\n",
       "      <th>1</th>\n",
       "      <td>1003_2022-11-01</td>\n",
       "      <td>1003</td>\n",
       "      <td>2022-11-01</td>\n",
       "    </tr>\n",
       "    <tr>\n",
       "      <th>2</th>\n",
       "      <td>1005_2022-11-01</td>\n",
       "      <td>1005</td>\n",
       "      <td>2022-11-01</td>\n",
       "    </tr>\n",
       "    <tr>\n",
       "      <th>3</th>\n",
       "      <td>1007_2022-11-01</td>\n",
       "      <td>1007</td>\n",
       "      <td>2022-11-01</td>\n",
       "    </tr>\n",
       "    <tr>\n",
       "      <th>4</th>\n",
       "      <td>1009_2022-11-01</td>\n",
       "      <td>1009</td>\n",
       "      <td>2022-11-01</td>\n",
       "    </tr>\n",
       "  </tbody>\n",
       "</table>\n",
       "</div>"
      ],
      "text/plain": [
       "            row_id  cfips first_day_of_month\n",
       "0  1001_2022-11-01   1001         2022-11-01\n",
       "1  1003_2022-11-01   1003         2022-11-01\n",
       "2  1005_2022-11-01   1005         2022-11-01\n",
       "3  1007_2022-11-01   1007         2022-11-01\n",
       "4  1009_2022-11-01   1009         2022-11-01"
      ]
     },
     "execution_count": 5,
     "metadata": {},
     "output_type": "execute_result"
    }
   ],
   "source": [
    "#information on the test dataset\n",
    "df_Test.head()"
   ]
  },
  {
   "cell_type": "code",
   "execution_count": 6,
   "id": "3e7a0ca4",
   "metadata": {
    "execution": {
     "iopub.execute_input": "2023-01-14T12:09:41.715241Z",
     "iopub.status.busy": "2023-01-14T12:09:41.714763Z",
     "iopub.status.idle": "2023-01-14T12:09:41.724090Z",
     "shell.execute_reply": "2023-01-14T12:09:41.723547Z"
    },
    "papermill": {
     "duration": 0.016282,
     "end_time": "2023-01-14T12:09:41.725678",
     "exception": false,
     "start_time": "2023-01-14T12:09:41.709396",
     "status": "completed"
    },
    "tags": []
   },
   "outputs": [
    {
     "data": {
      "text/html": [
       "<div>\n",
       "<style scoped>\n",
       "    .dataframe tbody tr th:only-of-type {\n",
       "        vertical-align: middle;\n",
       "    }\n",
       "\n",
       "    .dataframe tbody tr th {\n",
       "        vertical-align: top;\n",
       "    }\n",
       "\n",
       "    .dataframe thead th {\n",
       "        text-align: right;\n",
       "    }\n",
       "</style>\n",
       "<table border=\"1\" class=\"dataframe\">\n",
       "  <thead>\n",
       "    <tr style=\"text-align: right;\">\n",
       "      <th></th>\n",
       "      <th>row_id</th>\n",
       "      <th>cfips</th>\n",
       "      <th>county</th>\n",
       "      <th>state</th>\n",
       "      <th>first_day_of_month</th>\n",
       "      <th>microbusiness_density</th>\n",
       "      <th>active</th>\n",
       "    </tr>\n",
       "  </thead>\n",
       "  <tbody>\n",
       "    <tr>\n",
       "      <th>0</th>\n",
       "      <td>1001_2019-08-01</td>\n",
       "      <td>1001</td>\n",
       "      <td>Autauga County</td>\n",
       "      <td>Alabama</td>\n",
       "      <td>2019-08-01</td>\n",
       "      <td>3.007682</td>\n",
       "      <td>1249</td>\n",
       "    </tr>\n",
       "    <tr>\n",
       "      <th>1</th>\n",
       "      <td>1001_2019-09-01</td>\n",
       "      <td>1001</td>\n",
       "      <td>Autauga County</td>\n",
       "      <td>Alabama</td>\n",
       "      <td>2019-09-01</td>\n",
       "      <td>2.884870</td>\n",
       "      <td>1198</td>\n",
       "    </tr>\n",
       "    <tr>\n",
       "      <th>2</th>\n",
       "      <td>1001_2019-10-01</td>\n",
       "      <td>1001</td>\n",
       "      <td>Autauga County</td>\n",
       "      <td>Alabama</td>\n",
       "      <td>2019-10-01</td>\n",
       "      <td>3.055843</td>\n",
       "      <td>1269</td>\n",
       "    </tr>\n",
       "    <tr>\n",
       "      <th>3</th>\n",
       "      <td>1001_2019-11-01</td>\n",
       "      <td>1001</td>\n",
       "      <td>Autauga County</td>\n",
       "      <td>Alabama</td>\n",
       "      <td>2019-11-01</td>\n",
       "      <td>2.993233</td>\n",
       "      <td>1243</td>\n",
       "    </tr>\n",
       "    <tr>\n",
       "      <th>4</th>\n",
       "      <td>1001_2019-12-01</td>\n",
       "      <td>1001</td>\n",
       "      <td>Autauga County</td>\n",
       "      <td>Alabama</td>\n",
       "      <td>2019-12-01</td>\n",
       "      <td>2.993233</td>\n",
       "      <td>1243</td>\n",
       "    </tr>\n",
       "  </tbody>\n",
       "</table>\n",
       "</div>"
      ],
      "text/plain": [
       "            row_id  cfips          county    state first_day_of_month  \\\n",
       "0  1001_2019-08-01   1001  Autauga County  Alabama         2019-08-01   \n",
       "1  1001_2019-09-01   1001  Autauga County  Alabama         2019-09-01   \n",
       "2  1001_2019-10-01   1001  Autauga County  Alabama         2019-10-01   \n",
       "3  1001_2019-11-01   1001  Autauga County  Alabama         2019-11-01   \n",
       "4  1001_2019-12-01   1001  Autauga County  Alabama         2019-12-01   \n",
       "\n",
       "   microbusiness_density  active  \n",
       "0               3.007682    1249  \n",
       "1               2.884870    1198  \n",
       "2               3.055843    1269  \n",
       "3               2.993233    1243  \n",
       "4               2.993233    1243  "
      ]
     },
     "execution_count": 6,
     "metadata": {},
     "output_type": "execute_result"
    }
   ],
   "source": [
    "#information on train datset\n",
    "df_Train.head()"
   ]
  },
  {
   "cell_type": "code",
   "execution_count": 7,
   "id": "e63e3291",
   "metadata": {
    "execution": {
     "iopub.execute_input": "2023-01-14T12:09:41.736003Z",
     "iopub.status.busy": "2023-01-14T12:09:41.735568Z",
     "iopub.status.idle": "2023-01-14T12:09:41.775299Z",
     "shell.execute_reply": "2023-01-14T12:09:41.774343Z"
    },
    "papermill": {
     "duration": 0.047719,
     "end_time": "2023-01-14T12:09:41.777807",
     "exception": false,
     "start_time": "2023-01-14T12:09:41.730088",
     "status": "completed"
    },
    "tags": []
   },
   "outputs": [
    {
     "name": "stdout",
     "output_type": "stream",
     "text": [
      "<class 'pandas.core.frame.DataFrame'>\n",
      "RangeIndex: 122265 entries, 0 to 122264\n",
      "Data columns (total 7 columns):\n",
      " #   Column                 Non-Null Count   Dtype  \n",
      "---  ------                 --------------   -----  \n",
      " 0   row_id                 122265 non-null  object \n",
      " 1   cfips                  122265 non-null  int64  \n",
      " 2   county                 122265 non-null  object \n",
      " 3   state                  122265 non-null  object \n",
      " 4   first_day_of_month     122265 non-null  object \n",
      " 5   microbusiness_density  122265 non-null  float64\n",
      " 6   active                 122265 non-null  int64  \n",
      "dtypes: float64(1), int64(2), object(4)\n",
      "memory usage: 6.5+ MB\n"
     ]
    }
   ],
   "source": [
    "df_Train.info()"
   ]
  },
  {
   "cell_type": "code",
   "execution_count": 8,
   "id": "93873ee4",
   "metadata": {
    "execution": {
     "iopub.execute_input": "2023-01-14T12:09:41.788746Z",
     "iopub.status.busy": "2023-01-14T12:09:41.788402Z",
     "iopub.status.idle": "2023-01-14T12:09:41.794066Z",
     "shell.execute_reply": "2023-01-14T12:09:41.793163Z"
    },
    "papermill": {
     "duration": 0.013039,
     "end_time": "2023-01-14T12:09:41.795813",
     "exception": false,
     "start_time": "2023-01-14T12:09:41.782774",
     "status": "completed"
    },
    "tags": []
   },
   "outputs": [
    {
     "data": {
      "text/plain": [
       "(25080, 122265)"
      ]
     },
     "execution_count": 8,
     "metadata": {},
     "output_type": "execute_result"
    }
   ],
   "source": [
    "len(df_Test), len(df_Train)"
   ]
  },
  {
   "cell_type": "markdown",
   "id": "c1b56806",
   "metadata": {
    "papermill": {
     "duration": 0.004047,
     "end_time": "2023-01-14T12:09:41.804321",
     "exception": false,
     "start_time": "2023-01-14T12:09:41.800274",
     "status": "completed"
    },
    "tags": []
   },
   "source": [
    "## Data Cleaning"
   ]
  },
  {
   "cell_type": "code",
   "execution_count": 9,
   "id": "ba64d096",
   "metadata": {
    "execution": {
     "iopub.execute_input": "2023-01-14T12:09:41.814399Z",
     "iopub.status.busy": "2023-01-14T12:09:41.814104Z",
     "iopub.status.idle": "2023-01-14T12:09:41.820126Z",
     "shell.execute_reply": "2023-01-14T12:09:41.818387Z"
    },
    "papermill": {
     "duration": 0.013976,
     "end_time": "2023-01-14T12:09:41.822608",
     "exception": false,
     "start_time": "2023-01-14T12:09:41.808632",
     "status": "completed"
    },
    "tags": []
   },
   "outputs": [],
   "source": [
    "def get_first_day_of_month(item):\n",
    "    item = item.split('_')[1]\n",
    "    return item\n",
    "\n",
    "def get_cfips(item):\n",
    "    item = item.split('_')[0]\n",
    "    return item"
   ]
  },
  {
   "cell_type": "code",
   "execution_count": 10,
   "id": "ef26eabd",
   "metadata": {
    "execution": {
     "iopub.execute_input": "2023-01-14T12:09:41.833195Z",
     "iopub.status.busy": "2023-01-14T12:09:41.832871Z",
     "iopub.status.idle": "2023-01-14T12:09:41.859642Z",
     "shell.execute_reply": "2023-01-14T12:09:41.858274Z"
    },
    "papermill": {
     "duration": 0.034754,
     "end_time": "2023-01-14T12:09:41.862041",
     "exception": false,
     "start_time": "2023-01-14T12:09:41.827287",
     "status": "completed"
    },
    "tags": []
   },
   "outputs": [],
   "source": [
    "df_Sub['first_day_of_month'] = df_Sub['row_id'].apply(get_first_day_of_month)\n",
    "df_Sub['cfips'] = df_Sub['row_id'].apply(get_cfips)"
   ]
  },
  {
   "cell_type": "code",
   "execution_count": 11,
   "id": "9250427e",
   "metadata": {
    "execution": {
     "iopub.execute_input": "2023-01-14T12:09:41.872795Z",
     "iopub.status.busy": "2023-01-14T12:09:41.872449Z",
     "iopub.status.idle": "2023-01-14T12:09:41.906327Z",
     "shell.execute_reply": "2023-01-14T12:09:41.904854Z"
    },
    "papermill": {
     "duration": 0.041829,
     "end_time": "2023-01-14T12:09:41.908523",
     "exception": false,
     "start_time": "2023-01-14T12:09:41.866694",
     "status": "completed"
    },
    "tags": []
   },
   "outputs": [],
   "source": [
    "#converting the date to datetime\n",
    "df_Test['first_day_of_month'] = pd.to_datetime(df_Test['first_day_of_month'])\n",
    "df_Train['first_day_of_month'] = pd.to_datetime(df_Train['first_day_of_month'])\n",
    "df_Sub['first_day_of_month'] = pd.to_datetime(df_Sub['first_day_of_month'])"
   ]
  },
  {
   "cell_type": "code",
   "execution_count": 12,
   "id": "0008789d",
   "metadata": {
    "execution": {
     "iopub.execute_input": "2023-01-14T12:09:41.918595Z",
     "iopub.status.busy": "2023-01-14T12:09:41.918263Z",
     "iopub.status.idle": "2023-01-14T12:09:41.934558Z",
     "shell.execute_reply": "2023-01-14T12:09:41.933361Z"
    },
    "papermill": {
     "duration": 0.023769,
     "end_time": "2023-01-14T12:09:41.936743",
     "exception": false,
     "start_time": "2023-01-14T12:09:41.912974",
     "status": "completed"
    },
    "tags": []
   },
   "outputs": [],
   "source": [
    "#dropping the `row_id` column\n",
    "df_Test.drop(['row_id'],axis = 1, inplace = True)\n",
    "df_Train.drop(['row_id'],axis = 1, inplace = True)\n",
    "df_Sub.drop(['row_id'],axis = 1, inplace = True)"
   ]
  },
  {
   "cell_type": "code",
   "execution_count": 13,
   "id": "01bd0e95",
   "metadata": {
    "execution": {
     "iopub.execute_input": "2023-01-14T12:09:41.946806Z",
     "iopub.status.busy": "2023-01-14T12:09:41.946466Z",
     "iopub.status.idle": "2023-01-14T12:09:41.958957Z",
     "shell.execute_reply": "2023-01-14T12:09:41.957979Z"
    },
    "papermill": {
     "duration": 0.019818,
     "end_time": "2023-01-14T12:09:41.960867",
     "exception": false,
     "start_time": "2023-01-14T12:09:41.941049",
     "status": "completed"
    },
    "tags": []
   },
   "outputs": [
    {
     "data": {
      "text/html": [
       "<div>\n",
       "<style scoped>\n",
       "    .dataframe tbody tr th:only-of-type {\n",
       "        vertical-align: middle;\n",
       "    }\n",
       "\n",
       "    .dataframe tbody tr th {\n",
       "        vertical-align: top;\n",
       "    }\n",
       "\n",
       "    .dataframe thead th {\n",
       "        text-align: right;\n",
       "    }\n",
       "</style>\n",
       "<table border=\"1\" class=\"dataframe\">\n",
       "  <thead>\n",
       "    <tr style=\"text-align: right;\">\n",
       "      <th></th>\n",
       "      <th>microbusiness_density</th>\n",
       "      <th>first_day_of_month</th>\n",
       "      <th>cfips</th>\n",
       "    </tr>\n",
       "  </thead>\n",
       "  <tbody>\n",
       "    <tr>\n",
       "      <th>0</th>\n",
       "      <td>3.817671</td>\n",
       "      <td>2022-11-01</td>\n",
       "      <td>1001</td>\n",
       "    </tr>\n",
       "    <tr>\n",
       "      <th>1</th>\n",
       "      <td>3.817671</td>\n",
       "      <td>2022-11-01</td>\n",
       "      <td>1003</td>\n",
       "    </tr>\n",
       "    <tr>\n",
       "      <th>2</th>\n",
       "      <td>3.817671</td>\n",
       "      <td>2022-11-01</td>\n",
       "      <td>1005</td>\n",
       "    </tr>\n",
       "    <tr>\n",
       "      <th>3</th>\n",
       "      <td>3.817671</td>\n",
       "      <td>2022-11-01</td>\n",
       "      <td>1007</td>\n",
       "    </tr>\n",
       "    <tr>\n",
       "      <th>4</th>\n",
       "      <td>3.817671</td>\n",
       "      <td>2022-11-01</td>\n",
       "      <td>1009</td>\n",
       "    </tr>\n",
       "    <tr>\n",
       "      <th>...</th>\n",
       "      <td>...</td>\n",
       "      <td>...</td>\n",
       "      <td>...</td>\n",
       "    </tr>\n",
       "    <tr>\n",
       "      <th>25075</th>\n",
       "      <td>3.817671</td>\n",
       "      <td>2023-06-01</td>\n",
       "      <td>56037</td>\n",
       "    </tr>\n",
       "    <tr>\n",
       "      <th>25076</th>\n",
       "      <td>3.817671</td>\n",
       "      <td>2023-06-01</td>\n",
       "      <td>56039</td>\n",
       "    </tr>\n",
       "    <tr>\n",
       "      <th>25077</th>\n",
       "      <td>3.817671</td>\n",
       "      <td>2023-06-01</td>\n",
       "      <td>56041</td>\n",
       "    </tr>\n",
       "    <tr>\n",
       "      <th>25078</th>\n",
       "      <td>3.817671</td>\n",
       "      <td>2023-06-01</td>\n",
       "      <td>56043</td>\n",
       "    </tr>\n",
       "    <tr>\n",
       "      <th>25079</th>\n",
       "      <td>3.817671</td>\n",
       "      <td>2023-06-01</td>\n",
       "      <td>56045</td>\n",
       "    </tr>\n",
       "  </tbody>\n",
       "</table>\n",
       "<p>25080 rows × 3 columns</p>\n",
       "</div>"
      ],
      "text/plain": [
       "       microbusiness_density first_day_of_month  cfips\n",
       "0                   3.817671         2022-11-01   1001\n",
       "1                   3.817671         2022-11-01   1003\n",
       "2                   3.817671         2022-11-01   1005\n",
       "3                   3.817671         2022-11-01   1007\n",
       "4                   3.817671         2022-11-01   1009\n",
       "...                      ...                ...    ...\n",
       "25075               3.817671         2023-06-01  56037\n",
       "25076               3.817671         2023-06-01  56039\n",
       "25077               3.817671         2023-06-01  56041\n",
       "25078               3.817671         2023-06-01  56043\n",
       "25079               3.817671         2023-06-01  56045\n",
       "\n",
       "[25080 rows x 3 columns]"
      ]
     },
     "execution_count": 13,
     "metadata": {},
     "output_type": "execute_result"
    }
   ],
   "source": [
    "df_Sub"
   ]
  },
  {
   "cell_type": "code",
   "execution_count": 14,
   "id": "45285a26",
   "metadata": {
    "execution": {
     "iopub.execute_input": "2023-01-14T12:09:41.971645Z",
     "iopub.status.busy": "2023-01-14T12:09:41.971313Z",
     "iopub.status.idle": "2023-01-14T12:09:41.984864Z",
     "shell.execute_reply": "2023-01-14T12:09:41.983451Z"
    },
    "papermill": {
     "duration": 0.021413,
     "end_time": "2023-01-14T12:09:41.987040",
     "exception": false,
     "start_time": "2023-01-14T12:09:41.965627",
     "status": "completed"
    },
    "tags": []
   },
   "outputs": [
    {
     "name": "stdout",
     "output_type": "stream",
     "text": [
      "<class 'pandas.core.frame.DataFrame'>\n",
      "RangeIndex: 3142 entries, 0 to 3141\n",
      "Data columns (total 26 columns):\n",
      " #   Column                 Non-Null Count  Dtype  \n",
      "---  ------                 --------------  -----  \n",
      " 0   pct_bb_2017            3142 non-null   float64\n",
      " 1   pct_bb_2018            3142 non-null   float64\n",
      " 2   pct_bb_2019            3142 non-null   float64\n",
      " 3   pct_bb_2020            3141 non-null   float64\n",
      " 4   pct_bb_2021            3141 non-null   float64\n",
      " 5   cfips                  3142 non-null   int64  \n",
      " 6   pct_college_2017       3142 non-null   float64\n",
      " 7   pct_college_2018       3142 non-null   float64\n",
      " 8   pct_college_2019       3142 non-null   float64\n",
      " 9   pct_college_2020       3141 non-null   float64\n",
      " 10  pct_college_2021       3141 non-null   float64\n",
      " 11  pct_foreign_born_2017  3142 non-null   float64\n",
      " 12  pct_foreign_born_2018  3142 non-null   float64\n",
      " 13  pct_foreign_born_2019  3142 non-null   float64\n",
      " 14  pct_foreign_born_2020  3141 non-null   float64\n",
      " 15  pct_foreign_born_2021  3141 non-null   float64\n",
      " 16  pct_it_workers_2017    3142 non-null   float64\n",
      " 17  pct_it_workers_2018    3141 non-null   float64\n",
      " 18  pct_it_workers_2019    3142 non-null   float64\n",
      " 19  pct_it_workers_2020    3141 non-null   float64\n",
      " 20  pct_it_workers_2021    3141 non-null   float64\n",
      " 21  median_hh_inc_2017     3142 non-null   int64  \n",
      " 22  median_hh_inc_2018     3141 non-null   float64\n",
      " 23  median_hh_inc_2019     3142 non-null   int64  \n",
      " 24  median_hh_inc_2020     3140 non-null   float64\n",
      " 25  median_hh_inc_2021     3140 non-null   float64\n",
      "dtypes: float64(23), int64(3)\n",
      "memory usage: 638.3 KB\n"
     ]
    }
   ],
   "source": [
    "df_Starter.info()"
   ]
  },
  {
   "cell_type": "code",
   "execution_count": null,
   "id": "6a6d41c0",
   "metadata": {
    "papermill": {
     "duration": 0.004261,
     "end_time": "2023-01-14T12:09:41.997263",
     "exception": false,
     "start_time": "2023-01-14T12:09:41.993002",
     "status": "completed"
    },
    "tags": []
   },
   "outputs": [],
   "source": []
  },
  {
   "cell_type": "code",
   "execution_count": null,
   "id": "f55f0a4a",
   "metadata": {
    "papermill": {
     "duration": 0.004411,
     "end_time": "2023-01-14T12:09:42.006463",
     "exception": false,
     "start_time": "2023-01-14T12:09:42.002052",
     "status": "completed"
    },
    "tags": []
   },
   "outputs": [],
   "source": []
  }
 ],
 "metadata": {
  "kernelspec": {
   "display_name": "Python 3",
   "language": "python",
   "name": "python3"
  },
  "language_info": {
   "codemirror_mode": {
    "name": "ipython",
    "version": 3
   },
   "file_extension": ".py",
   "mimetype": "text/x-python",
   "name": "python",
   "nbconvert_exporter": "python",
   "pygments_lexer": "ipython3",
   "version": "3.7.12"
  },
  "papermill": {
   "default_parameters": {},
   "duration": 8.272245,
   "end_time": "2023-01-14T12:09:42.631457",
   "environment_variables": {},
   "exception": null,
   "input_path": "__notebook__.ipynb",
   "output_path": "__notebook__.ipynb",
   "parameters": {},
   "start_time": "2023-01-14T12:09:34.359212",
   "version": "2.3.4"
  }
 },
 "nbformat": 4,
 "nbformat_minor": 5
}
