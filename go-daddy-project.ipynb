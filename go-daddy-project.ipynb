{
 "cells": [
  {
   "cell_type": "code",
   "execution_count": 1,
   "id": "d3ae4f7c",
   "metadata": {
    "_cell_guid": "b1076dfc-b9ad-4769-8c92-a6c4dae69d19",
    "_uuid": "8f2839f25d086af736a60e9eeb907d3b93b6e0e5",
    "execution": {
     "iopub.execute_input": "2023-01-31T01:24:52.246675Z",
     "iopub.status.busy": "2023-01-31T01:24:52.246089Z",
     "iopub.status.idle": "2023-01-31T01:24:53.629253Z",
     "shell.execute_reply": "2023-01-31T01:24:53.627533Z"
    },
    "papermill": {
     "duration": 1.400299,
     "end_time": "2023-01-31T01:24:53.632996",
     "exception": false,
     "start_time": "2023-01-31T01:24:52.232697",
     "status": "completed"
    },
    "tags": []
   },
   "outputs": [
    {
     "name": "stdout",
     "output_type": "stream",
     "text": [
      "/kaggle/input/godaddy-microbusiness-density-forecasting/sample_submission.csv\n",
      "/kaggle/input/godaddy-microbusiness-density-forecasting/census_starter.csv\n",
      "/kaggle/input/godaddy-microbusiness-density-forecasting/train.csv\n",
      "/kaggle/input/godaddy-microbusiness-density-forecasting/test.csv\n"
     ]
    }
   ],
   "source": [
    "#importing the required libraries\n",
    "import numpy as np \n",
    "import pandas as pd \n",
    "import seaborn as sns\n",
    "import matplotlib.pyplot as plt\n",
    "\n",
    "import os\n",
    "for dirname, _, filenames in os.walk('/kaggle/input'):\n",
    "    for filename in filenames:\n",
    "        print(os.path.join(dirname, filename))"
   ]
  },
  {
   "cell_type": "code",
   "execution_count": 2,
   "id": "3a900db4",
   "metadata": {
    "execution": {
     "iopub.execute_input": "2023-01-31T01:24:53.656334Z",
     "iopub.status.busy": "2023-01-31T01:24:53.655795Z",
     "iopub.status.idle": "2023-01-31T01:24:54.159131Z",
     "shell.execute_reply": "2023-01-31T01:24:54.157387Z"
    },
    "papermill": {
     "duration": 0.518638,
     "end_time": "2023-01-31T01:24:54.162635",
     "exception": false,
     "start_time": "2023-01-31T01:24:53.643997",
     "status": "completed"
    },
    "tags": []
   },
   "outputs": [],
   "source": [
    "#reading the dataset\n",
    "dfSub = pd.read_csv('/kaggle/input/godaddy-microbusiness-density-forecasting/sample_submission.csv')\n",
    "dfStarter = pd.read_csv('/kaggle/input/godaddy-microbusiness-density-forecasting/census_starter.csv')\n",
    "dfTrain = pd.read_csv('/kaggle/input/godaddy-microbusiness-density-forecasting/train.csv')\n",
    "dfTest = pd.read_csv('/kaggle/input/godaddy-microbusiness-density-forecasting/test.csv')"
   ]
  },
  {
   "cell_type": "code",
   "execution_count": 3,
   "id": "af889a6f",
   "metadata": {
    "execution": {
     "iopub.execute_input": "2023-01-31T01:24:54.190431Z",
     "iopub.status.busy": "2023-01-31T01:24:54.189933Z",
     "iopub.status.idle": "2023-01-31T01:24:54.203870Z",
     "shell.execute_reply": "2023-01-31T01:24:54.202556Z"
    },
    "papermill": {
     "duration": 0.030935,
     "end_time": "2023-01-31T01:24:54.206932",
     "exception": false,
     "start_time": "2023-01-31T01:24:54.175997",
     "status": "completed"
    },
    "tags": []
   },
   "outputs": [],
   "source": [
    "#Making a Copy of The Dataset\n",
    "#I would be working with this copy through out the project while the original dataframe would be for referencing when needed .\n",
    "df_Sub = dfSub.copy()\n",
    "df_Starter = dfStarter.copy()\n",
    "df_Train = dfTrain.copy()\n",
    "df_Test =dfTest.copy()"
   ]
  },
  {
   "cell_type": "code",
   "execution_count": 4,
   "id": "1f5dcfcb",
   "metadata": {
    "execution": {
     "iopub.execute_input": "2023-01-31T01:24:54.230330Z",
     "iopub.status.busy": "2023-01-31T01:24:54.229391Z",
     "iopub.status.idle": "2023-01-31T01:24:54.236294Z",
     "shell.execute_reply": "2023-01-31T01:24:54.234876Z"
    },
    "papermill": {
     "duration": 0.021929,
     "end_time": "2023-01-31T01:24:54.239743",
     "exception": false,
     "start_time": "2023-01-31T01:24:54.217814",
     "status": "completed"
    },
    "tags": []
   },
   "outputs": [
    {
     "name": "stdout",
     "output_type": "stream",
     "text": [
      "(122265, 7)\n",
      "(25080, 3)\n",
      "(25080, 2)\n",
      "(3142, 26)\n"
     ]
    }
   ],
   "source": [
    "#checking out number of rows and columns of each dataset\n",
    "print(df_Train.shape)\n",
    "print(df_Test.shape)\n",
    "print(df_Sub.shape)\n",
    "print(df_Starter.shape)"
   ]
  },
  {
   "cell_type": "markdown",
   "id": "2248c27d",
   "metadata": {
    "papermill": {
     "duration": 0.009107,
     "end_time": "2023-01-31T01:24:54.261476",
     "exception": false,
     "start_time": "2023-01-31T01:24:54.252369",
     "status": "completed"
    },
    "tags": []
   },
   "source": [
    "Along with the row id, cfips, county, and state, first day of month, microbusiness density, and active fields are included in `train data`. \n",
    "\n",
    "Only row id, cfips, and first day of month are present in the `test data`. \n",
    "\n",
    "Microbusiness density for a specific cfips and at a specific first day of month is the value to be predicted."
   ]
  },
  {
   "cell_type": "code",
   "execution_count": 5,
   "id": "ee58d91d",
   "metadata": {
    "execution": {
     "iopub.execute_input": "2023-01-31T01:24:54.283606Z",
     "iopub.status.busy": "2023-01-31T01:24:54.283072Z",
     "iopub.status.idle": "2023-01-31T01:24:54.307720Z",
     "shell.execute_reply": "2023-01-31T01:24:54.306422Z"
    },
    "papermill": {
     "duration": 0.038795,
     "end_time": "2023-01-31T01:24:54.310333",
     "exception": false,
     "start_time": "2023-01-31T01:24:54.271538",
     "status": "completed"
    },
    "tags": []
   },
   "outputs": [
    {
     "data": {
      "text/html": [
       "<div>\n",
       "<style scoped>\n",
       "    .dataframe tbody tr th:only-of-type {\n",
       "        vertical-align: middle;\n",
       "    }\n",
       "\n",
       "    .dataframe tbody tr th {\n",
       "        vertical-align: top;\n",
       "    }\n",
       "\n",
       "    .dataframe thead th {\n",
       "        text-align: right;\n",
       "    }\n",
       "</style>\n",
       "<table border=\"1\" class=\"dataframe\">\n",
       "  <thead>\n",
       "    <tr style=\"text-align: right;\">\n",
       "      <th></th>\n",
       "      <th>row_id</th>\n",
       "      <th>cfips</th>\n",
       "      <th>first_day_of_month</th>\n",
       "    </tr>\n",
       "  </thead>\n",
       "  <tbody>\n",
       "    <tr>\n",
       "      <th>0</th>\n",
       "      <td>1001_2022-11-01</td>\n",
       "      <td>1001</td>\n",
       "      <td>2022-11-01</td>\n",
       "    </tr>\n",
       "    <tr>\n",
       "      <th>1</th>\n",
       "      <td>1003_2022-11-01</td>\n",
       "      <td>1003</td>\n",
       "      <td>2022-11-01</td>\n",
       "    </tr>\n",
       "    <tr>\n",
       "      <th>2</th>\n",
       "      <td>1005_2022-11-01</td>\n",
       "      <td>1005</td>\n",
       "      <td>2022-11-01</td>\n",
       "    </tr>\n",
       "  </tbody>\n",
       "</table>\n",
       "</div>"
      ],
      "text/plain": [
       "            row_id  cfips first_day_of_month\n",
       "0  1001_2022-11-01   1001         2022-11-01\n",
       "1  1003_2022-11-01   1003         2022-11-01\n",
       "2  1005_2022-11-01   1005         2022-11-01"
      ]
     },
     "execution_count": 5,
     "metadata": {},
     "output_type": "execute_result"
    }
   ],
   "source": [
    "#information on the test dataset\n",
    "df_Test.head(3)"
   ]
  },
  {
   "cell_type": "code",
   "execution_count": 6,
   "id": "264116bf",
   "metadata": {
    "execution": {
     "iopub.execute_input": "2023-01-31T01:24:54.334721Z",
     "iopub.status.busy": "2023-01-31T01:24:54.333396Z",
     "iopub.status.idle": "2023-01-31T01:24:54.352122Z",
     "shell.execute_reply": "2023-01-31T01:24:54.350317Z"
    },
    "papermill": {
     "duration": 0.035259,
     "end_time": "2023-01-31T01:24:54.355995",
     "exception": false,
     "start_time": "2023-01-31T01:24:54.320736",
     "status": "completed"
    },
    "tags": []
   },
   "outputs": [
    {
     "data": {
      "text/plain": [
       "array(['2022-11-01', '2022-12-01', '2023-01-01', '2023-02-01',\n",
       "       '2023-03-01', '2023-04-01', '2023-05-01', '2023-06-01'],\n",
       "      dtype=object)"
      ]
     },
     "execution_count": 6,
     "metadata": {},
     "output_type": "execute_result"
    }
   ],
   "source": [
    "#unique dates in test dataset\n",
    "df_Test.first_day_of_month.unique()"
   ]
  },
  {
   "cell_type": "markdown",
   "id": "bd991145",
   "metadata": {
    "papermill": {
     "duration": 0.009659,
     "end_time": "2023-01-31T01:24:54.376642",
     "exception": false,
     "start_time": "2023-01-31T01:24:54.366983",
     "status": "completed"
    },
    "tags": []
   },
   "source": [
    "Test dataset spans from, November 2022 through June 2023."
   ]
  },
  {
   "cell_type": "code",
   "execution_count": 7,
   "id": "7d6dabbf",
   "metadata": {
    "execution": {
     "iopub.execute_input": "2023-01-31T01:24:54.398602Z",
     "iopub.status.busy": "2023-01-31T01:24:54.398045Z",
     "iopub.status.idle": "2023-01-31T01:24:54.411980Z",
     "shell.execute_reply": "2023-01-31T01:24:54.410104Z"
    },
    "papermill": {
     "duration": 0.029587,
     "end_time": "2023-01-31T01:24:54.415979",
     "exception": false,
     "start_time": "2023-01-31T01:24:54.386392",
     "status": "completed"
    },
    "tags": []
   },
   "outputs": [
    {
     "name": "stdout",
     "output_type": "stream",
     "text": [
      "The minimum date given for the train dataset: 2022-11-01\n",
      "The maximum date given for the train dataset: 2023-06-01\n"
     ]
    }
   ],
   "source": [
    "print('The minimum date given for the train dataset:', df_Test['first_day_of_month'].min())\n",
    "print('The maximum date given for the train dataset:', df_Test['first_day_of_month'].max())"
   ]
  },
  {
   "cell_type": "code",
   "execution_count": 8,
   "id": "78fa23e8",
   "metadata": {
    "execution": {
     "iopub.execute_input": "2023-01-31T01:24:54.440545Z",
     "iopub.status.busy": "2023-01-31T01:24:54.440006Z",
     "iopub.status.idle": "2023-01-31T01:24:54.489084Z",
     "shell.execute_reply": "2023-01-31T01:24:54.487649Z"
    },
    "papermill": {
     "duration": 0.065615,
     "end_time": "2023-01-31T01:24:54.492197",
     "exception": false,
     "start_time": "2023-01-31T01:24:54.426582",
     "status": "completed"
    },
    "tags": []
   },
   "outputs": [
    {
     "name": "stdout",
     "output_type": "stream",
     "text": [
      "<class 'pandas.core.frame.DataFrame'>\n",
      "RangeIndex: 122265 entries, 0 to 122264\n",
      "Data columns (total 7 columns):\n",
      " #   Column                 Non-Null Count   Dtype  \n",
      "---  ------                 --------------   -----  \n",
      " 0   row_id                 122265 non-null  object \n",
      " 1   cfips                  122265 non-null  int64  \n",
      " 2   county                 122265 non-null  object \n",
      " 3   state                  122265 non-null  object \n",
      " 4   first_day_of_month     122265 non-null  object \n",
      " 5   microbusiness_density  122265 non-null  float64\n",
      " 6   active                 122265 non-null  int64  \n",
      "dtypes: float64(1), int64(2), object(4)\n",
      "memory usage: 6.5+ MB\n"
     ]
    }
   ],
   "source": [
    "df_Train.info()"
   ]
  },
  {
   "cell_type": "code",
   "execution_count": 9,
   "id": "b53c41ca",
   "metadata": {
    "execution": {
     "iopub.execute_input": "2023-01-31T01:24:54.514282Z",
     "iopub.status.busy": "2023-01-31T01:24:54.513739Z",
     "iopub.status.idle": "2023-01-31T01:24:54.531838Z",
     "shell.execute_reply": "2023-01-31T01:24:54.529896Z"
    },
    "papermill": {
     "duration": 0.033208,
     "end_time": "2023-01-31T01:24:54.535390",
     "exception": false,
     "start_time": "2023-01-31T01:24:54.502182",
     "status": "completed"
    },
    "tags": []
   },
   "outputs": [
    {
     "data": {
      "text/html": [
       "<div>\n",
       "<style scoped>\n",
       "    .dataframe tbody tr th:only-of-type {\n",
       "        vertical-align: middle;\n",
       "    }\n",
       "\n",
       "    .dataframe tbody tr th {\n",
       "        vertical-align: top;\n",
       "    }\n",
       "\n",
       "    .dataframe thead th {\n",
       "        text-align: right;\n",
       "    }\n",
       "</style>\n",
       "<table border=\"1\" class=\"dataframe\">\n",
       "  <thead>\n",
       "    <tr style=\"text-align: right;\">\n",
       "      <th></th>\n",
       "      <th>row_id</th>\n",
       "      <th>cfips</th>\n",
       "      <th>county</th>\n",
       "      <th>state</th>\n",
       "      <th>first_day_of_month</th>\n",
       "      <th>microbusiness_density</th>\n",
       "      <th>active</th>\n",
       "    </tr>\n",
       "  </thead>\n",
       "  <tbody>\n",
       "    <tr>\n",
       "      <th>0</th>\n",
       "      <td>1001_2019-08-01</td>\n",
       "      <td>1001</td>\n",
       "      <td>Autauga County</td>\n",
       "      <td>Alabama</td>\n",
       "      <td>2019-08-01</td>\n",
       "      <td>3.007682</td>\n",
       "      <td>1249</td>\n",
       "    </tr>\n",
       "    <tr>\n",
       "      <th>1</th>\n",
       "      <td>1001_2019-09-01</td>\n",
       "      <td>1001</td>\n",
       "      <td>Autauga County</td>\n",
       "      <td>Alabama</td>\n",
       "      <td>2019-09-01</td>\n",
       "      <td>2.884870</td>\n",
       "      <td>1198</td>\n",
       "    </tr>\n",
       "  </tbody>\n",
       "</table>\n",
       "</div>"
      ],
      "text/plain": [
       "            row_id  cfips          county    state first_day_of_month  \\\n",
       "0  1001_2019-08-01   1001  Autauga County  Alabama         2019-08-01   \n",
       "1  1001_2019-09-01   1001  Autauga County  Alabama         2019-09-01   \n",
       "\n",
       "   microbusiness_density  active  \n",
       "0               3.007682    1249  \n",
       "1               2.884870    1198  "
      ]
     },
     "execution_count": 9,
     "metadata": {},
     "output_type": "execute_result"
    }
   ],
   "source": [
    "#information on train datset\n",
    "df_Train.head(2)"
   ]
  },
  {
   "cell_type": "code",
   "execution_count": 10,
   "id": "843651ce",
   "metadata": {
    "execution": {
     "iopub.execute_input": "2023-01-31T01:24:54.561234Z",
     "iopub.status.busy": "2023-01-31T01:24:54.560742Z",
     "iopub.status.idle": "2023-01-31T01:24:54.579330Z",
     "shell.execute_reply": "2023-01-31T01:24:54.577727Z"
    },
    "papermill": {
     "duration": 0.035246,
     "end_time": "2023-01-31T01:24:54.582389",
     "exception": false,
     "start_time": "2023-01-31T01:24:54.547143",
     "status": "completed"
    },
    "tags": []
   },
   "outputs": [
    {
     "data": {
      "text/plain": [
       "array(['2019-08-01', '2019-09-01', '2019-10-01', '2019-11-01',\n",
       "       '2019-12-01', '2020-01-01', '2020-02-01', '2020-03-01',\n",
       "       '2020-04-01', '2020-05-01', '2020-06-01', '2020-07-01',\n",
       "       '2020-08-01', '2020-09-01', '2020-10-01', '2020-11-01',\n",
       "       '2020-12-01', '2021-01-01', '2021-02-01', '2021-03-01',\n",
       "       '2021-04-01', '2021-05-01', '2021-06-01', '2021-07-01',\n",
       "       '2021-08-01', '2021-09-01', '2021-10-01', '2021-11-01',\n",
       "       '2021-12-01', '2022-01-01', '2022-02-01', '2022-03-01',\n",
       "       '2022-04-01', '2022-05-01', '2022-06-01', '2022-07-01',\n",
       "       '2022-08-01', '2022-09-01', '2022-10-01'], dtype=object)"
      ]
     },
     "execution_count": 10,
     "metadata": {},
     "output_type": "execute_result"
    }
   ],
   "source": [
    "df_Train.first_day_of_month.unique()"
   ]
  },
  {
   "cell_type": "markdown",
   "id": "153e5772",
   "metadata": {
    "papermill": {
     "duration": 0.010813,
     "end_time": "2023-01-31T01:24:54.604815",
     "exception": false,
     "start_time": "2023-01-31T01:24:54.594002",
     "status": "completed"
    },
    "tags": []
   },
   "source": [
    "Train dataset spans from August 2019 through October 2022."
   ]
  },
  {
   "cell_type": "code",
   "execution_count": 11,
   "id": "c279b316",
   "metadata": {
    "execution": {
     "iopub.execute_input": "2023-01-31T01:24:54.627407Z",
     "iopub.status.busy": "2023-01-31T01:24:54.626862Z",
     "iopub.status.idle": "2023-01-31T01:24:54.664774Z",
     "shell.execute_reply": "2023-01-31T01:24:54.662409Z"
    },
    "papermill": {
     "duration": 0.053208,
     "end_time": "2023-01-31T01:24:54.668374",
     "exception": false,
     "start_time": "2023-01-31T01:24:54.615166",
     "status": "completed"
    },
    "tags": []
   },
   "outputs": [
    {
     "name": "stdout",
     "output_type": "stream",
     "text": [
      "The number of states: 51\n",
      "The minimum date given for the train dataset: 2019-08-01\n",
      "The maximum date given for the train dataset: 2022-10-01\n"
     ]
    }
   ],
   "source": [
    "print('The number of states:', df_Train['state'].nunique())\n",
    "print('The minimum date given for the train dataset:',  df_Train['first_day_of_month'].min())\n",
    "print('The maximum date given for the train dataset:',  df_Train['first_day_of_month'].max())"
   ]
  },
  {
   "cell_type": "markdown",
   "id": "f9c1ae80",
   "metadata": {
    "execution": {
     "iopub.execute_input": "2023-01-24T00:21:17.129874Z",
     "iopub.status.busy": "2023-01-24T00:21:17.129445Z"
    },
    "papermill": {
     "duration": 0.009982,
     "end_time": "2023-01-31T01:24:54.689439",
     "exception": false,
     "start_time": "2023-01-31T01:24:54.679457",
     "status": "completed"
    },
    "tags": []
   },
   "source": [
    "## What number of cfips are there?\n",
    "Let's now investigate the cfips data."
   ]
  },
  {
   "cell_type": "code",
   "execution_count": 12,
   "id": "e20e43ee",
   "metadata": {
    "execution": {
     "iopub.execute_input": "2023-01-31T01:24:54.714066Z",
     "iopub.status.busy": "2023-01-31T01:24:54.713532Z",
     "iopub.status.idle": "2023-01-31T01:24:54.727287Z",
     "shell.execute_reply": "2023-01-31T01:24:54.725841Z"
    },
    "papermill": {
     "duration": 0.030322,
     "end_time": "2023-01-31T01:24:54.730487",
     "exception": false,
     "start_time": "2023-01-31T01:24:54.700165",
     "status": "completed"
    },
    "tags": []
   },
   "outputs": [
    {
     "data": {
      "text/plain": [
       "(3135, 3135, 3142)"
      ]
     },
     "execution_count": 12,
     "metadata": {},
     "output_type": "execute_result"
    }
   ],
   "source": [
    "df_Train['cfips'].nunique(), df_Test['cfips'].nunique(), df_Starter['cfips'].nunique()"
   ]
  },
  {
   "cell_type": "markdown",
   "id": "32f5359f",
   "metadata": {
    "papermill": {
     "duration": 0.011312,
     "end_time": "2023-01-31T01:24:54.753213",
     "exception": false,
     "start_time": "2023-01-31T01:24:54.741901",
     "status": "completed"
    },
    "tags": []
   },
   "source": [
    "We have test and train data totaling 3135 cfips.\n",
    "There are 3142 cfips overall (according to census statistics).\n",
    "The train and test datasets do not contain all of the cfips for which we do have census data."
   ]
  },
  {
   "cell_type": "markdown",
   "id": "a3449ace",
   "metadata": {
    "papermill": {
     "duration": 0.010631,
     "end_time": "2023-01-31T01:24:54.775347",
     "exception": false,
     "start_time": "2023-01-31T01:24:54.764716",
     "status": "completed"
    },
    "tags": []
   },
   "source": [
    "## Data Cleaning"
   ]
  },
  {
   "cell_type": "code",
   "execution_count": 13,
   "id": "7cfeacc7",
   "metadata": {
    "execution": {
     "iopub.execute_input": "2023-01-31T01:24:54.799095Z",
     "iopub.status.busy": "2023-01-31T01:24:54.798649Z",
     "iopub.status.idle": "2023-01-31T01:24:54.806314Z",
     "shell.execute_reply": "2023-01-31T01:24:54.804530Z"
    },
    "papermill": {
     "duration": 0.023282,
     "end_time": "2023-01-31T01:24:54.809090",
     "exception": false,
     "start_time": "2023-01-31T01:24:54.785808",
     "status": "completed"
    },
    "tags": []
   },
   "outputs": [],
   "source": [
    "#function to seperate the first day of the month from the cfips\n",
    "def get_first_day_of_month(item):\n",
    "    item = item.split('_')[1]\n",
    "    return item\n",
    "\n",
    "def get_cfips(item):\n",
    "    item = item.split('_')[0]\n",
    "    return item"
   ]
  },
  {
   "cell_type": "code",
   "execution_count": 14,
   "id": "b6d5482b",
   "metadata": {
    "execution": {
     "iopub.execute_input": "2023-01-31T01:24:54.833083Z",
     "iopub.status.busy": "2023-01-31T01:24:54.832609Z",
     "iopub.status.idle": "2023-01-31T01:24:54.867459Z",
     "shell.execute_reply": "2023-01-31T01:24:54.866454Z"
    },
    "papermill": {
     "duration": 0.051456,
     "end_time": "2023-01-31T01:24:54.871216",
     "exception": false,
     "start_time": "2023-01-31T01:24:54.819760",
     "status": "completed"
    },
    "tags": []
   },
   "outputs": [],
   "source": [
    "#applying the defined function\n",
    "df_Sub['first_day_of_month'] = df_Sub['row_id'].apply(get_first_day_of_month)\n",
    "df_Sub['cfips'] = df_Sub['row_id'].apply(get_cfips)"
   ]
  },
  {
   "cell_type": "code",
   "execution_count": 15,
   "id": "d5b9c30a",
   "metadata": {
    "execution": {
     "iopub.execute_input": "2023-01-31T01:24:54.895457Z",
     "iopub.status.busy": "2023-01-31T01:24:54.894768Z",
     "iopub.status.idle": "2023-01-31T01:24:54.942911Z",
     "shell.execute_reply": "2023-01-31T01:24:54.941535Z"
    },
    "papermill": {
     "duration": 0.063879,
     "end_time": "2023-01-31T01:24:54.946084",
     "exception": false,
     "start_time": "2023-01-31T01:24:54.882205",
     "status": "completed"
    },
    "tags": []
   },
   "outputs": [],
   "source": [
    "#converting the date to datetime\n",
    "df_Test['first_day_of_month'] = pd.to_datetime(df_Test['first_day_of_month'])\n",
    "df_Train['first_day_of_month'] = pd.to_datetime(df_Train['first_day_of_month'])\n",
    "df_Sub['first_day_of_month'] = pd.to_datetime(df_Sub['first_day_of_month'])"
   ]
  },
  {
   "cell_type": "code",
   "execution_count": 16,
   "id": "651449f5",
   "metadata": {
    "execution": {
     "iopub.execute_input": "2023-01-31T01:24:54.970168Z",
     "iopub.status.busy": "2023-01-31T01:24:54.969684Z",
     "iopub.status.idle": "2023-01-31T01:24:55.005155Z",
     "shell.execute_reply": "2023-01-31T01:24:55.003963Z"
    },
    "papermill": {
     "duration": 0.052023,
     "end_time": "2023-01-31T01:24:55.008496",
     "exception": false,
     "start_time": "2023-01-31T01:24:54.956473",
     "status": "completed"
    },
    "tags": []
   },
   "outputs": [],
   "source": [
    "# train['first_day_of_month'] = pd.to_datetime(train['first_day_of_month'])\n",
    "# train = train.sort_values(['cfips','first_day_of_month']).reset_index(drop=True)\n",
    "\n",
    "df_Train['year'] = df_Train['first_day_of_month'].dt.year\n",
    "df_Train['month'] = df_Train['first_day_of_month'].dt.month"
   ]
  },
  {
   "cell_type": "code",
   "execution_count": 17,
   "id": "3b3ec1f3",
   "metadata": {
    "execution": {
     "iopub.execute_input": "2023-01-31T01:24:55.032836Z",
     "iopub.status.busy": "2023-01-31T01:24:55.032390Z",
     "iopub.status.idle": "2023-01-31T01:24:55.069709Z",
     "shell.execute_reply": "2023-01-31T01:24:55.068298Z"
    },
    "papermill": {
     "duration": 0.053147,
     "end_time": "2023-01-31T01:24:55.073013",
     "exception": false,
     "start_time": "2023-01-31T01:24:55.019866",
     "status": "completed"
    },
    "tags": []
   },
   "outputs": [],
   "source": [
    "#dropping the `row_id` column\n",
    "df_Test.drop(['row_id'],axis = 1, inplace = True)\n",
    "df_Train.drop(['row_id'],axis = 1, inplace = True)\n",
    "df_Sub.drop(['row_id'],axis = 1, inplace = True)"
   ]
  },
  {
   "cell_type": "code",
   "execution_count": 18,
   "id": "d462c6f7",
   "metadata": {
    "execution": {
     "iopub.execute_input": "2023-01-31T01:24:55.096914Z",
     "iopub.status.busy": "2023-01-31T01:24:55.096390Z",
     "iopub.status.idle": "2023-01-31T01:24:55.242931Z",
     "shell.execute_reply": "2023-01-31T01:24:55.241891Z"
    },
    "papermill": {
     "duration": 0.161062,
     "end_time": "2023-01-31T01:24:55.245526",
     "exception": false,
     "start_time": "2023-01-31T01:24:55.084464",
     "status": "completed"
    },
    "tags": []
   },
   "outputs": [
    {
     "data": {
      "text/html": [
       "<div>\n",
       "<style scoped>\n",
       "    .dataframe tbody tr th:only-of-type {\n",
       "        vertical-align: middle;\n",
       "    }\n",
       "\n",
       "    .dataframe tbody tr th {\n",
       "        vertical-align: top;\n",
       "    }\n",
       "\n",
       "    .dataframe thead th {\n",
       "        text-align: right;\n",
       "    }\n",
       "</style>\n",
       "<table border=\"1\" class=\"dataframe\">\n",
       "  <thead>\n",
       "    <tr style=\"text-align: right;\">\n",
       "      <th></th>\n",
       "      <th>cfips</th>\n",
       "      <th>county</th>\n",
       "      <th>state</th>\n",
       "      <th>first_day_of_month</th>\n",
       "      <th>microbusiness_density</th>\n",
       "      <th>active</th>\n",
       "      <th>year</th>\n",
       "      <th>month</th>\n",
       "      <th>pct_bb_2017</th>\n",
       "      <th>pct_bb_2018</th>\n",
       "      <th>...</th>\n",
       "      <th>pct_it_workers_2017</th>\n",
       "      <th>pct_it_workers_2018</th>\n",
       "      <th>pct_it_workers_2019</th>\n",
       "      <th>pct_it_workers_2020</th>\n",
       "      <th>pct_it_workers_2021</th>\n",
       "      <th>median_hh_inc_2017</th>\n",
       "      <th>median_hh_inc_2018</th>\n",
       "      <th>median_hh_inc_2019</th>\n",
       "      <th>median_hh_inc_2020</th>\n",
       "      <th>median_hh_inc_2021</th>\n",
       "    </tr>\n",
       "  </thead>\n",
       "  <tbody>\n",
       "    <tr>\n",
       "      <th>0</th>\n",
       "      <td>1001</td>\n",
       "      <td>Autauga County</td>\n",
       "      <td>Alabama</td>\n",
       "      <td>2019-08-01</td>\n",
       "      <td>3.007682</td>\n",
       "      <td>1249</td>\n",
       "      <td>2019</td>\n",
       "      <td>8</td>\n",
       "      <td>76.6</td>\n",
       "      <td>78.9</td>\n",
       "      <td>...</td>\n",
       "      <td>1.3</td>\n",
       "      <td>1.1</td>\n",
       "      <td>0.7</td>\n",
       "      <td>0.6</td>\n",
       "      <td>1.1</td>\n",
       "      <td>55317</td>\n",
       "      <td>58786.0</td>\n",
       "      <td>58731</td>\n",
       "      <td>57982.0</td>\n",
       "      <td>62660.0</td>\n",
       "    </tr>\n",
       "    <tr>\n",
       "      <th>1</th>\n",
       "      <td>1001</td>\n",
       "      <td>Autauga County</td>\n",
       "      <td>Alabama</td>\n",
       "      <td>2019-09-01</td>\n",
       "      <td>2.884870</td>\n",
       "      <td>1198</td>\n",
       "      <td>2019</td>\n",
       "      <td>9</td>\n",
       "      <td>76.6</td>\n",
       "      <td>78.9</td>\n",
       "      <td>...</td>\n",
       "      <td>1.3</td>\n",
       "      <td>1.1</td>\n",
       "      <td>0.7</td>\n",
       "      <td>0.6</td>\n",
       "      <td>1.1</td>\n",
       "      <td>55317</td>\n",
       "      <td>58786.0</td>\n",
       "      <td>58731</td>\n",
       "      <td>57982.0</td>\n",
       "      <td>62660.0</td>\n",
       "    </tr>\n",
       "  </tbody>\n",
       "</table>\n",
       "<p>2 rows × 33 columns</p>\n",
       "</div>"
      ],
      "text/plain": [
       "   cfips          county    state first_day_of_month  microbusiness_density  \\\n",
       "0   1001  Autauga County  Alabama         2019-08-01               3.007682   \n",
       "1   1001  Autauga County  Alabama         2019-09-01               2.884870   \n",
       "\n",
       "   active  year  month  pct_bb_2017  pct_bb_2018  ...  pct_it_workers_2017  \\\n",
       "0    1249  2019      8         76.6         78.9  ...                  1.3   \n",
       "1    1198  2019      9         76.6         78.9  ...                  1.3   \n",
       "\n",
       "   pct_it_workers_2018  pct_it_workers_2019  pct_it_workers_2020  \\\n",
       "0                  1.1                  0.7                  0.6   \n",
       "1                  1.1                  0.7                  0.6   \n",
       "\n",
       "   pct_it_workers_2021  median_hh_inc_2017  median_hh_inc_2018  \\\n",
       "0                  1.1               55317             58786.0   \n",
       "1                  1.1               55317             58786.0   \n",
       "\n",
       "   median_hh_inc_2019  median_hh_inc_2020  median_hh_inc_2021  \n",
       "0               58731             57982.0             62660.0  \n",
       "1               58731             57982.0             62660.0  \n",
       "\n",
       "[2 rows x 33 columns]"
      ]
     },
     "execution_count": 18,
     "metadata": {},
     "output_type": "execute_result"
    }
   ],
   "source": [
    "#merging the dataset \n",
    "df_trainMerged = df_Train.merge(df_Starter, on = 'cfips', how = 'left')\n",
    "df_trainMerged.head(2)"
   ]
  },
  {
   "cell_type": "code",
   "execution_count": 19,
   "id": "e66d1d07",
   "metadata": {
    "execution": {
     "iopub.execute_input": "2023-01-31T01:24:55.270140Z",
     "iopub.status.busy": "2023-01-31T01:24:55.268889Z",
     "iopub.status.idle": "2023-01-31T01:24:55.303800Z",
     "shell.execute_reply": "2023-01-31T01:24:55.302555Z"
    },
    "papermill": {
     "duration": 0.050497,
     "end_time": "2023-01-31T01:24:55.306714",
     "exception": false,
     "start_time": "2023-01-31T01:24:55.256217",
     "status": "completed"
    },
    "tags": []
   },
   "outputs": [
    {
     "data": {
      "text/plain": [
       "cfips                     0\n",
       "county                    0\n",
       "state                     0\n",
       "first_day_of_month        0\n",
       "microbusiness_density     0\n",
       "active                    0\n",
       "year                      0\n",
       "month                     0\n",
       "pct_bb_2017               0\n",
       "pct_bb_2018               0\n",
       "pct_bb_2019               0\n",
       "pct_bb_2020               0\n",
       "pct_bb_2021               0\n",
       "pct_college_2017          0\n",
       "pct_college_2018          0\n",
       "pct_college_2019          0\n",
       "pct_college_2020          0\n",
       "pct_college_2021          0\n",
       "pct_foreign_born_2017     0\n",
       "pct_foreign_born_2018     0\n",
       "pct_foreign_born_2019     0\n",
       "pct_foreign_born_2020     0\n",
       "pct_foreign_born_2021     0\n",
       "pct_it_workers_2017       0\n",
       "pct_it_workers_2018      39\n",
       "pct_it_workers_2019       0\n",
       "pct_it_workers_2020       0\n",
       "pct_it_workers_2021       0\n",
       "median_hh_inc_2017        0\n",
       "median_hh_inc_2018       39\n",
       "median_hh_inc_2019        0\n",
       "median_hh_inc_2020       39\n",
       "median_hh_inc_2021       39\n",
       "dtype: int64"
      ]
     },
     "execution_count": 19,
     "metadata": {},
     "output_type": "execute_result"
    }
   ],
   "source": [
    "#after merging, we can see that some columns now have null values which needs to be cleaned up\n",
    "df_trainMerged.isna().sum()"
   ]
  },
  {
   "cell_type": "code",
   "execution_count": 20,
   "id": "ae094d55",
   "metadata": {
    "execution": {
     "iopub.execute_input": "2023-01-31T01:24:55.331024Z",
     "iopub.status.busy": "2023-01-31T01:24:55.330528Z",
     "iopub.status.idle": "2023-01-31T01:24:55.402243Z",
     "shell.execute_reply": "2023-01-31T01:24:55.400348Z"
    },
    "papermill": {
     "duration": 0.087302,
     "end_time": "2023-01-31T01:24:55.405368",
     "exception": false,
     "start_time": "2023-01-31T01:24:55.318066",
     "status": "completed"
    },
    "tags": []
   },
   "outputs": [
    {
     "data": {
      "text/html": [
       "<div>\n",
       "<style scoped>\n",
       "    .dataframe tbody tr th:only-of-type {\n",
       "        vertical-align: middle;\n",
       "    }\n",
       "\n",
       "    .dataframe tbody tr th {\n",
       "        vertical-align: top;\n",
       "    }\n",
       "\n",
       "    .dataframe thead th {\n",
       "        text-align: right;\n",
       "    }\n",
       "</style>\n",
       "<table border=\"1\" class=\"dataframe\">\n",
       "  <thead>\n",
       "    <tr style=\"text-align: right;\">\n",
       "      <th></th>\n",
       "      <th>cfips</th>\n",
       "      <th>county</th>\n",
       "      <th>state</th>\n",
       "      <th>first_day_of_month</th>\n",
       "      <th>microbusiness_density</th>\n",
       "      <th>active</th>\n",
       "      <th>year</th>\n",
       "      <th>month</th>\n",
       "      <th>pct_bb_2017</th>\n",
       "      <th>pct_bb_2018</th>\n",
       "      <th>...</th>\n",
       "      <th>pct_it_workers_2017</th>\n",
       "      <th>pct_it_workers_2018</th>\n",
       "      <th>pct_it_workers_2019</th>\n",
       "      <th>pct_it_workers_2020</th>\n",
       "      <th>pct_it_workers_2021</th>\n",
       "      <th>median_hh_inc_2017</th>\n",
       "      <th>median_hh_inc_2018</th>\n",
       "      <th>median_hh_inc_2019</th>\n",
       "      <th>median_hh_inc_2020</th>\n",
       "      <th>median_hh_inc_2021</th>\n",
       "    </tr>\n",
       "  </thead>\n",
       "  <tbody>\n",
       "    <tr>\n",
       "      <th>70707</th>\n",
       "      <td>35039</td>\n",
       "      <td>Rio Arriba County</td>\n",
       "      <td>New Mexico</td>\n",
       "      <td>2019-08-01</td>\n",
       "      <td>2.472180</td>\n",
       "      <td>742</td>\n",
       "      <td>2019</td>\n",
       "      <td>8</td>\n",
       "      <td>49.1</td>\n",
       "      <td>52.1</td>\n",
       "      <td>...</td>\n",
       "      <td>0.8</td>\n",
       "      <td>NaN</td>\n",
       "      <td>0.8</td>\n",
       "      <td>0.4</td>\n",
       "      <td>0.7</td>\n",
       "      <td>33422</td>\n",
       "      <td>NaN</td>\n",
       "      <td>39952</td>\n",
       "      <td>42264.0</td>\n",
       "      <td>46994.0</td>\n",
       "    </tr>\n",
       "    <tr>\n",
       "      <th>70708</th>\n",
       "      <td>35039</td>\n",
       "      <td>Rio Arriba County</td>\n",
       "      <td>New Mexico</td>\n",
       "      <td>2019-09-01</td>\n",
       "      <td>2.458852</td>\n",
       "      <td>738</td>\n",
       "      <td>2019</td>\n",
       "      <td>9</td>\n",
       "      <td>49.1</td>\n",
       "      <td>52.1</td>\n",
       "      <td>...</td>\n",
       "      <td>0.8</td>\n",
       "      <td>NaN</td>\n",
       "      <td>0.8</td>\n",
       "      <td>0.4</td>\n",
       "      <td>0.7</td>\n",
       "      <td>33422</td>\n",
       "      <td>NaN</td>\n",
       "      <td>39952</td>\n",
       "      <td>42264.0</td>\n",
       "      <td>46994.0</td>\n",
       "    </tr>\n",
       "  </tbody>\n",
       "</table>\n",
       "<p>2 rows × 33 columns</p>\n",
       "</div>"
      ],
      "text/plain": [
       "       cfips             county       state first_day_of_month  \\\n",
       "70707  35039  Rio Arriba County  New Mexico         2019-08-01   \n",
       "70708  35039  Rio Arriba County  New Mexico         2019-09-01   \n",
       "\n",
       "       microbusiness_density  active  year  month  pct_bb_2017  pct_bb_2018  \\\n",
       "70707               2.472180     742  2019      8         49.1         52.1   \n",
       "70708               2.458852     738  2019      9         49.1         52.1   \n",
       "\n",
       "       ...  pct_it_workers_2017  pct_it_workers_2018  pct_it_workers_2019  \\\n",
       "70707  ...                  0.8                  NaN                  0.8   \n",
       "70708  ...                  0.8                  NaN                  0.8   \n",
       "\n",
       "       pct_it_workers_2020  pct_it_workers_2021  median_hh_inc_2017  \\\n",
       "70707                  0.4                  0.7               33422   \n",
       "70708                  0.4                  0.7               33422   \n",
       "\n",
       "       median_hh_inc_2018  median_hh_inc_2019  median_hh_inc_2020  \\\n",
       "70707                 NaN               39952             42264.0   \n",
       "70708                 NaN               39952             42264.0   \n",
       "\n",
       "       median_hh_inc_2021  \n",
       "70707             46994.0  \n",
       "70708             46994.0  \n",
       "\n",
       "[2 rows x 33 columns]"
      ]
     },
     "execution_count": 20,
     "metadata": {},
     "output_type": "execute_result"
    }
   ],
   "source": [
    "#sample is the df_trainMerged['pct_bb_2018']column which we can also view below\n",
    "df_null = df_trainMerged[df_trainMerged['pct_it_workers_2018'].isnull()]\n",
    "df_null.head(2)"
   ]
  },
  {
   "cell_type": "code",
   "execution_count": 21,
   "id": "dec81977",
   "metadata": {
    "execution": {
     "iopub.execute_input": "2023-01-31T01:24:55.433624Z",
     "iopub.status.busy": "2023-01-31T01:24:55.430853Z",
     "iopub.status.idle": "2023-01-31T01:24:56.051900Z",
     "shell.execute_reply": "2023-01-31T01:24:56.050049Z"
    },
    "papermill": {
     "duration": 0.638249,
     "end_time": "2023-01-31T01:24:56.054942",
     "exception": false,
     "start_time": "2023-01-31T01:24:55.416693",
     "status": "completed"
    },
    "tags": []
   },
   "outputs": [
    {
     "data": {
      "image/png": "[encoded data removed]",
      "text/plain": [
       "<Figure size 432x432 with 4 Axes>"
      ]
     },
     "metadata": {
      "needs_background": "light"
     },
     "output_type": "display_data"
    }
   ],
   "source": [
    "data1 = df_trainMerged[['pct_it_workers_2018','median_hh_inc_2018', 'median_hh_inc_2020', 'median_hh_inc_2021']]\n",
    "data1.hist(bins = 5, figsize=(6,6))\n",
    "plt.show()"
   ]
  },
  {
   "cell_type": "markdown",
   "id": "168827d0",
   "metadata": {
    "execution": {
     "iopub.execute_input": "2023-01-31T00:04:41.342232Z",
     "iopub.status.busy": "2023-01-31T00:04:41.341401Z",
     "iopub.status.idle": "2023-01-31T00:04:41.360403Z",
     "shell.execute_reply": "2023-01-31T00:04:41.358858Z",
     "shell.execute_reply.started": "2023-01-31T00:04:41.342181Z"
    },
    "papermill": {
     "duration": 0.013085,
     "end_time": "2023-01-31T01:24:56.079936",
     "exception": false,
     "start_time": "2023-01-31T01:24:56.066851",
     "status": "completed"
    },
    "tags": []
   },
   "source": [
    "The null columns are skewed to the left they are also numerical, therfore, I would be  using the median value for replacing the missing values.\n"
   ]
  },
  {
   "cell_type": "code",
   "execution_count": 22,
   "id": "f9906244",
   "metadata": {
    "execution": {
     "iopub.execute_input": "2023-01-31T01:24:56.105655Z",
     "iopub.status.busy": "2023-01-31T01:24:56.105009Z",
     "iopub.status.idle": "2023-01-31T01:24:56.130361Z",
     "shell.execute_reply": "2023-01-31T01:24:56.128860Z"
    },
    "papermill": {
     "duration": 0.041645,
     "end_time": "2023-01-31T01:24:56.133503",
     "exception": false,
     "start_time": "2023-01-31T01:24:56.091858",
     "status": "completed"
    },
    "tags": []
   },
   "outputs": [],
   "source": [
    "#filling the null values with the median\n",
    "df_trainMerged['pct_it_workers_2018']= df_trainMerged['pct_it_workers_2018'].fillna(df_trainMerged['pct_it_workers_2018'].median())\n",
    "df_trainMerged['median_hh_inc_2018']= df_trainMerged['median_hh_inc_2018'].fillna(df_trainMerged['median_hh_inc_2018'].median())\n",
    "df_trainMerged['median_hh_inc_2020']= df_trainMerged['median_hh_inc_2020'].fillna(df_trainMerged['median_hh_inc_2020'].median())\n",
    "df_trainMerged['median_hh_inc_2021']= df_trainMerged['median_hh_inc_2021'].fillna(df_trainMerged['median_hh_inc_2021'].median())"
   ]
  },
  {
   "cell_type": "markdown",
   "id": "7a3e08b8",
   "metadata": {
    "papermill": {
     "duration": 0.011456,
     "end_time": "2023-01-31T01:24:56.157892",
     "exception": false,
     "start_time": "2023-01-31T01:24:56.146436",
     "status": "completed"
    },
    "tags": []
   },
   "source": [
    "## Exploratory Data Analysis"
   ]
  },
  {
   "cell_type": "markdown",
   "id": "f88a43a9",
   "metadata": {
    "papermill": {
     "duration": 0.011276,
     "end_time": "2023-01-31T01:24:56.181186",
     "exception": false,
     "start_time": "2023-01-31T01:24:56.169910",
     "status": "completed"
    },
    "tags": []
   },
   "source": [
    "### The top 10 counties according to their counts"
   ]
  },
  {
   "cell_type": "code",
   "execution_count": 23,
   "id": "c76b47fd",
   "metadata": {
    "execution": {
     "iopub.execute_input": "2023-01-31T01:24:56.206503Z",
     "iopub.status.busy": "2023-01-31T01:24:56.205925Z",
     "iopub.status.idle": "2023-01-31T01:24:56.242577Z",
     "shell.execute_reply": "2023-01-31T01:24:56.241061Z"
    },
    "papermill": {
     "duration": 0.052749,
     "end_time": "2023-01-31T01:24:56.245444",
     "exception": false,
     "start_time": "2023-01-31T01:24:56.192695",
     "status": "completed"
    },
    "tags": []
   },
   "outputs": [
    {
     "data": {
      "text/html": [
       "<div>\n",
       "<style scoped>\n",
       "    .dataframe tbody tr th:only-of-type {\n",
       "        vertical-align: middle;\n",
       "    }\n",
       "\n",
       "    .dataframe tbody tr th {\n",
       "        vertical-align: top;\n",
       "    }\n",
       "\n",
       "    .dataframe thead th {\n",
       "        text-align: right;\n",
       "    }\n",
       "</style>\n",
       "<table border=\"1\" class=\"dataframe\">\n",
       "  <thead>\n",
       "    <tr style=\"text-align: right;\">\n",
       "      <th></th>\n",
       "      <th>county</th>\n",
       "      <th>counts</th>\n",
       "    </tr>\n",
       "  </thead>\n",
       "  <tbody>\n",
       "    <tr>\n",
       "      <th>0</th>\n",
       "      <td>Washington County</td>\n",
       "      <td>1170</td>\n",
       "    </tr>\n",
       "    <tr>\n",
       "      <th>1</th>\n",
       "      <td>Jefferson County</td>\n",
       "      <td>975</td>\n",
       "    </tr>\n",
       "    <tr>\n",
       "      <th>2</th>\n",
       "      <td>Franklin County</td>\n",
       "      <td>936</td>\n",
       "    </tr>\n",
       "    <tr>\n",
       "      <th>3</th>\n",
       "      <td>Lincoln County</td>\n",
       "      <td>897</td>\n",
       "    </tr>\n",
       "    <tr>\n",
       "      <th>4</th>\n",
       "      <td>Jackson County</td>\n",
       "      <td>897</td>\n",
       "    </tr>\n",
       "    <tr>\n",
       "      <th>5</th>\n",
       "      <td>Madison County</td>\n",
       "      <td>741</td>\n",
       "    </tr>\n",
       "    <tr>\n",
       "      <th>6</th>\n",
       "      <td>Montgomery County</td>\n",
       "      <td>702</td>\n",
       "    </tr>\n",
       "    <tr>\n",
       "      <th>7</th>\n",
       "      <td>Clay County</td>\n",
       "      <td>702</td>\n",
       "    </tr>\n",
       "    <tr>\n",
       "      <th>8</th>\n",
       "      <td>Marion County</td>\n",
       "      <td>663</td>\n",
       "    </tr>\n",
       "    <tr>\n",
       "      <th>9</th>\n",
       "      <td>Monroe County</td>\n",
       "      <td>663</td>\n",
       "    </tr>\n",
       "  </tbody>\n",
       "</table>\n",
       "</div>"
      ],
      "text/plain": [
       "              county  counts\n",
       "0  Washington County    1170\n",
       "1   Jefferson County     975\n",
       "2    Franklin County     936\n",
       "3     Lincoln County     897\n",
       "4     Jackson County     897\n",
       "5     Madison County     741\n",
       "6  Montgomery County     702\n",
       "7        Clay County     702\n",
       "8      Marion County     663\n",
       "9      Monroe County     663"
      ]
     },
     "execution_count": 23,
     "metadata": {},
     "output_type": "execute_result"
    }
   ],
   "source": [
    "#grouping the country based on their count in a descending order\n",
    "top_county = df_trainMerged['county'].groupby(df_trainMerged['county']).size().sort_values(ascending = False)\n",
    "top_county = top_county.reset_index(name='counts')\n",
    "top_county.head(10)"
   ]
  },
  {
   "cell_type": "code",
   "execution_count": 24,
   "id": "877fd82e",
   "metadata": {
    "execution": {
     "iopub.execute_input": "2023-01-31T01:24:56.272724Z",
     "iopub.status.busy": "2023-01-31T01:24:56.272199Z",
     "iopub.status.idle": "2023-01-31T01:24:56.577348Z",
     "shell.execute_reply": "2023-01-31T01:24:56.575620Z"
    },
    "papermill": {
     "duration": 0.322659,
     "end_time": "2023-01-31T01:24:56.580670",
     "exception": false,
     "start_time": "2023-01-31T01:24:56.258011",
     "status": "completed"
    },
    "tags": []
   },
   "outputs": [
    {
     "data": {
      "image/png": "[encoded data removed]",
      "text/plain": [
       "<Figure size 576x432 with 1 Axes>"
      ]
     },
     "metadata": {
      "needs_background": "light"
     },
     "output_type": "display_data"
    }
   ],
   "source": [
    "plt.figure(figsize = (8,6))\n",
    "sns.barplot(y ='county', x = 'counts', data = top_county.head(10), linewidth = 2,  palette ='Blues_r' )\n",
    "plt.xticks(rotation = 30, ha='right')\n",
    "plt.title('top 10 countries based on their counts')\n",
    "plt.show()"
   ]
  },
  {
   "cell_type": "markdown",
   "id": "2bcafe62",
   "metadata": {
    "execution": {
     "iopub.status.busy": "2023-01-30T23:47:40.571470Z"
    },
    "papermill": {
     "duration": 0.011816,
     "end_time": "2023-01-31T01:24:56.605324",
     "exception": false,
     "start_time": "2023-01-31T01:24:56.593508",
     "status": "completed"
    },
    "tags": []
   },
   "source": [
    "### The top 10 county based on their microdensities"
   ]
  },
  {
   "cell_type": "code",
   "execution_count": 25,
   "id": "30a46761",
   "metadata": {
    "execution": {
     "iopub.execute_input": "2023-01-31T01:24:56.632652Z",
     "iopub.status.busy": "2023-01-31T01:24:56.631159Z",
     "iopub.status.idle": "2023-01-31T01:24:56.666221Z",
     "shell.execute_reply": "2023-01-31T01:24:56.664377Z"
    },
    "papermill": {
     "duration": 0.051915,
     "end_time": "2023-01-31T01:24:56.669329",
     "exception": false,
     "start_time": "2023-01-31T01:24:56.617414",
     "status": "completed"
    },
    "tags": []
   },
   "outputs": [
    {
     "data": {
      "text/html": [
       "<div>\n",
       "<style scoped>\n",
       "    .dataframe tbody tr th:only-of-type {\n",
       "        vertical-align: middle;\n",
       "    }\n",
       "\n",
       "    .dataframe tbody tr th {\n",
       "        vertical-align: top;\n",
       "    }\n",
       "\n",
       "    .dataframe thead th {\n",
       "        text-align: right;\n",
       "    }\n",
       "</style>\n",
       "<table border=\"1\" class=\"dataframe\">\n",
       "  <thead>\n",
       "    <tr style=\"text-align: right;\">\n",
       "      <th></th>\n",
       "      <th>county</th>\n",
       "      <th>microbusiness_density</th>\n",
       "    </tr>\n",
       "  </thead>\n",
       "  <tbody>\n",
       "    <tr>\n",
       "      <th>0</th>\n",
       "      <td>Carson City</td>\n",
       "      <td>87.196625</td>\n",
       "    </tr>\n",
       "    <tr>\n",
       "      <th>1</th>\n",
       "      <td>Rio Grande County</td>\n",
       "      <td>60.942899</td>\n",
       "    </tr>\n",
       "    <tr>\n",
       "      <th>2</th>\n",
       "      <td>Boundary County</td>\n",
       "      <td>46.730638</td>\n",
       "    </tr>\n",
       "    <tr>\n",
       "      <th>3</th>\n",
       "      <td>New York County</td>\n",
       "      <td>32.892037</td>\n",
       "    </tr>\n",
       "    <tr>\n",
       "      <th>4</th>\n",
       "      <td>Minnehaha County</td>\n",
       "      <td>32.261295</td>\n",
       "    </tr>\n",
       "    <tr>\n",
       "      <th>5</th>\n",
       "      <td>Transylvania County</td>\n",
       "      <td>28.956531</td>\n",
       "    </tr>\n",
       "    <tr>\n",
       "      <th>6</th>\n",
       "      <td>Pitkin County</td>\n",
       "      <td>27.567022</td>\n",
       "    </tr>\n",
       "    <tr>\n",
       "      <th>7</th>\n",
       "      <td>Falls Church city</td>\n",
       "      <td>22.216376</td>\n",
       "    </tr>\n",
       "    <tr>\n",
       "      <th>8</th>\n",
       "      <td>Tulsa County</td>\n",
       "      <td>22.156203</td>\n",
       "    </tr>\n",
       "    <tr>\n",
       "      <th>9</th>\n",
       "      <td>Alachua County</td>\n",
       "      <td>21.545587</td>\n",
       "    </tr>\n",
       "  </tbody>\n",
       "</table>\n",
       "</div>"
      ],
      "text/plain": [
       "                county  microbusiness_density\n",
       "0          Carson City              87.196625\n",
       "1    Rio Grande County              60.942899\n",
       "2      Boundary County              46.730638\n",
       "3      New York County              32.892037\n",
       "4     Minnehaha County              32.261295\n",
       "5  Transylvania County              28.956531\n",
       "6        Pitkin County              27.567022\n",
       "7    Falls Church city              22.216376\n",
       "8         Tulsa County              22.156203\n",
       "9       Alachua County              21.545587"
      ]
     },
     "execution_count": 25,
     "metadata": {},
     "output_type": "execute_result"
    }
   ],
   "source": [
    "top_countyM = df_trainMerged.groupby('county')['microbusiness_density'].mean().sort_values(ascending=False)\n",
    "top_countyM = top_countyM.reset_index()\n",
    "top_countyM.head(10)"
   ]
  },
  {
   "cell_type": "code",
   "execution_count": 26,
   "id": "41749618",
   "metadata": {
    "execution": {
     "iopub.execute_input": "2023-01-31T01:24:56.698608Z",
     "iopub.status.busy": "2023-01-31T01:24:56.697798Z",
     "iopub.status.idle": "2023-01-31T01:24:56.976704Z",
     "shell.execute_reply": "2023-01-31T01:24:56.974952Z"
    },
    "papermill": {
     "duration": 0.296919,
     "end_time": "2023-01-31T01:24:56.979886",
     "exception": false,
     "start_time": "2023-01-31T01:24:56.682967",
     "status": "completed"
    },
    "tags": []
   },
   "outputs": [
    {
     "data": {
      "image/png": "[encoded data removed]",
      "text/plain": [
       "<Figure size 576x432 with 1 Axes>"
      ]
     },
     "metadata": {
      "needs_background": "light"
     },
     "output_type": "display_data"
    }
   ],
   "source": [
    "#average microdensitiy countries plot\n",
    "plt.figure(figsize = (8,6))\n",
    "sns.barplot(data = top_countyM.head(10), y = 'county', x = 'microbusiness_density', linewidth = 2,  palette ='mako')\n",
    "plt.xticks(rotation = 30, ha='right')\n",
    "plt.title('top most active countries based on their microdensity')\n",
    "plt.show()"
   ]
  },
  {
   "cell_type": "markdown",
   "id": "123e4e69",
   "metadata": {
    "execution": {
     "iopub.execute_input": "2023-01-30T23:53:07.848365Z",
     "iopub.status.busy": "2023-01-30T23:53:07.847928Z",
     "iopub.status.idle": "2023-01-30T23:53:07.853005Z"
    },
    "papermill": {
     "duration": 0.012929,
     "end_time": "2023-01-31T01:24:57.005859",
     "exception": false,
     "start_time": "2023-01-31T01:24:56.992930",
     "status": "completed"
    },
    "tags": []
   },
   "source": [
    "### The top counties with most active microbusinesses"
   ]
  },
  {
   "cell_type": "code",
   "execution_count": 27,
   "id": "8898fef8",
   "metadata": {
    "execution": {
     "iopub.execute_input": "2023-01-31T01:24:57.036167Z",
     "iopub.status.busy": "2023-01-31T01:24:57.035092Z",
     "iopub.status.idle": "2023-01-31T01:24:57.065944Z",
     "shell.execute_reply": "2023-01-31T01:24:57.064250Z"
    },
    "papermill": {
     "duration": 0.049223,
     "end_time": "2023-01-31T01:24:57.068781",
     "exception": false,
     "start_time": "2023-01-31T01:24:57.019558",
     "status": "completed"
    },
    "tags": []
   },
   "outputs": [
    {
     "data": {
      "text/html": [
       "<div>\n",
       "<style scoped>\n",
       "    .dataframe tbody tr th:only-of-type {\n",
       "        vertical-align: middle;\n",
       "    }\n",
       "\n",
       "    .dataframe tbody tr th {\n",
       "        vertical-align: top;\n",
       "    }\n",
       "\n",
       "    .dataframe thead th {\n",
       "        text-align: right;\n",
       "    }\n",
       "</style>\n",
       "<table border=\"1\" class=\"dataframe\">\n",
       "  <thead>\n",
       "    <tr style=\"text-align: right;\">\n",
       "      <th></th>\n",
       "      <th>county</th>\n",
       "      <th>active</th>\n",
       "    </tr>\n",
       "  </thead>\n",
       "  <tbody>\n",
       "    <tr>\n",
       "      <th>0</th>\n",
       "      <td>Los Angeles County</td>\n",
       "      <td>43842767</td>\n",
       "    </tr>\n",
       "    <tr>\n",
       "      <th>1</th>\n",
       "      <td>Orange County</td>\n",
       "      <td>23266851</td>\n",
       "    </tr>\n",
       "    <tr>\n",
       "      <th>2</th>\n",
       "      <td>Maricopa County</td>\n",
       "      <td>18238217</td>\n",
       "    </tr>\n",
       "    <tr>\n",
       "      <th>3</th>\n",
       "      <td>New York County</td>\n",
       "      <td>17943980</td>\n",
       "    </tr>\n",
       "    <tr>\n",
       "      <th>4</th>\n",
       "      <td>Clark County</td>\n",
       "      <td>15827161</td>\n",
       "    </tr>\n",
       "    <tr>\n",
       "      <th>5</th>\n",
       "      <td>San Diego County</td>\n",
       "      <td>14132392</td>\n",
       "    </tr>\n",
       "    <tr>\n",
       "      <th>6</th>\n",
       "      <td>Cook County</td>\n",
       "      <td>13971074</td>\n",
       "    </tr>\n",
       "    <tr>\n",
       "      <th>7</th>\n",
       "      <td>Miami-Dade County</td>\n",
       "      <td>13859930</td>\n",
       "    </tr>\n",
       "    <tr>\n",
       "      <th>8</th>\n",
       "      <td>Montgomery County</td>\n",
       "      <td>12313737</td>\n",
       "    </tr>\n",
       "    <tr>\n",
       "      <th>9</th>\n",
       "      <td>Harris County</td>\n",
       "      <td>11642363</td>\n",
       "    </tr>\n",
       "  </tbody>\n",
       "</table>\n",
       "</div>"
      ],
      "text/plain": [
       "               county    active\n",
       "0  Los Angeles County  43842767\n",
       "1       Orange County  23266851\n",
       "2     Maricopa County  18238217\n",
       "3     New York County  17943980\n",
       "4        Clark County  15827161\n",
       "5    San Diego County  14132392\n",
       "6         Cook County  13971074\n",
       "7   Miami-Dade County  13859930\n",
       "8   Montgomery County  12313737\n",
       "9       Harris County  11642363"
      ]
     },
     "execution_count": 27,
     "metadata": {},
     "output_type": "execute_result"
    }
   ],
   "source": [
    "#average microdensitiy countries plot\n",
    "active_countyM =  df_trainMerged.groupby('county')['active'].sum().sort_values(ascending=False)\n",
    "active_countyM = active_countyM.reset_index()\n",
    "active_countyM.head(10)"
   ]
  },
  {
   "cell_type": "code",
   "execution_count": 28,
   "id": "57b980ff",
   "metadata": {
    "execution": {
     "iopub.execute_input": "2023-01-31T01:24:57.099138Z",
     "iopub.status.busy": "2023-01-31T01:24:57.097895Z",
     "iopub.status.idle": "2023-01-31T01:24:57.379783Z",
     "shell.execute_reply": "2023-01-31T01:24:57.378494Z"
    },
    "papermill": {
     "duration": 0.300391,
     "end_time": "2023-01-31T01:24:57.382868",
     "exception": false,
     "start_time": "2023-01-31T01:24:57.082477",
     "status": "completed"
    },
    "tags": []
   },
   "outputs": [
    {
     "data": {
      "image/png": "[encoded data removed]",
      "text/plain": [
       "<Figure size 576x432 with 1 Axes>"
      ]
     },
     "metadata": {
      "needs_background": "light"
     },
     "output_type": "display_data"
    }
   ],
   "source": [
    "#average microdensitiy countries plot\n",
    "plt.figure(figsize = (8,6))\n",
    "sns.barplot(data = active_countyM.head(10), y = 'county', x='active', linewidth = 2,  palette ='mako')\n",
    "plt.xticks(rotation = 30, ha='right')\n",
    "plt.title('top counties with the most active microbusinesses')\n",
    "plt.show()"
   ]
  },
  {
   "cell_type": "code",
   "execution_count": null,
   "id": "4ec29463",
   "metadata": {
    "papermill": {
     "duration": 0.014537,
     "end_time": "2023-01-31T01:24:57.411711",
     "exception": false,
     "start_time": "2023-01-31T01:24:57.397174",
     "status": "completed"
    },
    "tags": []
   },
   "outputs": [],
   "source": []
  }
 ],
 "metadata": {
  "kernelspec": {
   "display_name": "Python 3",
   "language": "python",
   "name": "python3"
  },
  "language_info": {
   "codemirror_mode": {
    "name": "ipython",
    "version": 3
   },
   "file_extension": ".py",
   "mimetype": "text/x-python",
   "name": "python",
   "nbconvert_exporter": "python",
   "pygments_lexer": "ipython3",
   "version": "3.7.12"
  },
  "papermill": {
   "default_parameters": {},
   "duration": 17.323955,
   "end_time": "2023-01-31T01:24:58.555714",
   "environment_variables": {},
   "exception": null,
   "input_path": "__notebook__.ipynb",
   "output_path": "__notebook__.ipynb",
   "parameters": {},
   "start_time": "2023-01-31T01:24:41.231759",
   "version": "2.3.4"
  }
 },
 "nbformat": 4,
 "nbformat_minor": 5
}
